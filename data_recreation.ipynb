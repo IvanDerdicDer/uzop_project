{
 "cells": [
  {
   "cell_type": "code",
   "execution_count": 83,
   "outputs": [],
   "source": [
    "import pandas as pd\n",
    "import matplotlib.pyplot as plt"
   ],
   "metadata": {
    "collapsed": false
   }
  },
  {
   "cell_type": "code",
   "execution_count": 3,
   "metadata": {
    "collapsed": true
   },
   "outputs": [
    {
     "data": {
      "text/plain": "      season  daynum  wteam  wscore  lteam  lscore wloc  numot\n0          A      16    511      91    647      57    H    NaN\n1          A      16    515      75    812      67    H    NaN\n2          A      16    606      87    658      67    H    NaN\n3          A      16    670      73    573      65    H    NaN\n4          A      16    721      99    632      68    H    NaN\n...      ...     ...    ...     ...    ...     ...  ...    ...\n91219      S     132    592      61    640      60    N    0.0\n91220      S     132    671      69    670      55    N    0.0\n91221      S     132    779      65    825      61    N    0.0\n91222      S     132    811      82    605      81    N    1.0\n91223      S     132    830      72    577      63    N    0.0\n\n[91224 rows x 8 columns]",
      "text/html": "<div>\n<style scoped>\n    .dataframe tbody tr th:only-of-type {\n        vertical-align: middle;\n    }\n\n    .dataframe tbody tr th {\n        vertical-align: top;\n    }\n\n    .dataframe thead th {\n        text-align: right;\n    }\n</style>\n<table border=\"1\" class=\"dataframe\">\n  <thead>\n    <tr style=\"text-align: right;\">\n      <th></th>\n      <th>season</th>\n      <th>daynum</th>\n      <th>wteam</th>\n      <th>wscore</th>\n      <th>lteam</th>\n      <th>lscore</th>\n      <th>wloc</th>\n      <th>numot</th>\n    </tr>\n  </thead>\n  <tbody>\n    <tr>\n      <th>0</th>\n      <td>A</td>\n      <td>16</td>\n      <td>511</td>\n      <td>91</td>\n      <td>647</td>\n      <td>57</td>\n      <td>H</td>\n      <td>NaN</td>\n    </tr>\n    <tr>\n      <th>1</th>\n      <td>A</td>\n      <td>16</td>\n      <td>515</td>\n      <td>75</td>\n      <td>812</td>\n      <td>67</td>\n      <td>H</td>\n      <td>NaN</td>\n    </tr>\n    <tr>\n      <th>2</th>\n      <td>A</td>\n      <td>16</td>\n      <td>606</td>\n      <td>87</td>\n      <td>658</td>\n      <td>67</td>\n      <td>H</td>\n      <td>NaN</td>\n    </tr>\n    <tr>\n      <th>3</th>\n      <td>A</td>\n      <td>16</td>\n      <td>670</td>\n      <td>73</td>\n      <td>573</td>\n      <td>65</td>\n      <td>H</td>\n      <td>NaN</td>\n    </tr>\n    <tr>\n      <th>4</th>\n      <td>A</td>\n      <td>16</td>\n      <td>721</td>\n      <td>99</td>\n      <td>632</td>\n      <td>68</td>\n      <td>H</td>\n      <td>NaN</td>\n    </tr>\n    <tr>\n      <th>...</th>\n      <td>...</td>\n      <td>...</td>\n      <td>...</td>\n      <td>...</td>\n      <td>...</td>\n      <td>...</td>\n      <td>...</td>\n      <td>...</td>\n    </tr>\n    <tr>\n      <th>91219</th>\n      <td>S</td>\n      <td>132</td>\n      <td>592</td>\n      <td>61</td>\n      <td>640</td>\n      <td>60</td>\n      <td>N</td>\n      <td>0.0</td>\n    </tr>\n    <tr>\n      <th>91220</th>\n      <td>S</td>\n      <td>132</td>\n      <td>671</td>\n      <td>69</td>\n      <td>670</td>\n      <td>55</td>\n      <td>N</td>\n      <td>0.0</td>\n    </tr>\n    <tr>\n      <th>91221</th>\n      <td>S</td>\n      <td>132</td>\n      <td>779</td>\n      <td>65</td>\n      <td>825</td>\n      <td>61</td>\n      <td>N</td>\n      <td>0.0</td>\n    </tr>\n    <tr>\n      <th>91222</th>\n      <td>S</td>\n      <td>132</td>\n      <td>811</td>\n      <td>82</td>\n      <td>605</td>\n      <td>81</td>\n      <td>N</td>\n      <td>1.0</td>\n    </tr>\n    <tr>\n      <th>91223</th>\n      <td>S</td>\n      <td>132</td>\n      <td>830</td>\n      <td>72</td>\n      <td>577</td>\n      <td>63</td>\n      <td>N</td>\n      <td>0.0</td>\n    </tr>\n  </tbody>\n</table>\n<p>91224 rows × 8 columns</p>\n</div>"
     },
     "execution_count": 3,
     "metadata": {},
     "output_type": "execute_result"
    }
   ],
   "source": [
    "regular_season_results_df = pd.read_csv('data/regular_season_results.csv')\n",
    "regular_season_results_df"
   ]
  },
  {
   "cell_type": "code",
   "execution_count": 4,
   "outputs": [
    {
     "data": {
      "text/plain": "     season seed  team\n0         A  W01   663\n1         A  W02   603\n2         A  W03   796\n3         A  W04   660\n4         A  W05   729\n...     ...  ...   ...\n1237      S  Z12   689\n1238      S  Z13   702\n1239      S  Z14   811\n1240      S  Z15   509\n1241      S  Z16   842\n\n[1242 rows x 3 columns]",
      "text/html": "<div>\n<style scoped>\n    .dataframe tbody tr th:only-of-type {\n        vertical-align: middle;\n    }\n\n    .dataframe tbody tr th {\n        vertical-align: top;\n    }\n\n    .dataframe thead th {\n        text-align: right;\n    }\n</style>\n<table border=\"1\" class=\"dataframe\">\n  <thead>\n    <tr style=\"text-align: right;\">\n      <th></th>\n      <th>season</th>\n      <th>seed</th>\n      <th>team</th>\n    </tr>\n  </thead>\n  <tbody>\n    <tr>\n      <th>0</th>\n      <td>A</td>\n      <td>W01</td>\n      <td>663</td>\n    </tr>\n    <tr>\n      <th>1</th>\n      <td>A</td>\n      <td>W02</td>\n      <td>603</td>\n    </tr>\n    <tr>\n      <th>2</th>\n      <td>A</td>\n      <td>W03</td>\n      <td>796</td>\n    </tr>\n    <tr>\n      <th>3</th>\n      <td>A</td>\n      <td>W04</td>\n      <td>660</td>\n    </tr>\n    <tr>\n      <th>4</th>\n      <td>A</td>\n      <td>W05</td>\n      <td>729</td>\n    </tr>\n    <tr>\n      <th>...</th>\n      <td>...</td>\n      <td>...</td>\n      <td>...</td>\n    </tr>\n    <tr>\n      <th>1237</th>\n      <td>S</td>\n      <td>Z12</td>\n      <td>689</td>\n    </tr>\n    <tr>\n      <th>1238</th>\n      <td>S</td>\n      <td>Z13</td>\n      <td>702</td>\n    </tr>\n    <tr>\n      <th>1239</th>\n      <td>S</td>\n      <td>Z14</td>\n      <td>811</td>\n    </tr>\n    <tr>\n      <th>1240</th>\n      <td>S</td>\n      <td>Z15</td>\n      <td>509</td>\n    </tr>\n    <tr>\n      <th>1241</th>\n      <td>S</td>\n      <td>Z16</td>\n      <td>842</td>\n    </tr>\n  </tbody>\n</table>\n<p>1242 rows × 3 columns</p>\n</div>"
     },
     "execution_count": 4,
     "metadata": {},
     "output_type": "execute_result"
    }
   ],
   "source": [
    "tourney_seeds_df = pd.read_csv('data/tourney_seeds.csv')\n",
    "tourney_seeds_df"
   ],
   "metadata": {
    "collapsed": false
   }
  },
  {
   "cell_type": "code",
   "execution_count": 5,
   "outputs": [
    {
     "data": {
      "text/plain": "     season  slot strongseed weakseed\n0         A  R1W1        W01      W16\n1         A  R1W2        W02      W15\n2         A  R1W3        W03      W14\n3         A  R1W4        W04      W13\n4         A  R1W5        W05      W12\n...     ...   ...        ...      ...\n1218      S  R4Y1       R3Y1     R3Y2\n1219      S  R4Z1       R3Z1     R3Z2\n1220      S  R5WX       R4W1     R4X1\n1221      S  R5YZ       R4Y1     R4Z1\n1222      S  R6CH       R5WX     R5YZ\n\n[1223 rows x 4 columns]",
      "text/html": "<div>\n<style scoped>\n    .dataframe tbody tr th:only-of-type {\n        vertical-align: middle;\n    }\n\n    .dataframe tbody tr th {\n        vertical-align: top;\n    }\n\n    .dataframe thead th {\n        text-align: right;\n    }\n</style>\n<table border=\"1\" class=\"dataframe\">\n  <thead>\n    <tr style=\"text-align: right;\">\n      <th></th>\n      <th>season</th>\n      <th>slot</th>\n      <th>strongseed</th>\n      <th>weakseed</th>\n    </tr>\n  </thead>\n  <tbody>\n    <tr>\n      <th>0</th>\n      <td>A</td>\n      <td>R1W1</td>\n      <td>W01</td>\n      <td>W16</td>\n    </tr>\n    <tr>\n      <th>1</th>\n      <td>A</td>\n      <td>R1W2</td>\n      <td>W02</td>\n      <td>W15</td>\n    </tr>\n    <tr>\n      <th>2</th>\n      <td>A</td>\n      <td>R1W3</td>\n      <td>W03</td>\n      <td>W14</td>\n    </tr>\n    <tr>\n      <th>3</th>\n      <td>A</td>\n      <td>R1W4</td>\n      <td>W04</td>\n      <td>W13</td>\n    </tr>\n    <tr>\n      <th>4</th>\n      <td>A</td>\n      <td>R1W5</td>\n      <td>W05</td>\n      <td>W12</td>\n    </tr>\n    <tr>\n      <th>...</th>\n      <td>...</td>\n      <td>...</td>\n      <td>...</td>\n      <td>...</td>\n    </tr>\n    <tr>\n      <th>1218</th>\n      <td>S</td>\n      <td>R4Y1</td>\n      <td>R3Y1</td>\n      <td>R3Y2</td>\n    </tr>\n    <tr>\n      <th>1219</th>\n      <td>S</td>\n      <td>R4Z1</td>\n      <td>R3Z1</td>\n      <td>R3Z2</td>\n    </tr>\n    <tr>\n      <th>1220</th>\n      <td>S</td>\n      <td>R5WX</td>\n      <td>R4W1</td>\n      <td>R4X1</td>\n    </tr>\n    <tr>\n      <th>1221</th>\n      <td>S</td>\n      <td>R5YZ</td>\n      <td>R4Y1</td>\n      <td>R4Z1</td>\n    </tr>\n    <tr>\n      <th>1222</th>\n      <td>S</td>\n      <td>R6CH</td>\n      <td>R5WX</td>\n      <td>R5YZ</td>\n    </tr>\n  </tbody>\n</table>\n<p>1223 rows × 4 columns</p>\n</div>"
     },
     "execution_count": 5,
     "metadata": {},
     "output_type": "execute_result"
    }
   ],
   "source": [
    "tourney_slots_df = pd.read_csv('data/tourney_slots.csv')\n",
    "tourney_slots_df"
   ],
   "metadata": {
    "collapsed": false
   }
  },
  {
   "cell_type": "code",
   "execution_count": 50,
   "outputs": [],
   "source": [
    "merge_df = regular_season_results_df[['season', 'wteam', 'lteam']]\n",
    "merge_df = merge_df.merge(tourney_seeds_df, left_on=['season', 'wteam'], right_on=['season', 'team'])\n",
    "merge_df = merge_df.merge(tourney_seeds_df, left_on=['season', 'lteam'], right_on=['season', 'team'])\n",
    "merge_df = merge_df[['season', 'wteam', 'seed_x', 'lteam', 'seed_y']]\n",
    "merge_df = merge_df.rename(columns={'seed_x': 'wseed', 'seed_y': 'lseed'})\n",
    "merge_df['wseed'] = merge_df['wseed'].str[1:]\n",
    "merge_df['lseed'] = merge_df['lseed'].str[1:]"
   ],
   "metadata": {
    "collapsed": false
   }
  },
  {
   "cell_type": "code",
   "execution_count": 51,
   "outputs": [
    {
     "data": {
      "text/plain": "     season  wteam wseed  lteam lseed      vs\n0         A    511    03    515    12   03-12\n1         A    640    01    515    12   01-12\n2         A    640    01    515    12   01-12\n3         A    666    05    515    12   05-12\n4         A    675    05    515    12   05-12\n...     ...    ...   ...    ...   ...     ...\n5194      S    720    06    509    15   06-15\n5195      S    686   16b    509    15  16b-15\n5196      S    720    06    689    12   06-12\n5197      S    811    14    553    16   14-16\n5198      S    689    12    836    14   12-14\n\n[5199 rows x 6 columns]",
      "text/html": "<div>\n<style scoped>\n    .dataframe tbody tr th:only-of-type {\n        vertical-align: middle;\n    }\n\n    .dataframe tbody tr th {\n        vertical-align: top;\n    }\n\n    .dataframe thead th {\n        text-align: right;\n    }\n</style>\n<table border=\"1\" class=\"dataframe\">\n  <thead>\n    <tr style=\"text-align: right;\">\n      <th></th>\n      <th>season</th>\n      <th>wteam</th>\n      <th>wseed</th>\n      <th>lteam</th>\n      <th>lseed</th>\n      <th>vs</th>\n    </tr>\n  </thead>\n  <tbody>\n    <tr>\n      <th>0</th>\n      <td>A</td>\n      <td>511</td>\n      <td>03</td>\n      <td>515</td>\n      <td>12</td>\n      <td>03-12</td>\n    </tr>\n    <tr>\n      <th>1</th>\n      <td>A</td>\n      <td>640</td>\n      <td>01</td>\n      <td>515</td>\n      <td>12</td>\n      <td>01-12</td>\n    </tr>\n    <tr>\n      <th>2</th>\n      <td>A</td>\n      <td>640</td>\n      <td>01</td>\n      <td>515</td>\n      <td>12</td>\n      <td>01-12</td>\n    </tr>\n    <tr>\n      <th>3</th>\n      <td>A</td>\n      <td>666</td>\n      <td>05</td>\n      <td>515</td>\n      <td>12</td>\n      <td>05-12</td>\n    </tr>\n    <tr>\n      <th>4</th>\n      <td>A</td>\n      <td>675</td>\n      <td>05</td>\n      <td>515</td>\n      <td>12</td>\n      <td>05-12</td>\n    </tr>\n    <tr>\n      <th>...</th>\n      <td>...</td>\n      <td>...</td>\n      <td>...</td>\n      <td>...</td>\n      <td>...</td>\n      <td>...</td>\n    </tr>\n    <tr>\n      <th>5194</th>\n      <td>S</td>\n      <td>720</td>\n      <td>06</td>\n      <td>509</td>\n      <td>15</td>\n      <td>06-15</td>\n    </tr>\n    <tr>\n      <th>5195</th>\n      <td>S</td>\n      <td>686</td>\n      <td>16b</td>\n      <td>509</td>\n      <td>15</td>\n      <td>16b-15</td>\n    </tr>\n    <tr>\n      <th>5196</th>\n      <td>S</td>\n      <td>720</td>\n      <td>06</td>\n      <td>689</td>\n      <td>12</td>\n      <td>06-12</td>\n    </tr>\n    <tr>\n      <th>5197</th>\n      <td>S</td>\n      <td>811</td>\n      <td>14</td>\n      <td>553</td>\n      <td>16</td>\n      <td>14-16</td>\n    </tr>\n    <tr>\n      <th>5198</th>\n      <td>S</td>\n      <td>689</td>\n      <td>12</td>\n      <td>836</td>\n      <td>14</td>\n      <td>12-14</td>\n    </tr>\n  </tbody>\n</table>\n<p>5199 rows × 6 columns</p>\n</div>"
     },
     "execution_count": 51,
     "metadata": {},
     "output_type": "execute_result"
    }
   ],
   "source": [
    "merge_df['vs'] = merge_df['wseed'] + '-' + merge_df['lseed']\n",
    "merge_df"
   ],
   "metadata": {
    "collapsed": false
   }
  },
  {
   "cell_type": "code",
   "execution_count": 64,
   "outputs": [
    {
     "data": {
      "text/plain": "     wseed season\n37      12      A\n49      11      A\n73      09      A\n274     15      B\n299     10      B\n...    ...    ...\n5006    09      S\n5041    09      S\n5048    10      S\n5125    11      S\n5131    11      S\n\n[63 rows x 2 columns]",
      "text/html": "<div>\n<style scoped>\n    .dataframe tbody tr th:only-of-type {\n        vertical-align: middle;\n    }\n\n    .dataframe tbody tr th {\n        vertical-align: top;\n    }\n\n    .dataframe thead th {\n        text-align: right;\n    }\n</style>\n<table border=\"1\" class=\"dataframe\">\n  <thead>\n    <tr style=\"text-align: right;\">\n      <th></th>\n      <th>wseed</th>\n      <th>season</th>\n    </tr>\n  </thead>\n  <tbody>\n    <tr>\n      <th>37</th>\n      <td>12</td>\n      <td>A</td>\n    </tr>\n    <tr>\n      <th>49</th>\n      <td>11</td>\n      <td>A</td>\n    </tr>\n    <tr>\n      <th>73</th>\n      <td>09</td>\n      <td>A</td>\n    </tr>\n    <tr>\n      <th>274</th>\n      <td>15</td>\n      <td>B</td>\n    </tr>\n    <tr>\n      <th>299</th>\n      <td>10</td>\n      <td>B</td>\n    </tr>\n    <tr>\n      <th>...</th>\n      <td>...</td>\n      <td>...</td>\n    </tr>\n    <tr>\n      <th>5006</th>\n      <td>09</td>\n      <td>S</td>\n    </tr>\n    <tr>\n      <th>5041</th>\n      <td>09</td>\n      <td>S</td>\n    </tr>\n    <tr>\n      <th>5048</th>\n      <td>10</td>\n      <td>S</td>\n    </tr>\n    <tr>\n      <th>5125</th>\n      <td>11</td>\n      <td>S</td>\n    </tr>\n    <tr>\n      <th>5131</th>\n      <td>11</td>\n      <td>S</td>\n    </tr>\n  </tbody>\n</table>\n<p>63 rows × 2 columns</p>\n</div>"
     },
     "execution_count": 64,
     "metadata": {},
     "output_type": "execute_result"
    }
   ],
   "source": [
    "higher_seed_won_df: pd.DataFrame = merge_df.loc[\n",
    "    (merge_df['vs'] == '16-01') | (merge_df['vs'] == '15-02') | (merge_df['vs'] == '14-03') | (\n",
    "                merge_df['vs'] == '13-04') | (merge_df['vs'] == '12-05') | (merge_df['vs'] == '11-06') | (\n",
    "                merge_df['vs'] == '10-07') | (merge_df['vs'] == '09-08')\n",
    "    ][['wseed', 'season']]\n",
    "\n",
    "higher_seed_won_df"
   ],
   "metadata": {
    "collapsed": false
   }
  },
  {
   "cell_type": "code",
   "execution_count": 65,
   "outputs": [
    {
     "data": {
      "text/plain": "     lseed season\n3       12      A\n4       12      A\n93      09      A\n174     09      A\n358     11      B\n...    ...    ...\n5034    11      S\n5084    11      S\n5165    15      S\n5168    10      S\n5193    15      S\n\n[135 rows x 2 columns]",
      "text/html": "<div>\n<style scoped>\n    .dataframe tbody tr th:only-of-type {\n        vertical-align: middle;\n    }\n\n    .dataframe tbody tr th {\n        vertical-align: top;\n    }\n\n    .dataframe thead th {\n        text-align: right;\n    }\n</style>\n<table border=\"1\" class=\"dataframe\">\n  <thead>\n    <tr style=\"text-align: right;\">\n      <th></th>\n      <th>lseed</th>\n      <th>season</th>\n    </tr>\n  </thead>\n  <tbody>\n    <tr>\n      <th>3</th>\n      <td>12</td>\n      <td>A</td>\n    </tr>\n    <tr>\n      <th>4</th>\n      <td>12</td>\n      <td>A</td>\n    </tr>\n    <tr>\n      <th>93</th>\n      <td>09</td>\n      <td>A</td>\n    </tr>\n    <tr>\n      <th>174</th>\n      <td>09</td>\n      <td>A</td>\n    </tr>\n    <tr>\n      <th>358</th>\n      <td>11</td>\n      <td>B</td>\n    </tr>\n    <tr>\n      <th>...</th>\n      <td>...</td>\n      <td>...</td>\n    </tr>\n    <tr>\n      <th>5034</th>\n      <td>11</td>\n      <td>S</td>\n    </tr>\n    <tr>\n      <th>5084</th>\n      <td>11</td>\n      <td>S</td>\n    </tr>\n    <tr>\n      <th>5165</th>\n      <td>15</td>\n      <td>S</td>\n    </tr>\n    <tr>\n      <th>5168</th>\n      <td>10</td>\n      <td>S</td>\n    </tr>\n    <tr>\n      <th>5193</th>\n      <td>15</td>\n      <td>S</td>\n    </tr>\n  </tbody>\n</table>\n<p>135 rows × 2 columns</p>\n</div>"
     },
     "execution_count": 65,
     "metadata": {},
     "output_type": "execute_result"
    }
   ],
   "source": [
    "higher_seed_lost_df = merge_df.loc[\n",
    "    (merge_df['vs'] == '01-16') | (merge_df['vs'] == '02-15') | (merge_df['vs'] == '03-14') | (\n",
    "                merge_df['vs'] == '04-13') | (merge_df['vs'] == '05-12') | (merge_df['vs'] == '06-11') | (\n",
    "                merge_df['vs'] == '07-10') | (merge_df['vs'] == '08-09')\n",
    "    ][['lseed', 'season']]\n",
    "\n",
    "higher_seed_lost_df"
   ],
   "metadata": {
    "collapsed": false
   }
  },
  {
   "cell_type": "code",
   "execution_count": 85,
   "outputs": [
    {
     "data": {
      "text/plain": "{'09': 18, '10': 19, '11': 14, '12': 6, '13': 4, '15': 2}"
     },
     "execution_count": 85,
     "metadata": {},
     "output_type": "execute_result"
    }
   ],
   "source": [
    "won_dict = higher_seed_won_df.groupby('wseed').count().to_dict().pop('season')"
   ],
   "metadata": {
    "collapsed": false
   }
  },
  {
   "cell_type": "code",
   "execution_count": 74,
   "outputs": [],
   "source": [
    "lost_dict = higher_seed_lost_df.groupby('lseed').count().to_dict().pop('season')"
   ],
   "metadata": {
    "collapsed": false
   }
  },
  {
   "cell_type": "code",
   "execution_count": 75,
   "outputs": [],
   "source": [
    "sum_dict = {i: 0 for i in lost_dict}"
   ],
   "metadata": {
    "collapsed": false
   }
  },
  {
   "cell_type": "code",
   "execution_count": 78,
   "outputs": [],
   "source": [
    "for key in sum_dict:\n",
    "    if key in won_dict:\n",
    "        sum_dict[key] += won_dict[key]\n",
    "    else:\n",
    "        won_dict[key] = 0\n",
    "\n",
    "    if key in lost_dict:\n",
    "        sum_dict[key] += lost_dict[key]"
   ],
   "metadata": {
    "collapsed": false
   }
  },
  {
   "cell_type": "code",
   "execution_count": 79,
   "outputs": [
    {
     "data": {
      "text/plain": "{'09': 88,\n '10': 98,\n '11': 86,\n '12': 56,\n '13': 16,\n '14': 18,\n '15': 20,\n '16': 14}"
     },
     "execution_count": 79,
     "metadata": {},
     "output_type": "execute_result"
    }
   ],
   "source": [
    "sum_dict"
   ],
   "metadata": {
    "collapsed": false
   }
  },
  {
   "cell_type": "code",
   "execution_count": 80,
   "outputs": [],
   "source": [
    "percentage_dict = {i: won_dict[i] / sum_dict[i] for i in sum_dict}"
   ],
   "metadata": {
    "collapsed": false
   }
  },
  {
   "cell_type": "code",
   "execution_count": 81,
   "outputs": [
    {
     "data": {
      "text/plain": "{'09': 0.20454545454545456,\n '10': 0.19387755102040816,\n '11': 0.16279069767441862,\n '12': 0.10714285714285714,\n '13': 0.25,\n '14': 0.0,\n '15': 0.1,\n '16': 0.0}"
     },
     "execution_count": 81,
     "metadata": {},
     "output_type": "execute_result"
    }
   ],
   "source": [
    "percentage_dict"
   ],
   "metadata": {
    "collapsed": false
   }
  },
  {
   "cell_type": "code",
   "execution_count": 93,
   "outputs": [],
   "source": [
    "x_axis = list(reversed(percentage_dict.keys()))\n",
    "x_axis = [f'{int(i)}-{16 - int(i) + 1}' for i in x_axis]\n",
    "y_axis = list(reversed(percentage_dict.values()))"
   ],
   "metadata": {
    "collapsed": false
   }
  },
  {
   "cell_type": "code",
   "execution_count": 94,
   "outputs": [
    {
     "data": {
      "text/plain": "<Figure size 640x480 with 1 Axes>",
      "image/png": "[encoded data removed]"
     },
     "metadata": {},
     "output_type": "display_data"
    }
   ],
   "source": [
    "plt.plot(x_axis, y_axis)\n",
    "plt.xlabel('Seeds playing together')\n",
    "plt.ylabel('Percentage of the higher seed winning')\n",
    "plt.show()"
   ],
   "metadata": {
    "collapsed": false
   }
  },
  {
   "cell_type": "code",
   "execution_count": 125,
   "outputs": [],
   "source": [
    "data_df: pd.DataFrame = regular_season_results_df.loc[\n",
    "    (regular_season_results_df['season'] == 'Q') | (regular_season_results_df['season'] == 'R') | (\n",
    "                regular_season_results_df['season'] == 'S')\n",
    "    ].reset_index(drop=True)\n",
    "\n",
    "data_df['count_column'] = 1"
   ],
   "metadata": {
    "collapsed": false
   }
  },
  {
   "cell_type": "code",
   "execution_count": 126,
   "outputs": [
    {
     "data": {
      "text/plain": "      season  daynum  wteam  wscore  lteam  lscore wloc  numot  count_column\n0          Q       7    511      73    826      64    H    0.0             1\n1          Q       7    675      76    580      66    H    0.0             1\n2          Q       7    778      74    847      59    H    0.0             1\n3          Q       9    503      68    675      58    A    0.0             1\n4          Q       9    511      67    578      59    H    0.0             1\n...      ...     ...    ...     ...    ...     ...  ...    ...           ...\n15930      S     132    592      61    640      60    N    0.0             1\n15931      S     132    671      69    670      55    N    0.0             1\n15932      S     132    779      65    825      61    N    0.0             1\n15933      S     132    811      82    605      81    N    1.0             1\n15934      S     132    830      72    577      63    N    0.0             1\n\n[15935 rows x 9 columns]",
      "text/html": "<div>\n<style scoped>\n    .dataframe tbody tr th:only-of-type {\n        vertical-align: middle;\n    }\n\n    .dataframe tbody tr th {\n        vertical-align: top;\n    }\n\n    .dataframe thead th {\n        text-align: right;\n    }\n</style>\n<table border=\"1\" class=\"dataframe\">\n  <thead>\n    <tr style=\"text-align: right;\">\n      <th></th>\n      <th>season</th>\n      <th>daynum</th>\n      <th>wteam</th>\n      <th>wscore</th>\n      <th>lteam</th>\n      <th>lscore</th>\n      <th>wloc</th>\n      <th>numot</th>\n      <th>count_column</th>\n    </tr>\n  </thead>\n  <tbody>\n    <tr>\n      <th>0</th>\n      <td>Q</td>\n      <td>7</td>\n      <td>511</td>\n      <td>73</td>\n      <td>826</td>\n      <td>64</td>\n      <td>H</td>\n      <td>0.0</td>\n      <td>1</td>\n    </tr>\n    <tr>\n      <th>1</th>\n      <td>Q</td>\n      <td>7</td>\n      <td>675</td>\n      <td>76</td>\n      <td>580</td>\n      <td>66</td>\n      <td>H</td>\n      <td>0.0</td>\n      <td>1</td>\n    </tr>\n    <tr>\n      <th>2</th>\n      <td>Q</td>\n      <td>7</td>\n      <td>778</td>\n      <td>74</td>\n      <td>847</td>\n      <td>59</td>\n      <td>H</td>\n      <td>0.0</td>\n      <td>1</td>\n    </tr>\n    <tr>\n      <th>3</th>\n      <td>Q</td>\n      <td>9</td>\n      <td>503</td>\n      <td>68</td>\n      <td>675</td>\n      <td>58</td>\n      <td>A</td>\n      <td>0.0</td>\n      <td>1</td>\n    </tr>\n    <tr>\n      <th>4</th>\n      <td>Q</td>\n      <td>9</td>\n      <td>511</td>\n      <td>67</td>\n      <td>578</td>\n      <td>59</td>\n      <td>H</td>\n      <td>0.0</td>\n      <td>1</td>\n    </tr>\n    <tr>\n      <th>...</th>\n      <td>...</td>\n      <td>...</td>\n      <td>...</td>\n      <td>...</td>\n      <td>...</td>\n      <td>...</td>\n      <td>...</td>\n      <td>...</td>\n      <td>...</td>\n    </tr>\n    <tr>\n      <th>15930</th>\n      <td>S</td>\n      <td>132</td>\n      <td>592</td>\n      <td>61</td>\n      <td>640</td>\n      <td>60</td>\n      <td>N</td>\n      <td>0.0</td>\n      <td>1</td>\n    </tr>\n    <tr>\n      <th>15931</th>\n      <td>S</td>\n      <td>132</td>\n      <td>671</td>\n      <td>69</td>\n      <td>670</td>\n      <td>55</td>\n      <td>N</td>\n      <td>0.0</td>\n      <td>1</td>\n    </tr>\n    <tr>\n      <th>15932</th>\n      <td>S</td>\n      <td>132</td>\n      <td>779</td>\n      <td>65</td>\n      <td>825</td>\n      <td>61</td>\n      <td>N</td>\n      <td>0.0</td>\n      <td>1</td>\n    </tr>\n    <tr>\n      <th>15933</th>\n      <td>S</td>\n      <td>132</td>\n      <td>811</td>\n      <td>82</td>\n      <td>605</td>\n      <td>81</td>\n      <td>N</td>\n      <td>1.0</td>\n      <td>1</td>\n    </tr>\n    <tr>\n      <th>15934</th>\n      <td>S</td>\n      <td>132</td>\n      <td>830</td>\n      <td>72</td>\n      <td>577</td>\n      <td>63</td>\n      <td>N</td>\n      <td>0.0</td>\n      <td>1</td>\n    </tr>\n  </tbody>\n</table>\n<p>15935 rows × 9 columns</p>\n</div>"
     },
     "execution_count": 126,
     "metadata": {},
     "output_type": "execute_result"
    }
   ],
   "source": [
    "data_df"
   ],
   "metadata": {
    "collapsed": false
   }
  },
  {
   "cell_type": "code",
   "execution_count": 123,
   "outputs": [
    {
     "data": {
      "text/plain": "     team\n0     501\n1     502\n2     503\n3     504\n4     505\n..    ...\n346   852\n347   853\n348   854\n349   855\n350   856\n\n[351 rows x 1 columns]",
      "text/html": "<div>\n<style scoped>\n    .dataframe tbody tr th:only-of-type {\n        vertical-align: middle;\n    }\n\n    .dataframe tbody tr th {\n        vertical-align: top;\n    }\n\n    .dataframe thead th {\n        text-align: right;\n    }\n</style>\n<table border=\"1\" class=\"dataframe\">\n  <thead>\n    <tr style=\"text-align: right;\">\n      <th></th>\n      <th>team</th>\n    </tr>\n  </thead>\n  <tbody>\n    <tr>\n      <th>0</th>\n      <td>501</td>\n    </tr>\n    <tr>\n      <th>1</th>\n      <td>502</td>\n    </tr>\n    <tr>\n      <th>2</th>\n      <td>503</td>\n    </tr>\n    <tr>\n      <th>3</th>\n      <td>504</td>\n    </tr>\n    <tr>\n      <th>4</th>\n      <td>505</td>\n    </tr>\n    <tr>\n      <th>...</th>\n      <td>...</td>\n    </tr>\n    <tr>\n      <th>346</th>\n      <td>852</td>\n    </tr>\n    <tr>\n      <th>347</th>\n      <td>853</td>\n    </tr>\n    <tr>\n      <th>348</th>\n      <td>854</td>\n    </tr>\n    <tr>\n      <th>349</th>\n      <td>855</td>\n    </tr>\n    <tr>\n      <th>350</th>\n      <td>856</td>\n    </tr>\n  </tbody>\n</table>\n<p>351 rows × 1 columns</p>\n</div>"
     },
     "execution_count": 123,
     "metadata": {},
     "output_type": "execute_result"
    }
   ],
   "source": [
    "all_teams_df = pd.concat([data_df['wteam'], data_df['lteam']]).drop_duplicates()\n",
    "all_teams_df = all_teams_df.to_frame().rename(columns={0: 'team'})\n",
    "all_teams_df = all_teams_df.sort_values(by=['team'])\n",
    "all_teams_df = all_teams_df.reset_index(drop=True)\n",
    "all_teams_df"
   ],
   "metadata": {
    "collapsed": false
   }
  },
  {
   "cell_type": "code",
   "execution_count": 127,
   "outputs": [
    {
     "data": {
      "text/plain": "     team  win_count\n0     501          2\n1     502         36\n2     503         67\n3     504         53\n4     505         26\n..    ...        ...\n346   852         51\n347   853         59\n348   854         43\n349   855         40\n350   856          9\n\n[351 rows x 2 columns]",
      "text/html": "<div>\n<style scoped>\n    .dataframe tbody tr th:only-of-type {\n        vertical-align: middle;\n    }\n\n    .dataframe tbody tr th {\n        vertical-align: top;\n    }\n\n    .dataframe thead th {\n        text-align: right;\n    }\n</style>\n<table border=\"1\" class=\"dataframe\">\n  <thead>\n    <tr style=\"text-align: right;\">\n      <th></th>\n      <th>team</th>\n      <th>win_count</th>\n    </tr>\n  </thead>\n  <tbody>\n    <tr>\n      <th>0</th>\n      <td>501</td>\n      <td>2</td>\n    </tr>\n    <tr>\n      <th>1</th>\n      <td>502</td>\n      <td>36</td>\n    </tr>\n    <tr>\n      <th>2</th>\n      <td>503</td>\n      <td>67</td>\n    </tr>\n    <tr>\n      <th>3</th>\n      <td>504</td>\n      <td>53</td>\n    </tr>\n    <tr>\n      <th>4</th>\n      <td>505</td>\n      <td>26</td>\n    </tr>\n    <tr>\n      <th>...</th>\n      <td>...</td>\n      <td>...</td>\n    </tr>\n    <tr>\n      <th>346</th>\n      <td>852</td>\n      <td>51</td>\n    </tr>\n    <tr>\n      <th>347</th>\n      <td>853</td>\n      <td>59</td>\n    </tr>\n    <tr>\n      <th>348</th>\n      <td>854</td>\n      <td>43</td>\n    </tr>\n    <tr>\n      <th>349</th>\n      <td>855</td>\n      <td>40</td>\n    </tr>\n    <tr>\n      <th>350</th>\n      <td>856</td>\n      <td>9</td>\n    </tr>\n  </tbody>\n</table>\n<p>351 rows × 2 columns</p>\n</div>"
     },
     "execution_count": 127,
     "metadata": {},
     "output_type": "execute_result"
    }
   ],
   "source": [
    "all_teams_df = (\n",
    "    all_teams_df\n",
    "    .merge(data_df[['count_column', 'wteam']], left_on='team', right_on='wteam')[['count_column', 'team']]\n",
    "    .groupby('team')\n",
    "    .sum()\n",
    "    .rename(columns={'count_column': 'win_count'})\n",
    "    .reset_index()\n",
    ")\n",
    "all_teams_df"
   ],
   "metadata": {
    "collapsed": false
   }
  },
  {
   "cell_type": "code",
   "execution_count": 157,
   "outputs": [
    {
     "data": {
      "text/plain": "     team  win_count  loss_count\n0     501          2          19\n1     502         36          47\n2     503         67          29\n3     504         53          42\n4     505         26          57\n..    ...        ...         ...\n346   852         51          38\n347   853         59          38\n348   854         43          39\n349   855         40          47\n350   856          9           6\n\n[351 rows x 3 columns]",
      "text/html": "<div>\n<style scoped>\n    .dataframe tbody tr th:only-of-type {\n        vertical-align: middle;\n    }\n\n    .dataframe tbody tr th {\n        vertical-align: top;\n    }\n\n    .dataframe thead th {\n        text-align: right;\n    }\n</style>\n<table border=\"1\" class=\"dataframe\">\n  <thead>\n    <tr style=\"text-align: right;\">\n      <th></th>\n      <th>team</th>\n      <th>win_count</th>\n      <th>loss_count</th>\n    </tr>\n  </thead>\n  <tbody>\n    <tr>\n      <th>0</th>\n      <td>501</td>\n      <td>2</td>\n      <td>19</td>\n    </tr>\n    <tr>\n      <th>1</th>\n      <td>502</td>\n      <td>36</td>\n      <td>47</td>\n    </tr>\n    <tr>\n      <th>2</th>\n      <td>503</td>\n      <td>67</td>\n      <td>29</td>\n    </tr>\n    <tr>\n      <th>3</th>\n      <td>504</td>\n      <td>53</td>\n      <td>42</td>\n    </tr>\n    <tr>\n      <th>4</th>\n      <td>505</td>\n      <td>26</td>\n      <td>57</td>\n    </tr>\n    <tr>\n      <th>...</th>\n      <td>...</td>\n      <td>...</td>\n      <td>...</td>\n    </tr>\n    <tr>\n      <th>346</th>\n      <td>852</td>\n      <td>51</td>\n      <td>38</td>\n    </tr>\n    <tr>\n      <th>347</th>\n      <td>853</td>\n      <td>59</td>\n      <td>38</td>\n    </tr>\n    <tr>\n      <th>348</th>\n      <td>854</td>\n      <td>43</td>\n      <td>39</td>\n    </tr>\n    <tr>\n      <th>349</th>\n      <td>855</td>\n      <td>40</td>\n      <td>47</td>\n    </tr>\n    <tr>\n      <th>350</th>\n      <td>856</td>\n      <td>9</td>\n      <td>6</td>\n    </tr>\n  </tbody>\n</table>\n<p>351 rows × 3 columns</p>\n</div>"
     },
     "execution_count": 157,
     "metadata": {},
     "output_type": "execute_result"
    }
   ],
   "source": [
    "all_teams_df: pd.DataFrame = (\n",
    "    all_teams_df\n",
    "    .merge(data_df[['count_column', 'lteam']], left_on='team', right_on='lteam')[['count_column', 'team', 'win_count']]\n",
    "    .groupby(['team', 'win_count'])\n",
    "    .sum()\n",
    "    .rename(columns={'count_column': 'loss_count'})\n",
    "    .reset_index()\n",
    ")\n",
    "\n",
    "all_teams_df"
   ],
   "metadata": {
    "collapsed": false
   }
  },
  {
   "cell_type": "code",
   "execution_count": 158,
   "outputs": [
    {
     "data": {
      "text/plain": "                                              opponents\nteam                                                   \n501   [542, 618, 578, 775, 662, 628, 788, 853, 799, ...\n502   [517, 832, 851, 514, 665, 581, 548, 803, 526, ...\n503   [675, 574, 514, 593, 855, 693, 661, 669, 529, ...\n504   [710, 718, 662, 846, 738, 505, 825, 574, 722, ...\n505   [514, 508, 734, 632, 678, 675, 608, 506, 685, ...\n...                                                 ...\n852   [688, 770, 733, 665, 650, 823, 530, 556, 807, ...\n853   [683, 630, 669, 604, 827, 738, 535, 549, 749, ...\n854   [544, 517, 611, 828, 750, 532, 741, 616, 531, ...\n855   [752, 808, 777, 574, 552, 654, 622, 845, 844, ...\n856   [703, 542, 751, 643, 787, 618, 501, 705, 711, ...\n\n[351 rows x 1 columns]",
      "text/html": "<div>\n<style scoped>\n    .dataframe tbody tr th:only-of-type {\n        vertical-align: middle;\n    }\n\n    .dataframe tbody tr th {\n        vertical-align: top;\n    }\n\n    .dataframe thead th {\n        text-align: right;\n    }\n</style>\n<table border=\"1\" class=\"dataframe\">\n  <thead>\n    <tr style=\"text-align: right;\">\n      <th></th>\n      <th>opponents</th>\n    </tr>\n    <tr>\n      <th>team</th>\n      <th></th>\n    </tr>\n  </thead>\n  <tbody>\n    <tr>\n      <th>501</th>\n      <td>[542, 618, 578, 775, 662, 628, 788, 853, 799, ...</td>\n    </tr>\n    <tr>\n      <th>502</th>\n      <td>[517, 832, 851, 514, 665, 581, 548, 803, 526, ...</td>\n    </tr>\n    <tr>\n      <th>503</th>\n      <td>[675, 574, 514, 593, 855, 693, 661, 669, 529, ...</td>\n    </tr>\n    <tr>\n      <th>504</th>\n      <td>[710, 718, 662, 846, 738, 505, 825, 574, 722, ...</td>\n    </tr>\n    <tr>\n      <th>505</th>\n      <td>[514, 508, 734, 632, 678, 675, 608, 506, 685, ...</td>\n    </tr>\n    <tr>\n      <th>...</th>\n      <td>...</td>\n    </tr>\n    <tr>\n      <th>852</th>\n      <td>[688, 770, 733, 665, 650, 823, 530, 556, 807, ...</td>\n    </tr>\n    <tr>\n      <th>853</th>\n      <td>[683, 630, 669, 604, 827, 738, 535, 549, 749, ...</td>\n    </tr>\n    <tr>\n      <th>854</th>\n      <td>[544, 517, 611, 828, 750, 532, 741, 616, 531, ...</td>\n    </tr>\n    <tr>\n      <th>855</th>\n      <td>[752, 808, 777, 574, 552, 654, 622, 845, 844, ...</td>\n    </tr>\n    <tr>\n      <th>856</th>\n      <td>[703, 542, 751, 643, 787, 618, 501, 705, 711, ...</td>\n    </tr>\n  </tbody>\n</table>\n<p>351 rows × 1 columns</p>\n</div>"
     },
     "execution_count": 158,
     "metadata": {},
     "output_type": "execute_result"
    }
   ],
   "source": [
    "opponents_df = pd.concat([\n",
    "    all_teams_df.merge(data_df, left_on='team', right_on='wteam')[['team', 'lteam']].rename(columns={'lteam': 'opponents'}),\n",
    "    all_teams_df.merge(data_df, left_on='team', right_on='lteam')[['team', 'wteam']].rename(columns={'wteam': 'opponents'})\n",
    "]).drop_duplicates().groupby('team').agg(list)\n",
    "opponents_df"
   ],
   "metadata": {
    "collapsed": false
   }
  },
  {
   "cell_type": "code",
   "execution_count": 159,
   "outputs": [
    {
     "data": {
      "text/plain": "     team  win_count  loss_count  \\\n0     501          2          19   \n1     502         36          47   \n2     503         67          29   \n3     504         53          42   \n4     505         26          57   \n..    ...        ...         ...   \n346   852         51          38   \n347   853         59          38   \n348   854         43          39   \n349   855         40          47   \n350   856          9           6   \n\n                                             opponents  \n0    [542, 618, 578, 775, 662, 628, 788, 853, 799, ...  \n1    [517, 832, 851, 514, 665, 581, 548, 803, 526, ...  \n2    [675, 574, 514, 593, 855, 693, 661, 669, 529, ...  \n3    [710, 718, 662, 846, 738, 505, 825, 574, 722, ...  \n4    [514, 508, 734, 632, 678, 675, 608, 506, 685, ...  \n..                                                 ...  \n346  [688, 770, 733, 665, 650, 823, 530, 556, 807, ...  \n347  [683, 630, 669, 604, 827, 738, 535, 549, 749, ...  \n348  [544, 517, 611, 828, 750, 532, 741, 616, 531, ...  \n349  [752, 808, 777, 574, 552, 654, 622, 845, 844, ...  \n350  [703, 542, 751, 643, 787, 618, 501, 705, 711, ...  \n\n[351 rows x 4 columns]",
      "text/html": "<div>\n<style scoped>\n    .dataframe tbody tr th:only-of-type {\n        vertical-align: middle;\n    }\n\n    .dataframe tbody tr th {\n        vertical-align: top;\n    }\n\n    .dataframe thead th {\n        text-align: right;\n    }\n</style>\n<table border=\"1\" class=\"dataframe\">\n  <thead>\n    <tr style=\"text-align: right;\">\n      <th></th>\n      <th>team</th>\n      <th>win_count</th>\n      <th>loss_count</th>\n      <th>opponents</th>\n    </tr>\n  </thead>\n  <tbody>\n    <tr>\n      <th>0</th>\n      <td>501</td>\n      <td>2</td>\n      <td>19</td>\n      <td>[542, 618, 578, 775, 662, 628, 788, 853, 799, ...</td>\n    </tr>\n    <tr>\n      <th>1</th>\n      <td>502</td>\n      <td>36</td>\n      <td>47</td>\n      <td>[517, 832, 851, 514, 665, 581, 548, 803, 526, ...</td>\n    </tr>\n    <tr>\n      <th>2</th>\n      <td>503</td>\n      <td>67</td>\n      <td>29</td>\n      <td>[675, 574, 514, 593, 855, 693, 661, 669, 529, ...</td>\n    </tr>\n    <tr>\n      <th>3</th>\n      <td>504</td>\n      <td>53</td>\n      <td>42</td>\n      <td>[710, 718, 662, 846, 738, 505, 825, 574, 722, ...</td>\n    </tr>\n    <tr>\n      <th>4</th>\n      <td>505</td>\n      <td>26</td>\n      <td>57</td>\n      <td>[514, 508, 734, 632, 678, 675, 608, 506, 685, ...</td>\n    </tr>\n    <tr>\n      <th>...</th>\n      <td>...</td>\n      <td>...</td>\n      <td>...</td>\n      <td>...</td>\n    </tr>\n    <tr>\n      <th>346</th>\n      <td>852</td>\n      <td>51</td>\n      <td>38</td>\n      <td>[688, 770, 733, 665, 650, 823, 530, 556, 807, ...</td>\n    </tr>\n    <tr>\n      <th>347</th>\n      <td>853</td>\n      <td>59</td>\n      <td>38</td>\n      <td>[683, 630, 669, 604, 827, 738, 535, 549, 749, ...</td>\n    </tr>\n    <tr>\n      <th>348</th>\n      <td>854</td>\n      <td>43</td>\n      <td>39</td>\n      <td>[544, 517, 611, 828, 750, 532, 741, 616, 531, ...</td>\n    </tr>\n    <tr>\n      <th>349</th>\n      <td>855</td>\n      <td>40</td>\n      <td>47</td>\n      <td>[752, 808, 777, 574, 552, 654, 622, 845, 844, ...</td>\n    </tr>\n    <tr>\n      <th>350</th>\n      <td>856</td>\n      <td>9</td>\n      <td>6</td>\n      <td>[703, 542, 751, 643, 787, 618, 501, 705, 711, ...</td>\n    </tr>\n  </tbody>\n</table>\n<p>351 rows × 4 columns</p>\n</div>"
     },
     "execution_count": 159,
     "metadata": {},
     "output_type": "execute_result"
    }
   ],
   "source": [
    "all_teams_df = all_teams_df.merge(opponents_df, on='team')\n",
    "all_teams_df"
   ],
   "metadata": {
    "collapsed": false
   }
  },
  {
   "cell_type": "code",
   "execution_count": 169,
   "outputs": [],
   "source": [
    "def calculate_strength_of_schedule(row: pd.Series) -> pd.Series:\n",
    "    opponents_df = pd.DataFrame(row['opponents'], columns=['opponent_team'])\n",
    "\n",
    "    tmp_df = opponents_df.merge(all_teams_df, left_on='opponent_team', right_on='team')\n",
    "\n",
    "    total_wins = tmp_df['win_count'].sum()\n",
    "    total_losses = tmp_df['loss_count'].sum()\n",
    "\n",
    "    row['strength_of_schedule'] = total_wins / (total_wins + total_losses) * 100\n",
    "\n",
    "    return row"
   ],
   "metadata": {
    "collapsed": false
   }
  },
  {
   "cell_type": "code",
   "execution_count": 174,
   "outputs": [],
   "source": [
    "def calculate_rpi(row: pd.Series) -> pd.Series:\n",
    "    win_count = row['win_count']\n",
    "    loss_count = row['loss_count']\n",
    "    total_games = win_count + loss_count\n",
    "\n",
    "    strength_of_schedule = row['strength_of_schedule']\n",
    "\n",
    "    row['rpi'] = 0.5 * win_count / total_games + 0.5 * strength_of_schedule / 100\n",
    "\n",
    "    return row"
   ],
   "metadata": {
    "collapsed": false
   }
  },
  {
   "cell_type": "code",
   "execution_count": 175,
   "outputs": [
    {
     "data": {
      "text/plain": "     team  win_count  loss_count  \\\n0     501          2          19   \n1     502         36          47   \n2     503         67          29   \n3     504         53          42   \n4     505         26          57   \n..    ...        ...         ...   \n346   852         51          38   \n347   853         59          38   \n348   854         43          39   \n349   855         40          47   \n350   856          9           6   \n\n                                             opponents  strength_of_schedule  \\\n0    [542, 618, 578, 775, 662, 628, 788, 853, 799, ...             45.801072   \n1    [517, 832, 851, 514, 665, 581, 548, 803, 526, ...             49.983114   \n2    [675, 574, 514, 593, 855, 693, 661, 669, 529, ...             52.048726   \n3    [710, 718, 662, 846, 738, 505, 825, 574, 722, ...             58.235995   \n4    [514, 508, 734, 632, 678, 675, 608, 506, 685, ...             51.003861   \n..                                                 ...                   ...   \n346  [688, 770, 733, 665, 650, 823, 530, 556, 807, ...             50.702385   \n347  [683, 630, 669, 604, 827, 738, 535, 549, 749, ...             55.003044   \n348  [544, 517, 611, 828, 750, 532, 741, 616, 531, ...             52.890173   \n349  [752, 808, 777, 574, 552, 654, 622, 845, 844, ...             47.252424   \n350  [703, 542, 751, 643, 787, 618, 501, 705, 711, ...             41.958670   \n\n          rpi  \n0    0.276624  \n1    0.466783  \n2    0.609202  \n3    0.570127  \n4    0.411646  \n..        ...  \n346  0.540029  \n347  0.579139  \n348  0.526646  \n349  0.466147  \n350  0.509793  \n\n[351 rows x 6 columns]",
      "text/html": "<div>\n<style scoped>\n    .dataframe tbody tr th:only-of-type {\n        vertical-align: middle;\n    }\n\n    .dataframe tbody tr th {\n        vertical-align: top;\n    }\n\n    .dataframe thead th {\n        text-align: right;\n    }\n</style>\n<table border=\"1\" class=\"dataframe\">\n  <thead>\n    <tr style=\"text-align: right;\">\n      <th></th>\n      <th>team</th>\n      <th>win_count</th>\n      <th>loss_count</th>\n      <th>opponents</th>\n      <th>strength_of_schedule</th>\n      <th>rpi</th>\n    </tr>\n  </thead>\n  <tbody>\n    <tr>\n      <th>0</th>\n      <td>501</td>\n      <td>2</td>\n      <td>19</td>\n      <td>[542, 618, 578, 775, 662, 628, 788, 853, 799, ...</td>\n      <td>45.801072</td>\n      <td>0.276624</td>\n    </tr>\n    <tr>\n      <th>1</th>\n      <td>502</td>\n      <td>36</td>\n      <td>47</td>\n      <td>[517, 832, 851, 514, 665, 581, 548, 803, 526, ...</td>\n      <td>49.983114</td>\n      <td>0.466783</td>\n    </tr>\n    <tr>\n      <th>2</th>\n      <td>503</td>\n      <td>67</td>\n      <td>29</td>\n      <td>[675, 574, 514, 593, 855, 693, 661, 669, 529, ...</td>\n      <td>52.048726</td>\n      <td>0.609202</td>\n    </tr>\n    <tr>\n      <th>3</th>\n      <td>504</td>\n      <td>53</td>\n      <td>42</td>\n      <td>[710, 718, 662, 846, 738, 505, 825, 574, 722, ...</td>\n      <td>58.235995</td>\n      <td>0.570127</td>\n    </tr>\n    <tr>\n      <th>4</th>\n      <td>505</td>\n      <td>26</td>\n      <td>57</td>\n      <td>[514, 508, 734, 632, 678, 675, 608, 506, 685, ...</td>\n      <td>51.003861</td>\n      <td>0.411646</td>\n    </tr>\n    <tr>\n      <th>...</th>\n      <td>...</td>\n      <td>...</td>\n      <td>...</td>\n      <td>...</td>\n      <td>...</td>\n      <td>...</td>\n    </tr>\n    <tr>\n      <th>346</th>\n      <td>852</td>\n      <td>51</td>\n      <td>38</td>\n      <td>[688, 770, 733, 665, 650, 823, 530, 556, 807, ...</td>\n      <td>50.702385</td>\n      <td>0.540029</td>\n    </tr>\n    <tr>\n      <th>347</th>\n      <td>853</td>\n      <td>59</td>\n      <td>38</td>\n      <td>[683, 630, 669, 604, 827, 738, 535, 549, 749, ...</td>\n      <td>55.003044</td>\n      <td>0.579139</td>\n    </tr>\n    <tr>\n      <th>348</th>\n      <td>854</td>\n      <td>43</td>\n      <td>39</td>\n      <td>[544, 517, 611, 828, 750, 532, 741, 616, 531, ...</td>\n      <td>52.890173</td>\n      <td>0.526646</td>\n    </tr>\n    <tr>\n      <th>349</th>\n      <td>855</td>\n      <td>40</td>\n      <td>47</td>\n      <td>[752, 808, 777, 574, 552, 654, 622, 845, 844, ...</td>\n      <td>47.252424</td>\n      <td>0.466147</td>\n    </tr>\n    <tr>\n      <th>350</th>\n      <td>856</td>\n      <td>9</td>\n      <td>6</td>\n      <td>[703, 542, 751, 643, 787, 618, 501, 705, 711, ...</td>\n      <td>41.958670</td>\n      <td>0.509793</td>\n    </tr>\n  </tbody>\n</table>\n<p>351 rows × 6 columns</p>\n</div>"
     },
     "execution_count": 175,
     "metadata": {},
     "output_type": "execute_result"
    }
   ],
   "source": [
    "all_teams_df = all_teams_df.apply(calculate_strength_of_schedule, axis=1)\n",
    "all_teams_df = all_teams_df.apply(calculate_rpi, axis=1)\n",
    "all_teams_df"
   ],
   "metadata": {
    "collapsed": false
   }
  },
  {
   "cell_type": "code",
   "execution_count": null,
   "outputs": [],
   "source": [],
   "metadata": {
    "collapsed": false
   }
  }
 ],
 "metadata": {
  "kernelspec": {
   "display_name": "Python 3",
   "language": "python",
   "name": "python3"
  },
  "language_info": {
   "codemirror_mode": {
    "name": "ipython",
    "version": 2
   },
   "file_extension": ".py",
   "mimetype": "text/x-python",
   "name": "python",
   "nbconvert_exporter": "python",
   "pygments_lexer": "ipython2",
   "version": "2.7.6"
  }
 },
 "nbformat": 4,
 "nbformat_minor": 0
}
