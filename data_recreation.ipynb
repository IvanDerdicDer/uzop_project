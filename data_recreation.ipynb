{
 "cells": [
  {
   "cell_type": "code",
   "execution_count": 2,
   "outputs": [],
   "source": [
    "import pandas as pd\n",
    "import matplotlib.pyplot as plt"
   ],
   "metadata": {
    "collapsed": false
   }
  },
  {
   "cell_type": "code",
   "execution_count": null,
   "metadata": {
    "collapsed": true
   },
   "outputs": [],
   "source": [
    "regular_season_results_df = pd.read_csv('data/regular_season_results.csv')\n",
    "regular_season_results_df"
   ]
  },
  {
   "cell_type": "code",
   "execution_count": null,
   "outputs": [],
   "source": [
    "tourney_seeds_df = pd.read_csv('data/tourney_seeds.csv')\n",
    "tourney_seeds_df"
   ],
   "metadata": {
    "collapsed": false
   }
  },
  {
   "cell_type": "code",
   "execution_count": null,
   "outputs": [],
   "source": [
    "tourney_slots_df = pd.read_csv('data/tourney_slots.csv')\n",
    "tourney_slots_df"
   ],
   "metadata": {
    "collapsed": false
   }
  },
  {
   "cell_type": "code",
   "execution_count": null,
   "outputs": [],
   "source": [
    "merge_df = regular_season_results_df[['season', 'wteam', 'lteam']]\n",
    "merge_df = merge_df.merge(tourney_seeds_df, left_on=['season', 'wteam'], right_on=['season', 'team'])\n",
    "merge_df = merge_df.merge(tourney_seeds_df, left_on=['season', 'lteam'], right_on=['season', 'team'])\n",
    "merge_df = merge_df[['season', 'wteam', 'seed_x', 'lteam', 'seed_y']]\n",
    "merge_df = merge_df.rename(columns={'seed_x': 'wseed', 'seed_y': 'lseed'})\n",
    "merge_df['wseed'] = merge_df['wseed'].str[1:]\n",
    "merge_df['lseed'] = merge_df['lseed'].str[1:]"
   ],
   "metadata": {
    "collapsed": false
   }
  },
  {
   "cell_type": "code",
   "execution_count": null,
   "outputs": [],
   "source": [
    "merge_df['vs'] = merge_df['wseed'] + '-' + merge_df['lseed']\n",
    "merge_df"
   ],
   "metadata": {
    "collapsed": false
   }
  },
  {
   "cell_type": "code",
   "execution_count": null,
   "outputs": [],
   "source": [
    "higher_seed_won_df: pd.DataFrame = merge_df.loc[\n",
    "    (merge_df['vs'] == '16-01') | (merge_df['vs'] == '15-02') | (merge_df['vs'] == '14-03') | (\n",
    "                merge_df['vs'] == '13-04') | (merge_df['vs'] == '12-05') | (merge_df['vs'] == '11-06') | (\n",
    "                merge_df['vs'] == '10-07') | (merge_df['vs'] == '09-08')\n",
    "    ][['wseed', 'season']]\n",
    "\n",
    "higher_seed_won_df"
   ],
   "metadata": {
    "collapsed": false
   }
  },
  {
   "cell_type": "code",
   "execution_count": null,
   "outputs": [],
   "source": [
    "higher_seed_lost_df = merge_df.loc[\n",
    "    (merge_df['vs'] == '01-16') | (merge_df['vs'] == '02-15') | (merge_df['vs'] == '03-14') | (\n",
    "                merge_df['vs'] == '04-13') | (merge_df['vs'] == '05-12') | (merge_df['vs'] == '06-11') | (\n",
    "                merge_df['vs'] == '07-10') | (merge_df['vs'] == '08-09')\n",
    "    ][['lseed', 'season']]\n",
    "\n",
    "higher_seed_lost_df"
   ],
   "metadata": {
    "collapsed": false
   }
  },
  {
   "cell_type": "code",
   "execution_count": null,
   "outputs": [],
   "source": [
    "won_dict = higher_seed_won_df.groupby('wseed').count().to_dict().pop('season')"
   ],
   "metadata": {
    "collapsed": false
   }
  },
  {
   "cell_type": "code",
   "execution_count": null,
   "outputs": [],
   "source": [
    "lost_dict = higher_seed_lost_df.groupby('lseed').count().to_dict().pop('season')"
   ],
   "metadata": {
    "collapsed": false
   }
  },
  {
   "cell_type": "code",
   "execution_count": null,
   "outputs": [],
   "source": [
    "sum_dict = {i: 0 for i in lost_dict}"
   ],
   "metadata": {
    "collapsed": false
   }
  },
  {
   "cell_type": "code",
   "execution_count": null,
   "outputs": [],
   "source": [
    "for key in sum_dict:\n",
    "    if key in won_dict:\n",
    "        sum_dict[key] += won_dict[key]\n",
    "    else:\n",
    "        won_dict[key] = 0\n",
    "\n",
    "    if key in lost_dict:\n",
    "        sum_dict[key] += lost_dict[key]"
   ],
   "metadata": {
    "collapsed": false
   }
  },
  {
   "cell_type": "code",
   "execution_count": null,
   "outputs": [],
   "source": [
    "sum_dict"
   ],
   "metadata": {
    "collapsed": false
   }
  },
  {
   "cell_type": "code",
   "execution_count": null,
   "outputs": [],
   "source": [
    "percentage_dict = {i: won_dict[i] / sum_dict[i] for i in sum_dict}"
   ],
   "metadata": {
    "collapsed": false
   }
  },
  {
   "cell_type": "code",
   "execution_count": null,
   "outputs": [],
   "source": [
    "percentage_dict"
   ],
   "metadata": {
    "collapsed": false
   }
  },
  {
   "cell_type": "code",
   "execution_count": null,
   "outputs": [],
   "source": [
    "x_axis = list(reversed(percentage_dict.keys()))\n",
    "x_axis = [f'{int(i)}-{16 - int(i) + 1}' for i in x_axis]\n",
    "y_axis = list(reversed(percentage_dict.values()))"
   ],
   "metadata": {
    "collapsed": false
   }
  },
  {
   "cell_type": "code",
   "execution_count": null,
   "outputs": [],
   "source": [
    "plt.plot(x_axis, y_axis)\n",
    "plt.xlabel('Seeds playing together')\n",
    "plt.ylabel('Percentage of the higher seed winning')\n",
    "plt.show()"
   ],
   "metadata": {
    "collapsed": false
   }
  },
  {
   "cell_type": "markdown",
   "source": [
    "START"
   ],
   "metadata": {
    "collapsed": false
   }
  },
  {
   "cell_type": "code",
   "execution_count": 3,
   "outputs": [],
   "source": [
    "regular_season_df = pd.read_csv('data/regular_season_detailed_results.csv')\n",
    "tourney_df = pd.read_csv('data/tourney_detailed_results.csv')"
   ],
   "metadata": {
    "collapsed": false
   }
  },
  {
   "cell_type": "code",
   "execution_count": 4,
   "outputs": [],
   "source": [
    "data_df: pd.DataFrame = regular_season_df.loc[\n",
    "    (regular_season_df['season'] == 2011) | (regular_season_df['season'] == '2012') | (\n",
    "                regular_season_df['season'] == '2013') | (regular_season_df['season'] == '2014')\n",
    "    ].reset_index(drop=True)\n",
    "\n",
    "data_df_df = pd.concat([data_df, tourney_df.loc[\n",
    "    (tourney_df['season'] == 2011) |\\\n",
    "    (tourney_df['season'] == 2012) |\\\n",
    "    (tourney_df['season'] == 2013)\n",
    "]])\n",
    "\n",
    "data_df['count_column'] = 1"
   ],
   "metadata": {
    "collapsed": false
   }
  },
  {
   "cell_type": "code",
   "execution_count": 5,
   "outputs": [
    {
     "data": {
      "text/plain": "      season  daynum  wteam  wscore  lteam  lscore wloc  numot  wfgm  wfga  \\\n0       2011       7   1228      79   1414      65    H      0    29    58   \n1       2011       7   1268     105   1370      76    H      0    35    62   \n2       2011       7   1338      83   1348      75    H      0    29    64   \n3       2011       7   1400      83   1298      52    H      0    30    59   \n4       2011       9   1228      84   1405      45    H      0    37    64   \n...      ...     ...    ...     ...    ...     ...  ...    ...   ...   ...   \n5241    2011     131   1449      77   1112      75    N      1    30    66   \n5242    2011     132   1181      75   1314      58    N      0    29    58   \n5243    2011     132   1246      70   1196      54    N      0    20    48   \n5244    2011     132   1326      71   1336      60    N      0    26    51   \n5245    2011     132   1350      67   1173      54    N      0    19    45   \n\n      ...  lftm  lfta  lor  ldr  last  lto  lstl  lblk  lpf  count_column  \n0     ...    14    22   11   26    12   14     7     1   21             1  \n1     ...    17    22   18   16    11   27    18     1   31             1  \n2     ...    13    16   10   21    16   17     7     6   25             1  \n3     ...    10    18    8   22     8   16     5     5   24             1  \n4     ...    10    19    6   17     9   23     6     0   14             1  \n...   ...   ...   ...  ...  ...   ...  ...   ...   ...  ...           ...  \n5241  ...    20    30   11   21    12    8     4     2   15             1  \n5242  ...    14    21   19   25     8   16     4     5   16             1  \n5243  ...     3     8   15   22    11   14     1     5   22             1  \n5244  ...     9     9   10   22     8   10     3     2   17             1  \n5245  ...     9    12   11   22    11   11     5     5   19             1  \n\n[5246 rows x 35 columns]",
      "text/html": "<div>\n<style scoped>\n    .dataframe tbody tr th:only-of-type {\n        vertical-align: middle;\n    }\n\n    .dataframe tbody tr th {\n        vertical-align: top;\n    }\n\n    .dataframe thead th {\n        text-align: right;\n    }\n</style>\n<table border=\"1\" class=\"dataframe\">\n  <thead>\n    <tr style=\"text-align: right;\">\n      <th></th>\n      <th>season</th>\n      <th>daynum</th>\n      <th>wteam</th>\n      <th>wscore</th>\n      <th>lteam</th>\n      <th>lscore</th>\n      <th>wloc</th>\n      <th>numot</th>\n      <th>wfgm</th>\n      <th>wfga</th>\n      <th>...</th>\n      <th>lftm</th>\n      <th>lfta</th>\n      <th>lor</th>\n      <th>ldr</th>\n      <th>last</th>\n      <th>lto</th>\n      <th>lstl</th>\n      <th>lblk</th>\n      <th>lpf</th>\n      <th>count_column</th>\n    </tr>\n  </thead>\n  <tbody>\n    <tr>\n      <th>0</th>\n      <td>2011</td>\n      <td>7</td>\n      <td>1228</td>\n      <td>79</td>\n      <td>1414</td>\n      <td>65</td>\n      <td>H</td>\n      <td>0</td>\n      <td>29</td>\n      <td>58</td>\n      <td>...</td>\n      <td>14</td>\n      <td>22</td>\n      <td>11</td>\n      <td>26</td>\n      <td>12</td>\n      <td>14</td>\n      <td>7</td>\n      <td>1</td>\n      <td>21</td>\n      <td>1</td>\n    </tr>\n    <tr>\n      <th>1</th>\n      <td>2011</td>\n      <td>7</td>\n      <td>1268</td>\n      <td>105</td>\n      <td>1370</td>\n      <td>76</td>\n      <td>H</td>\n      <td>0</td>\n      <td>35</td>\n      <td>62</td>\n      <td>...</td>\n      <td>17</td>\n      <td>22</td>\n      <td>18</td>\n      <td>16</td>\n      <td>11</td>\n      <td>27</td>\n      <td>18</td>\n      <td>1</td>\n      <td>31</td>\n      <td>1</td>\n    </tr>\n    <tr>\n      <th>2</th>\n      <td>2011</td>\n      <td>7</td>\n      <td>1338</td>\n      <td>83</td>\n      <td>1348</td>\n      <td>75</td>\n      <td>H</td>\n      <td>0</td>\n      <td>29</td>\n      <td>64</td>\n      <td>...</td>\n      <td>13</td>\n      <td>16</td>\n      <td>10</td>\n      <td>21</td>\n      <td>16</td>\n      <td>17</td>\n      <td>7</td>\n      <td>6</td>\n      <td>25</td>\n      <td>1</td>\n    </tr>\n    <tr>\n      <th>3</th>\n      <td>2011</td>\n      <td>7</td>\n      <td>1400</td>\n      <td>83</td>\n      <td>1298</td>\n      <td>52</td>\n      <td>H</td>\n      <td>0</td>\n      <td>30</td>\n      <td>59</td>\n      <td>...</td>\n      <td>10</td>\n      <td>18</td>\n      <td>8</td>\n      <td>22</td>\n      <td>8</td>\n      <td>16</td>\n      <td>5</td>\n      <td>5</td>\n      <td>24</td>\n      <td>1</td>\n    </tr>\n    <tr>\n      <th>4</th>\n      <td>2011</td>\n      <td>9</td>\n      <td>1228</td>\n      <td>84</td>\n      <td>1405</td>\n      <td>45</td>\n      <td>H</td>\n      <td>0</td>\n      <td>37</td>\n      <td>64</td>\n      <td>...</td>\n      <td>10</td>\n      <td>19</td>\n      <td>6</td>\n      <td>17</td>\n      <td>9</td>\n      <td>23</td>\n      <td>6</td>\n      <td>0</td>\n      <td>14</td>\n      <td>1</td>\n    </tr>\n    <tr>\n      <th>...</th>\n      <td>...</td>\n      <td>...</td>\n      <td>...</td>\n      <td>...</td>\n      <td>...</td>\n      <td>...</td>\n      <td>...</td>\n      <td>...</td>\n      <td>...</td>\n      <td>...</td>\n      <td>...</td>\n      <td>...</td>\n      <td>...</td>\n      <td>...</td>\n      <td>...</td>\n      <td>...</td>\n      <td>...</td>\n      <td>...</td>\n      <td>...</td>\n      <td>...</td>\n      <td>...</td>\n    </tr>\n    <tr>\n      <th>5241</th>\n      <td>2011</td>\n      <td>131</td>\n      <td>1449</td>\n      <td>77</td>\n      <td>1112</td>\n      <td>75</td>\n      <td>N</td>\n      <td>1</td>\n      <td>30</td>\n      <td>66</td>\n      <td>...</td>\n      <td>20</td>\n      <td>30</td>\n      <td>11</td>\n      <td>21</td>\n      <td>12</td>\n      <td>8</td>\n      <td>4</td>\n      <td>2</td>\n      <td>15</td>\n      <td>1</td>\n    </tr>\n    <tr>\n      <th>5242</th>\n      <td>2011</td>\n      <td>132</td>\n      <td>1181</td>\n      <td>75</td>\n      <td>1314</td>\n      <td>58</td>\n      <td>N</td>\n      <td>0</td>\n      <td>29</td>\n      <td>58</td>\n      <td>...</td>\n      <td>14</td>\n      <td>21</td>\n      <td>19</td>\n      <td>25</td>\n      <td>8</td>\n      <td>16</td>\n      <td>4</td>\n      <td>5</td>\n      <td>16</td>\n      <td>1</td>\n    </tr>\n    <tr>\n      <th>5243</th>\n      <td>2011</td>\n      <td>132</td>\n      <td>1246</td>\n      <td>70</td>\n      <td>1196</td>\n      <td>54</td>\n      <td>N</td>\n      <td>0</td>\n      <td>20</td>\n      <td>48</td>\n      <td>...</td>\n      <td>3</td>\n      <td>8</td>\n      <td>15</td>\n      <td>22</td>\n      <td>11</td>\n      <td>14</td>\n      <td>1</td>\n      <td>5</td>\n      <td>22</td>\n      <td>1</td>\n    </tr>\n    <tr>\n      <th>5244</th>\n      <td>2011</td>\n      <td>132</td>\n      <td>1326</td>\n      <td>71</td>\n      <td>1336</td>\n      <td>60</td>\n      <td>N</td>\n      <td>0</td>\n      <td>26</td>\n      <td>51</td>\n      <td>...</td>\n      <td>9</td>\n      <td>9</td>\n      <td>10</td>\n      <td>22</td>\n      <td>8</td>\n      <td>10</td>\n      <td>3</td>\n      <td>2</td>\n      <td>17</td>\n      <td>1</td>\n    </tr>\n    <tr>\n      <th>5245</th>\n      <td>2011</td>\n      <td>132</td>\n      <td>1350</td>\n      <td>67</td>\n      <td>1173</td>\n      <td>54</td>\n      <td>N</td>\n      <td>0</td>\n      <td>19</td>\n      <td>45</td>\n      <td>...</td>\n      <td>9</td>\n      <td>12</td>\n      <td>11</td>\n      <td>22</td>\n      <td>11</td>\n      <td>11</td>\n      <td>5</td>\n      <td>5</td>\n      <td>19</td>\n      <td>1</td>\n    </tr>\n  </tbody>\n</table>\n<p>5246 rows × 35 columns</p>\n</div>"
     },
     "execution_count": 5,
     "metadata": {},
     "output_type": "execute_result"
    }
   ],
   "source": [
    "data_df"
   ],
   "metadata": {
    "collapsed": false
   }
  },
  {
   "cell_type": "code",
   "execution_count": 6,
   "outputs": [
    {
     "data": {
      "text/plain": "     team\n0    1102\n1    1103\n2    1104\n3    1105\n4    1106\n..    ...\n340  1460\n341  1461\n342  1462\n343  1463\n344  1464\n\n[345 rows x 1 columns]",
      "text/html": "<div>\n<style scoped>\n    .dataframe tbody tr th:only-of-type {\n        vertical-align: middle;\n    }\n\n    .dataframe tbody tr th {\n        vertical-align: top;\n    }\n\n    .dataframe thead th {\n        text-align: right;\n    }\n</style>\n<table border=\"1\" class=\"dataframe\">\n  <thead>\n    <tr style=\"text-align: right;\">\n      <th></th>\n      <th>team</th>\n    </tr>\n  </thead>\n  <tbody>\n    <tr>\n      <th>0</th>\n      <td>1102</td>\n    </tr>\n    <tr>\n      <th>1</th>\n      <td>1103</td>\n    </tr>\n    <tr>\n      <th>2</th>\n      <td>1104</td>\n    </tr>\n    <tr>\n      <th>3</th>\n      <td>1105</td>\n    </tr>\n    <tr>\n      <th>4</th>\n      <td>1106</td>\n    </tr>\n    <tr>\n      <th>...</th>\n      <td>...</td>\n    </tr>\n    <tr>\n      <th>340</th>\n      <td>1460</td>\n    </tr>\n    <tr>\n      <th>341</th>\n      <td>1461</td>\n    </tr>\n    <tr>\n      <th>342</th>\n      <td>1462</td>\n    </tr>\n    <tr>\n      <th>343</th>\n      <td>1463</td>\n    </tr>\n    <tr>\n      <th>344</th>\n      <td>1464</td>\n    </tr>\n  </tbody>\n</table>\n<p>345 rows × 1 columns</p>\n</div>"
     },
     "execution_count": 6,
     "metadata": {},
     "output_type": "execute_result"
    }
   ],
   "source": [
    "all_teams_df = pd.concat([data_df['wteam'], data_df['lteam']]).drop_duplicates()\n",
    "all_teams_df = all_teams_df.to_frame().rename(columns={0: 'team'})\n",
    "all_teams_df = all_teams_df.sort_values(by=['team'])\n",
    "all_teams_df = all_teams_df.reset_index(drop=True)\n",
    "all_teams_df"
   ],
   "metadata": {
    "collapsed": false
   }
  },
  {
   "cell_type": "code",
   "execution_count": 7,
   "outputs": [
    {
     "data": {
      "text/plain": "     team  win_count  wfgm  wfga  wstl  wblk  wscore\n0    1102         14   339   673   101    47     994\n1    1103         22   561  1237   159    83    1625\n2    1104         21   545  1199   214   127    1468\n3    1105         10   236   558    82    66     682\n4    1106         15   341   775   118    82    1040\n..    ...        ...   ...   ...   ...   ...     ...\n340  1460         17   395   877   105    17    1166\n341  1461          8   186   396    77    39     557\n342  1462         24   616  1286   130    79    1833\n343  1463         14   362   768    62    76    1045\n344  1464          7   177   394    48    38     508\n\n[345 rows x 7 columns]",
      "text/html": "<div>\n<style scoped>\n    .dataframe tbody tr th:only-of-type {\n        vertical-align: middle;\n    }\n\n    .dataframe tbody tr th {\n        vertical-align: top;\n    }\n\n    .dataframe thead th {\n        text-align: right;\n    }\n</style>\n<table border=\"1\" class=\"dataframe\">\n  <thead>\n    <tr style=\"text-align: right;\">\n      <th></th>\n      <th>team</th>\n      <th>win_count</th>\n      <th>wfgm</th>\n      <th>wfga</th>\n      <th>wstl</th>\n      <th>wblk</th>\n      <th>wscore</th>\n    </tr>\n  </thead>\n  <tbody>\n    <tr>\n      <th>0</th>\n      <td>1102</td>\n      <td>14</td>\n      <td>339</td>\n      <td>673</td>\n      <td>101</td>\n      <td>47</td>\n      <td>994</td>\n    </tr>\n    <tr>\n      <th>1</th>\n      <td>1103</td>\n      <td>22</td>\n      <td>561</td>\n      <td>1237</td>\n      <td>159</td>\n      <td>83</td>\n      <td>1625</td>\n    </tr>\n    <tr>\n      <th>2</th>\n      <td>1104</td>\n      <td>21</td>\n      <td>545</td>\n      <td>1199</td>\n      <td>214</td>\n      <td>127</td>\n      <td>1468</td>\n    </tr>\n    <tr>\n      <th>3</th>\n      <td>1105</td>\n      <td>10</td>\n      <td>236</td>\n      <td>558</td>\n      <td>82</td>\n      <td>66</td>\n      <td>682</td>\n    </tr>\n    <tr>\n      <th>4</th>\n      <td>1106</td>\n      <td>15</td>\n      <td>341</td>\n      <td>775</td>\n      <td>118</td>\n      <td>82</td>\n      <td>1040</td>\n    </tr>\n    <tr>\n      <th>...</th>\n      <td>...</td>\n      <td>...</td>\n      <td>...</td>\n      <td>...</td>\n      <td>...</td>\n      <td>...</td>\n      <td>...</td>\n    </tr>\n    <tr>\n      <th>340</th>\n      <td>1460</td>\n      <td>17</td>\n      <td>395</td>\n      <td>877</td>\n      <td>105</td>\n      <td>17</td>\n      <td>1166</td>\n    </tr>\n    <tr>\n      <th>341</th>\n      <td>1461</td>\n      <td>8</td>\n      <td>186</td>\n      <td>396</td>\n      <td>77</td>\n      <td>39</td>\n      <td>557</td>\n    </tr>\n    <tr>\n      <th>342</th>\n      <td>1462</td>\n      <td>24</td>\n      <td>616</td>\n      <td>1286</td>\n      <td>130</td>\n      <td>79</td>\n      <td>1833</td>\n    </tr>\n    <tr>\n      <th>343</th>\n      <td>1463</td>\n      <td>14</td>\n      <td>362</td>\n      <td>768</td>\n      <td>62</td>\n      <td>76</td>\n      <td>1045</td>\n    </tr>\n    <tr>\n      <th>344</th>\n      <td>1464</td>\n      <td>7</td>\n      <td>177</td>\n      <td>394</td>\n      <td>48</td>\n      <td>38</td>\n      <td>508</td>\n    </tr>\n  </tbody>\n</table>\n<p>345 rows × 7 columns</p>\n</div>"
     },
     "execution_count": 7,
     "metadata": {},
     "output_type": "execute_result"
    }
   ],
   "source": [
    "all_teams_df = (\n",
    "    all_teams_df\n",
    "    .merge(data_df[['count_column', 'wteam', 'wfgm', 'wfga', 'wstl', 'wblk', 'wscore']], left_on='team', right_on='wteam')[['count_column', 'team', 'wfgm', 'wfga', 'wstl', 'wblk', 'wscore']]\n",
    "    .groupby('team')\n",
    "    .sum()\n",
    "    .rename(columns={'count_column': 'win_count'})\n",
    "    .reset_index()\n",
    ")\n",
    "all_teams_df"
   ],
   "metadata": {
    "collapsed": false
   }
  },
  {
   "cell_type": "code",
   "execution_count": 8,
   "outputs": [
    {
     "data": {
      "text/plain": "     team  win_count  wfgm  wfga  wstl  wblk  wscore  loss_count  lfgm  lfga  \\\n0    1102         14   339   673   101    47     994          14   289   667   \n1    1103         22   561  1237   159    83    1625          12   275   708   \n2    1104         21   545  1199   214   127    1468          11   251   590   \n3    1105         10   236   558    82    66     682          15   318   837   \n4    1106         15   341   775   118    82    1040          17   328   907   \n..    ...        ...   ...   ...   ...   ...     ...         ...   ...   ...   \n340  1460         17   395   877   105    17    1166          14   273   682   \n341  1461          8   186   396    77    39     557          21   468  1146   \n342  1462         24   616  1286   130    79    1833           7   147   363   \n343  1463         14   362   768    62    76    1045          13   263   657   \n344  1464          7   177   394    48    38     508          21   515  1279   \n\n     lstl  lblk  lscore  \n0      73    24     805  \n1      60    33     754  \n2      82    40     665  \n3     132    66     888  \n4     116    64     930  \n..    ...   ...     ...  \n340    87    16     822  \n341   136    71    1315  \n342    41    17     418  \n343    63    46     778  \n344   126    97    1400  \n\n[345 rows x 13 columns]",
      "text/html": "<div>\n<style scoped>\n    .dataframe tbody tr th:only-of-type {\n        vertical-align: middle;\n    }\n\n    .dataframe tbody tr th {\n        vertical-align: top;\n    }\n\n    .dataframe thead th {\n        text-align: right;\n    }\n</style>\n<table border=\"1\" class=\"dataframe\">\n  <thead>\n    <tr style=\"text-align: right;\">\n      <th></th>\n      <th>team</th>\n      <th>win_count</th>\n      <th>wfgm</th>\n      <th>wfga</th>\n      <th>wstl</th>\n      <th>wblk</th>\n      <th>wscore</th>\n      <th>loss_count</th>\n      <th>lfgm</th>\n      <th>lfga</th>\n      <th>lstl</th>\n      <th>lblk</th>\n      <th>lscore</th>\n    </tr>\n  </thead>\n  <tbody>\n    <tr>\n      <th>0</th>\n      <td>1102</td>\n      <td>14</td>\n      <td>339</td>\n      <td>673</td>\n      <td>101</td>\n      <td>47</td>\n      <td>994</td>\n      <td>14</td>\n      <td>289</td>\n      <td>667</td>\n      <td>73</td>\n      <td>24</td>\n      <td>805</td>\n    </tr>\n    <tr>\n      <th>1</th>\n      <td>1103</td>\n      <td>22</td>\n      <td>561</td>\n      <td>1237</td>\n      <td>159</td>\n      <td>83</td>\n      <td>1625</td>\n      <td>12</td>\n      <td>275</td>\n      <td>708</td>\n      <td>60</td>\n      <td>33</td>\n      <td>754</td>\n    </tr>\n    <tr>\n      <th>2</th>\n      <td>1104</td>\n      <td>21</td>\n      <td>545</td>\n      <td>1199</td>\n      <td>214</td>\n      <td>127</td>\n      <td>1468</td>\n      <td>11</td>\n      <td>251</td>\n      <td>590</td>\n      <td>82</td>\n      <td>40</td>\n      <td>665</td>\n    </tr>\n    <tr>\n      <th>3</th>\n      <td>1105</td>\n      <td>10</td>\n      <td>236</td>\n      <td>558</td>\n      <td>82</td>\n      <td>66</td>\n      <td>682</td>\n      <td>15</td>\n      <td>318</td>\n      <td>837</td>\n      <td>132</td>\n      <td>66</td>\n      <td>888</td>\n    </tr>\n    <tr>\n      <th>4</th>\n      <td>1106</td>\n      <td>15</td>\n      <td>341</td>\n      <td>775</td>\n      <td>118</td>\n      <td>82</td>\n      <td>1040</td>\n      <td>17</td>\n      <td>328</td>\n      <td>907</td>\n      <td>116</td>\n      <td>64</td>\n      <td>930</td>\n    </tr>\n    <tr>\n      <th>...</th>\n      <td>...</td>\n      <td>...</td>\n      <td>...</td>\n      <td>...</td>\n      <td>...</td>\n      <td>...</td>\n      <td>...</td>\n      <td>...</td>\n      <td>...</td>\n      <td>...</td>\n      <td>...</td>\n      <td>...</td>\n      <td>...</td>\n    </tr>\n    <tr>\n      <th>340</th>\n      <td>1460</td>\n      <td>17</td>\n      <td>395</td>\n      <td>877</td>\n      <td>105</td>\n      <td>17</td>\n      <td>1166</td>\n      <td>14</td>\n      <td>273</td>\n      <td>682</td>\n      <td>87</td>\n      <td>16</td>\n      <td>822</td>\n    </tr>\n    <tr>\n      <th>341</th>\n      <td>1461</td>\n      <td>8</td>\n      <td>186</td>\n      <td>396</td>\n      <td>77</td>\n      <td>39</td>\n      <td>557</td>\n      <td>21</td>\n      <td>468</td>\n      <td>1146</td>\n      <td>136</td>\n      <td>71</td>\n      <td>1315</td>\n    </tr>\n    <tr>\n      <th>342</th>\n      <td>1462</td>\n      <td>24</td>\n      <td>616</td>\n      <td>1286</td>\n      <td>130</td>\n      <td>79</td>\n      <td>1833</td>\n      <td>7</td>\n      <td>147</td>\n      <td>363</td>\n      <td>41</td>\n      <td>17</td>\n      <td>418</td>\n    </tr>\n    <tr>\n      <th>343</th>\n      <td>1463</td>\n      <td>14</td>\n      <td>362</td>\n      <td>768</td>\n      <td>62</td>\n      <td>76</td>\n      <td>1045</td>\n      <td>13</td>\n      <td>263</td>\n      <td>657</td>\n      <td>63</td>\n      <td>46</td>\n      <td>778</td>\n    </tr>\n    <tr>\n      <th>344</th>\n      <td>1464</td>\n      <td>7</td>\n      <td>177</td>\n      <td>394</td>\n      <td>48</td>\n      <td>38</td>\n      <td>508</td>\n      <td>21</td>\n      <td>515</td>\n      <td>1279</td>\n      <td>126</td>\n      <td>97</td>\n      <td>1400</td>\n    </tr>\n  </tbody>\n</table>\n<p>345 rows × 13 columns</p>\n</div>"
     },
     "execution_count": 8,
     "metadata": {},
     "output_type": "execute_result"
    }
   ],
   "source": [
    "all_teams_df = (\n",
    "    all_teams_df.copy()\n",
    "    .merge(data_df[['count_column', 'lteam', 'lfgm', 'lfga', 'lstl', 'lblk', 'lscore']], left_on='team', right_on='lteam')[['count_column', 'team', 'win_count', 'wfgm', 'wfga', 'wstl', 'wblk', 'wscore', 'lfgm', 'lfga', 'lstl', 'lblk', 'lscore']]\n",
    "    .groupby(['team', 'win_count', 'wfgm', 'wfga', 'wstl', 'wblk', 'wscore'])\n",
    "    .sum()\n",
    "    .rename(columns={'count_column': 'loss_count'})\n",
    "    .reset_index()\n",
    ")\n",
    "\n",
    "all_teams_df"
   ],
   "metadata": {
    "collapsed": false
   }
  },
  {
   "cell_type": "code",
   "execution_count": 9,
   "outputs": [],
   "source": [
    "all_teams_df['fgm'] = all_teams_df['wfgm'] + all_teams_df['lfgm']\n",
    "all_teams_df['fga'] = all_teams_df['wfga'] + all_teams_df['lfga']\n",
    "all_teams_df['fgp'] = all_teams_df['fgm'] / all_teams_df['fga']\n",
    "all_teams_df['stl'] = all_teams_df['wstl'] + all_teams_df['lstl']\n",
    "all_teams_df['blk'] = all_teams_df['wblk'] + all_teams_df['lblk']\n",
    "all_teams_df['points'] = all_teams_df['wscore'] + all_teams_df['lscore']\n",
    "all_teams_df['mean_points'] = all_teams_df['points'].mean()"
   ],
   "metadata": {
    "collapsed": false
   }
  },
  {
   "cell_type": "code",
   "execution_count": 10,
   "outputs": [],
   "source": [
    "all_teams_df = all_teams_df[['team', 'win_count', 'loss_count', 'stl', 'blk', 'points', 'mean_points', 'fgp']]"
   ],
   "metadata": {
    "collapsed": false
   }
  },
  {
   "cell_type": "code",
   "execution_count": 11,
   "outputs": [
    {
     "data": {
      "text/plain": "                                              opponents\nteam                                                   \n1102  [1398, 1459, 1169, 1191, 1300, 1115, 1358, 119...\n1103  [1464, 1178, 1227, 1126, 1114, 1391, 1115, 133...\n1104  [1197, 1407, 1105, 1375, 1368, 1252, 1337, 140...\n1105  [1212, 1290, 1106, 1108, 1380, 1341, 1115, 144...\n1106  [1244, 1212, 1115, 1108, 1290, 1105, 1380, 134...\n...                                                 ...\n1460  [1380, 1324, 1102, 1141, 1275, 1454, 1453, 122...\n1461  [1442, 1232, 1176, 1147, 1244, 1307, 1395, 110...\n1462  [1444, 1236, 1234, 1371, 1459, 1139, 1448, 110...\n1463  [1130, 1119, 1216, 1107, 1136, 1221, 1135, 116...\n1464  [1359, 1138, 1405, 1384, 1227, 1139, 1132, 110...\n\n[345 rows x 1 columns]",
      "text/html": "<div>\n<style scoped>\n    .dataframe tbody tr th:only-of-type {\n        vertical-align: middle;\n    }\n\n    .dataframe tbody tr th {\n        vertical-align: top;\n    }\n\n    .dataframe thead th {\n        text-align: right;\n    }\n</style>\n<table border=\"1\" class=\"dataframe\">\n  <thead>\n    <tr style=\"text-align: right;\">\n      <th></th>\n      <th>opponents</th>\n    </tr>\n    <tr>\n      <th>team</th>\n      <th></th>\n    </tr>\n  </thead>\n  <tbody>\n    <tr>\n      <th>1102</th>\n      <td>[1398, 1459, 1169, 1191, 1300, 1115, 1358, 119...</td>\n    </tr>\n    <tr>\n      <th>1103</th>\n      <td>[1464, 1178, 1227, 1126, 1114, 1391, 1115, 133...</td>\n    </tr>\n    <tr>\n      <th>1104</th>\n      <td>[1197, 1407, 1105, 1375, 1368, 1252, 1337, 140...</td>\n    </tr>\n    <tr>\n      <th>1105</th>\n      <td>[1212, 1290, 1106, 1108, 1380, 1341, 1115, 144...</td>\n    </tr>\n    <tr>\n      <th>1106</th>\n      <td>[1244, 1212, 1115, 1108, 1290, 1105, 1380, 134...</td>\n    </tr>\n    <tr>\n      <th>...</th>\n      <td>...</td>\n    </tr>\n    <tr>\n      <th>1460</th>\n      <td>[1380, 1324, 1102, 1141, 1275, 1454, 1453, 122...</td>\n    </tr>\n    <tr>\n      <th>1461</th>\n      <td>[1442, 1232, 1176, 1147, 1244, 1307, 1395, 110...</td>\n    </tr>\n    <tr>\n      <th>1462</th>\n      <td>[1444, 1236, 1234, 1371, 1459, 1139, 1448, 110...</td>\n    </tr>\n    <tr>\n      <th>1463</th>\n      <td>[1130, 1119, 1216, 1107, 1136, 1221, 1135, 116...</td>\n    </tr>\n    <tr>\n      <th>1464</th>\n      <td>[1359, 1138, 1405, 1384, 1227, 1139, 1132, 110...</td>\n    </tr>\n  </tbody>\n</table>\n<p>345 rows × 1 columns</p>\n</div>"
     },
     "execution_count": 11,
     "metadata": {},
     "output_type": "execute_result"
    }
   ],
   "source": [
    "opponents_df = pd.concat([\n",
    "    all_teams_df.merge(data_df, left_on='team', right_on='wteam')[['team', 'lteam']].rename(columns={'lteam': 'opponents'}),\n",
    "    all_teams_df.merge(data_df, left_on='team', right_on='lteam')[['team', 'wteam']].rename(columns={'wteam': 'opponents'})\n",
    "]).drop_duplicates().groupby('team').agg(list)\n",
    "opponents_df"
   ],
   "metadata": {
    "collapsed": false
   }
  },
  {
   "cell_type": "code",
   "execution_count": 12,
   "outputs": [
    {
     "data": {
      "text/plain": "     team  win_count  loss_count  stl  blk  points  mean_points       fgp  \\\n0    1102         14          14  174   71    1799  2080.834783  0.468657   \n1    1103         22          12  219  116    2379  2080.834783  0.429820   \n2    1104         21          11  296  167    2133  2080.834783  0.444941   \n3    1105         10          15  214  132    1570  2080.834783  0.397133   \n4    1106         15          17  234  146    1970  2080.834783  0.397741   \n..    ...        ...         ...  ...  ...     ...          ...       ...   \n340  1460         17          14  192   33    1988  2080.834783  0.428480   \n341  1461          8          21  213  110    1872  2080.834783  0.424125   \n342  1462         24           7  171   96    2251  2080.834783  0.462705   \n343  1463         14          13  125  122    1823  2080.834783  0.438596   \n344  1464          7          21  174  135    1908  2080.834783  0.413628   \n\n                                             opponents  \n0    [1398, 1459, 1169, 1191, 1300, 1115, 1358, 119...  \n1    [1464, 1178, 1227, 1126, 1114, 1391, 1115, 133...  \n2    [1197, 1407, 1105, 1375, 1368, 1252, 1337, 140...  \n3    [1212, 1290, 1106, 1108, 1380, 1341, 1115, 144...  \n4    [1244, 1212, 1115, 1108, 1290, 1105, 1380, 134...  \n..                                                 ...  \n340  [1380, 1324, 1102, 1141, 1275, 1454, 1453, 122...  \n341  [1442, 1232, 1176, 1147, 1244, 1307, 1395, 110...  \n342  [1444, 1236, 1234, 1371, 1459, 1139, 1448, 110...  \n343  [1130, 1119, 1216, 1107, 1136, 1221, 1135, 116...  \n344  [1359, 1138, 1405, 1384, 1227, 1139, 1132, 110...  \n\n[345 rows x 9 columns]",
      "text/html": "<div>\n<style scoped>\n    .dataframe tbody tr th:only-of-type {\n        vertical-align: middle;\n    }\n\n    .dataframe tbody tr th {\n        vertical-align: top;\n    }\n\n    .dataframe thead th {\n        text-align: right;\n    }\n</style>\n<table border=\"1\" class=\"dataframe\">\n  <thead>\n    <tr style=\"text-align: right;\">\n      <th></th>\n      <th>team</th>\n      <th>win_count</th>\n      <th>loss_count</th>\n      <th>stl</th>\n      <th>blk</th>\n      <th>points</th>\n      <th>mean_points</th>\n      <th>fgp</th>\n      <th>opponents</th>\n    </tr>\n  </thead>\n  <tbody>\n    <tr>\n      <th>0</th>\n      <td>1102</td>\n      <td>14</td>\n      <td>14</td>\n      <td>174</td>\n      <td>71</td>\n      <td>1799</td>\n      <td>2080.834783</td>\n      <td>0.468657</td>\n      <td>[1398, 1459, 1169, 1191, 1300, 1115, 1358, 119...</td>\n    </tr>\n    <tr>\n      <th>1</th>\n      <td>1103</td>\n      <td>22</td>\n      <td>12</td>\n      <td>219</td>\n      <td>116</td>\n      <td>2379</td>\n      <td>2080.834783</td>\n      <td>0.429820</td>\n      <td>[1464, 1178, 1227, 1126, 1114, 1391, 1115, 133...</td>\n    </tr>\n    <tr>\n      <th>2</th>\n      <td>1104</td>\n      <td>21</td>\n      <td>11</td>\n      <td>296</td>\n      <td>167</td>\n      <td>2133</td>\n      <td>2080.834783</td>\n      <td>0.444941</td>\n      <td>[1197, 1407, 1105, 1375, 1368, 1252, 1337, 140...</td>\n    </tr>\n    <tr>\n      <th>3</th>\n      <td>1105</td>\n      <td>10</td>\n      <td>15</td>\n      <td>214</td>\n      <td>132</td>\n      <td>1570</td>\n      <td>2080.834783</td>\n      <td>0.397133</td>\n      <td>[1212, 1290, 1106, 1108, 1380, 1341, 1115, 144...</td>\n    </tr>\n    <tr>\n      <th>4</th>\n      <td>1106</td>\n      <td>15</td>\n      <td>17</td>\n      <td>234</td>\n      <td>146</td>\n      <td>1970</td>\n      <td>2080.834783</td>\n      <td>0.397741</td>\n      <td>[1244, 1212, 1115, 1108, 1290, 1105, 1380, 134...</td>\n    </tr>\n    <tr>\n      <th>...</th>\n      <td>...</td>\n      <td>...</td>\n      <td>...</td>\n      <td>...</td>\n      <td>...</td>\n      <td>...</td>\n      <td>...</td>\n      <td>...</td>\n      <td>...</td>\n    </tr>\n    <tr>\n      <th>340</th>\n      <td>1460</td>\n      <td>17</td>\n      <td>14</td>\n      <td>192</td>\n      <td>33</td>\n      <td>1988</td>\n      <td>2080.834783</td>\n      <td>0.428480</td>\n      <td>[1380, 1324, 1102, 1141, 1275, 1454, 1453, 122...</td>\n    </tr>\n    <tr>\n      <th>341</th>\n      <td>1461</td>\n      <td>8</td>\n      <td>21</td>\n      <td>213</td>\n      <td>110</td>\n      <td>1872</td>\n      <td>2080.834783</td>\n      <td>0.424125</td>\n      <td>[1442, 1232, 1176, 1147, 1244, 1307, 1395, 110...</td>\n    </tr>\n    <tr>\n      <th>342</th>\n      <td>1462</td>\n      <td>24</td>\n      <td>7</td>\n      <td>171</td>\n      <td>96</td>\n      <td>2251</td>\n      <td>2080.834783</td>\n      <td>0.462705</td>\n      <td>[1444, 1236, 1234, 1371, 1459, 1139, 1448, 110...</td>\n    </tr>\n    <tr>\n      <th>343</th>\n      <td>1463</td>\n      <td>14</td>\n      <td>13</td>\n      <td>125</td>\n      <td>122</td>\n      <td>1823</td>\n      <td>2080.834783</td>\n      <td>0.438596</td>\n      <td>[1130, 1119, 1216, 1107, 1136, 1221, 1135, 116...</td>\n    </tr>\n    <tr>\n      <th>344</th>\n      <td>1464</td>\n      <td>7</td>\n      <td>21</td>\n      <td>174</td>\n      <td>135</td>\n      <td>1908</td>\n      <td>2080.834783</td>\n      <td>0.413628</td>\n      <td>[1359, 1138, 1405, 1384, 1227, 1139, 1132, 110...</td>\n    </tr>\n  </tbody>\n</table>\n<p>345 rows × 9 columns</p>\n</div>"
     },
     "execution_count": 12,
     "metadata": {},
     "output_type": "execute_result"
    }
   ],
   "source": [
    "all_teams_df = all_teams_df.merge(opponents_df, on='team')\n",
    "all_teams_df"
   ],
   "metadata": {
    "collapsed": false
   }
  },
  {
   "cell_type": "code",
   "execution_count": 13,
   "outputs": [],
   "source": [
    "def calculate_opponents_win_percentage(opponents: list[int]) -> float:\n",
    "    o_df = pd.DataFrame(opponents, columns=['opponent_team'])\n",
    "\n",
    "    tmp_df = o_df.merge(all_teams_df, left_on='opponent_team', right_on='team')\n",
    "\n",
    "    total_wins = tmp_df['win_count'].sum()\n",
    "    total_losses = tmp_df['loss_count'].sum()\n",
    "\n",
    "    return total_wins / (total_wins + total_losses)"
   ],
   "metadata": {
    "collapsed": false
   }
  },
  {
   "cell_type": "markdown",
   "source": [
    "Formula za RPI: https://www.nbastuffer.com/analytics101/relative-percentage-index-rpi/"
   ],
   "metadata": {
    "collapsed": false
   }
  },
  {
   "cell_type": "code",
   "execution_count": 63,
   "outputs": [],
   "source": [
    "def calculate_rpi(row: pd.Series) -> pd.Series:\n",
    "    op = calculate_opponents_win_percentage(row['opponents'])\n",
    "\n",
    "    o_df = pd.DataFrame(row['opponents'], columns=['opponent_team'])\n",
    "    tmp_df = o_df.merge(all_teams_df, left_on='opponent_team', right_on='team')\n",
    "\n",
    "    tmp_list = tmp_df['opponents'].tolist()\n",
    "    oop_list = []\n",
    "    for i in tmp_list:\n",
    "        oop_list += i\n",
    "\n",
    "    oop = calculate_opponents_win_percentage(oop_list)\n",
    "\n",
    "    row['rpi'] = round((2 * op + oop) / 3 * 1000)\n",
    "\n",
    "    return row"
   ],
   "metadata": {
    "collapsed": false
   }
  },
  {
   "cell_type": "code",
   "execution_count": 64,
   "outputs": [],
   "source": [
    "def calculate_bpi(row: pd.Series) -> pd.Series:\n",
    "    win_count = row['win_count']\n",
    "    loss_count = row['loss_count']\n",
    "    total_count = win_count + loss_count\n",
    "\n",
    "    points = row['points']\n",
    "    mean_points = row['mean_points']\n",
    "\n",
    "    row['bpi'] = (win_count / total_count) * (points - mean_points) / total_count\n",
    "\n",
    "    return row"
   ],
   "metadata": {
    "collapsed": false
   }
  },
  {
   "cell_type": "code",
   "execution_count": 65,
   "outputs": [
    {
     "data": {
      "text/plain": "     team  win_count  loss_count  stl  blk  points  mean_points       fgp  \\\n0    1102         14          14  174   71    1799  2080.834783  0.468657   \n1    1103         22          12  219  116    2379  2080.834783  0.429820   \n2    1104         21          11  296  167    2133  2080.834783  0.444941   \n3    1105         10          15  214  132    1570  2080.834783  0.397133   \n4    1106         15          17  234  146    1970  2080.834783  0.397741   \n..    ...        ...         ...  ...  ...     ...          ...       ...   \n340  1460         17          14  192   33    1988  2080.834783  0.428480   \n341  1461          8          21  213  110    1872  2080.834783  0.424125   \n342  1462         24           7  171   96    2251  2080.834783  0.462705   \n343  1463         14          13  125  122    1823  2080.834783  0.438596   \n344  1464          7          21  174  135    1908  2080.834783  0.413628   \n\n                                             opponents  rpi       bpi  \n0    [1398, 1459, 1169, 1191, 1300, 1115, 1358, 119...  527 -5.032764  \n1    [1464, 1178, 1227, 1126, 1114, 1391, 1115, 133...  484  5.674425  \n2    [1197, 1407, 1105, 1375, 1368, 1252, 1337, 140...  513  1.069794  \n3    [1212, 1290, 1106, 1108, 1380, 1341, 1115, 144...  459 -8.173357  \n4    [1244, 1212, 1115, 1108, 1290, 1105, 1380, 134...  458 -1.623556  \n..                                                 ...  ...       ...  \n340  [1380, 1324, 1102, 1141, 1275, 1454, 1453, 122...  512 -1.642239  \n341  [1442, 1232, 1176, 1147, 1244, 1307, 1395, 110...  509 -1.986538  \n342  [1444, 1236, 1234, 1371, 1459, 1139, 1448, 110...  550  4.249704  \n343  [1130, 1119, 1216, 1107, 1136, 1221, 1135, 116...  492 -4.951560  \n344  [1359, 1138, 1405, 1384, 1227, 1139, 1132, 110...  502 -1.543168  \n\n[345 rows x 11 columns]",
      "text/html": "<div>\n<style scoped>\n    .dataframe tbody tr th:only-of-type {\n        vertical-align: middle;\n    }\n\n    .dataframe tbody tr th {\n        vertical-align: top;\n    }\n\n    .dataframe thead th {\n        text-align: right;\n    }\n</style>\n<table border=\"1\" class=\"dataframe\">\n  <thead>\n    <tr style=\"text-align: right;\">\n      <th></th>\n      <th>team</th>\n      <th>win_count</th>\n      <th>loss_count</th>\n      <th>stl</th>\n      <th>blk</th>\n      <th>points</th>\n      <th>mean_points</th>\n      <th>fgp</th>\n      <th>opponents</th>\n      <th>rpi</th>\n      <th>bpi</th>\n    </tr>\n  </thead>\n  <tbody>\n    <tr>\n      <th>0</th>\n      <td>1102</td>\n      <td>14</td>\n      <td>14</td>\n      <td>174</td>\n      <td>71</td>\n      <td>1799</td>\n      <td>2080.834783</td>\n      <td>0.468657</td>\n      <td>[1398, 1459, 1169, 1191, 1300, 1115, 1358, 119...</td>\n      <td>527</td>\n      <td>-5.032764</td>\n    </tr>\n    <tr>\n      <th>1</th>\n      <td>1103</td>\n      <td>22</td>\n      <td>12</td>\n      <td>219</td>\n      <td>116</td>\n      <td>2379</td>\n      <td>2080.834783</td>\n      <td>0.429820</td>\n      <td>[1464, 1178, 1227, 1126, 1114, 1391, 1115, 133...</td>\n      <td>484</td>\n      <td>5.674425</td>\n    </tr>\n    <tr>\n      <th>2</th>\n      <td>1104</td>\n      <td>21</td>\n      <td>11</td>\n      <td>296</td>\n      <td>167</td>\n      <td>2133</td>\n      <td>2080.834783</td>\n      <td>0.444941</td>\n      <td>[1197, 1407, 1105, 1375, 1368, 1252, 1337, 140...</td>\n      <td>513</td>\n      <td>1.069794</td>\n    </tr>\n    <tr>\n      <th>3</th>\n      <td>1105</td>\n      <td>10</td>\n      <td>15</td>\n      <td>214</td>\n      <td>132</td>\n      <td>1570</td>\n      <td>2080.834783</td>\n      <td>0.397133</td>\n      <td>[1212, 1290, 1106, 1108, 1380, 1341, 1115, 144...</td>\n      <td>459</td>\n      <td>-8.173357</td>\n    </tr>\n    <tr>\n      <th>4</th>\n      <td>1106</td>\n      <td>15</td>\n      <td>17</td>\n      <td>234</td>\n      <td>146</td>\n      <td>1970</td>\n      <td>2080.834783</td>\n      <td>0.397741</td>\n      <td>[1244, 1212, 1115, 1108, 1290, 1105, 1380, 134...</td>\n      <td>458</td>\n      <td>-1.623556</td>\n    </tr>\n    <tr>\n      <th>...</th>\n      <td>...</td>\n      <td>...</td>\n      <td>...</td>\n      <td>...</td>\n      <td>...</td>\n      <td>...</td>\n      <td>...</td>\n      <td>...</td>\n      <td>...</td>\n      <td>...</td>\n      <td>...</td>\n    </tr>\n    <tr>\n      <th>340</th>\n      <td>1460</td>\n      <td>17</td>\n      <td>14</td>\n      <td>192</td>\n      <td>33</td>\n      <td>1988</td>\n      <td>2080.834783</td>\n      <td>0.428480</td>\n      <td>[1380, 1324, 1102, 1141, 1275, 1454, 1453, 122...</td>\n      <td>512</td>\n      <td>-1.642239</td>\n    </tr>\n    <tr>\n      <th>341</th>\n      <td>1461</td>\n      <td>8</td>\n      <td>21</td>\n      <td>213</td>\n      <td>110</td>\n      <td>1872</td>\n      <td>2080.834783</td>\n      <td>0.424125</td>\n      <td>[1442, 1232, 1176, 1147, 1244, 1307, 1395, 110...</td>\n      <td>509</td>\n      <td>-1.986538</td>\n    </tr>\n    <tr>\n      <th>342</th>\n      <td>1462</td>\n      <td>24</td>\n      <td>7</td>\n      <td>171</td>\n      <td>96</td>\n      <td>2251</td>\n      <td>2080.834783</td>\n      <td>0.462705</td>\n      <td>[1444, 1236, 1234, 1371, 1459, 1139, 1448, 110...</td>\n      <td>550</td>\n      <td>4.249704</td>\n    </tr>\n    <tr>\n      <th>343</th>\n      <td>1463</td>\n      <td>14</td>\n      <td>13</td>\n      <td>125</td>\n      <td>122</td>\n      <td>1823</td>\n      <td>2080.834783</td>\n      <td>0.438596</td>\n      <td>[1130, 1119, 1216, 1107, 1136, 1221, 1135, 116...</td>\n      <td>492</td>\n      <td>-4.951560</td>\n    </tr>\n    <tr>\n      <th>344</th>\n      <td>1464</td>\n      <td>7</td>\n      <td>21</td>\n      <td>174</td>\n      <td>135</td>\n      <td>1908</td>\n      <td>2080.834783</td>\n      <td>0.413628</td>\n      <td>[1359, 1138, 1405, 1384, 1227, 1139, 1132, 110...</td>\n      <td>502</td>\n      <td>-1.543168</td>\n    </tr>\n  </tbody>\n</table>\n<p>345 rows × 11 columns</p>\n</div>"
     },
     "execution_count": 65,
     "metadata": {},
     "output_type": "execute_result"
    }
   ],
   "source": [
    "all_teams_df = all_teams_df.apply(calculate_rpi, axis=1)\n",
    "all_teams_df = all_teams_df.apply(calculate_bpi, axis=1)\n",
    "all_teams_df"
   ],
   "metadata": {
    "collapsed": false
   }
  },
  {
   "cell_type": "code",
   "execution_count": 66,
   "outputs": [
    {
     "data": {
      "text/plain": "      wteam  lteam  wpoints      wfgp  wrpi      wbpi  lpoints      lfgp  \\\n0      1228   1414     2281  0.467554   565  3.714003     2312  0.418592   \n1      1334   1414     1879  0.433534   501 -3.359913     2312  0.418592   \n2      1363   1414     2222  0.399680   480  2.350305     2312  0.418592   \n3      1364   1414     1968  0.450941   500 -2.146678     2312  0.418592   \n4      1417   1414     2239  0.456395   549  3.398081     2312  0.418592   \n...     ...    ...      ...       ...   ...       ...      ...       ...   \n5241   1358   1427     1881  0.443857   499 -3.837705     2044  0.429112   \n5242   1358   1427     1881  0.443857   499 -3.837705     2044  0.429112   \n5243   1132   1427     2035  0.431526   464 -0.581887     2044  0.429112   \n5244   1345   1326     2325  0.447712   559  5.961065     2621  0.493651   \n5245   1458   1326     2114  0.445247   548  0.793757     2621  0.493651   \n\n      lrpi       lbpi  wstl  lstl  wblk  lblk  rpi_diff   bpi_diff  \\\n0      440   2.886558   178   202   148    53       125   0.827445   \n1      440   2.886558   129   202    53    53        61  -6.246472   \n2      440   2.886558   167   202    73    53        40  -0.536253   \n3      440   2.886558   209   202   121    53        60  -5.033237   \n4      440   2.886558   174   202   185    53       109   0.511522   \n...    ...        ...   ...   ...   ...   ...       ...        ...   \n5241   446  -0.700781   195   197    64    69        53  -3.136924   \n5242   446  -0.700781   195   197    64    69        53  -3.136924   \n5243   446  -0.700781   267   197   102    69        18   0.118894   \n5244   549  14.952670   201   244   132   113        10  -8.991605   \n5245   549  14.952670   107   244    98   113        -1 -14.158914   \n\n      point_diff  steal_diff  block_diff  field_goal_percent_diff  \n0            -31         -24          95                 0.048962  \n1           -433         -73           0                 0.014942  \n2            -90         -35          20                -0.018912  \n3           -344           7          68                 0.032349  \n4            -73         -28         132                 0.037803  \n...          ...         ...         ...                      ...  \n5241        -163          -2          -5                 0.014746  \n5242        -163          -2          -5                 0.014746  \n5243          -9          70          33                 0.002414  \n5244        -296         -43          19                -0.045938  \n5245        -507        -137         -15                -0.048404  \n\n[5246 rows x 20 columns]",
      "text/html": "<div>\n<style scoped>\n    .dataframe tbody tr th:only-of-type {\n        vertical-align: middle;\n    }\n\n    .dataframe tbody tr th {\n        vertical-align: top;\n    }\n\n    .dataframe thead th {\n        text-align: right;\n    }\n</style>\n<table border=\"1\" class=\"dataframe\">\n  <thead>\n    <tr style=\"text-align: right;\">\n      <th></th>\n      <th>wteam</th>\n      <th>lteam</th>\n      <th>wpoints</th>\n      <th>wfgp</th>\n      <th>wrpi</th>\n      <th>wbpi</th>\n      <th>lpoints</th>\n      <th>lfgp</th>\n      <th>lrpi</th>\n      <th>lbpi</th>\n      <th>wstl</th>\n      <th>lstl</th>\n      <th>wblk</th>\n      <th>lblk</th>\n      <th>rpi_diff</th>\n      <th>bpi_diff</th>\n      <th>point_diff</th>\n      <th>steal_diff</th>\n      <th>block_diff</th>\n      <th>field_goal_percent_diff</th>\n    </tr>\n  </thead>\n  <tbody>\n    <tr>\n      <th>0</th>\n      <td>1228</td>\n      <td>1414</td>\n      <td>2281</td>\n      <td>0.467554</td>\n      <td>565</td>\n      <td>3.714003</td>\n      <td>2312</td>\n      <td>0.418592</td>\n      <td>440</td>\n      <td>2.886558</td>\n      <td>178</td>\n      <td>202</td>\n      <td>148</td>\n      <td>53</td>\n      <td>125</td>\n      <td>0.827445</td>\n      <td>-31</td>\n      <td>-24</td>\n      <td>95</td>\n      <td>0.048962</td>\n    </tr>\n    <tr>\n      <th>1</th>\n      <td>1334</td>\n      <td>1414</td>\n      <td>1879</td>\n      <td>0.433534</td>\n      <td>501</td>\n      <td>-3.359913</td>\n      <td>2312</td>\n      <td>0.418592</td>\n      <td>440</td>\n      <td>2.886558</td>\n      <td>129</td>\n      <td>202</td>\n      <td>53</td>\n      <td>53</td>\n      <td>61</td>\n      <td>-6.246472</td>\n      <td>-433</td>\n      <td>-73</td>\n      <td>0</td>\n      <td>0.014942</td>\n    </tr>\n    <tr>\n      <th>2</th>\n      <td>1363</td>\n      <td>1414</td>\n      <td>2222</td>\n      <td>0.399680</td>\n      <td>480</td>\n      <td>2.350305</td>\n      <td>2312</td>\n      <td>0.418592</td>\n      <td>440</td>\n      <td>2.886558</td>\n      <td>167</td>\n      <td>202</td>\n      <td>73</td>\n      <td>53</td>\n      <td>40</td>\n      <td>-0.536253</td>\n      <td>-90</td>\n      <td>-35</td>\n      <td>20</td>\n      <td>-0.018912</td>\n    </tr>\n    <tr>\n      <th>3</th>\n      <td>1364</td>\n      <td>1414</td>\n      <td>1968</td>\n      <td>0.450941</td>\n      <td>500</td>\n      <td>-2.146678</td>\n      <td>2312</td>\n      <td>0.418592</td>\n      <td>440</td>\n      <td>2.886558</td>\n      <td>209</td>\n      <td>202</td>\n      <td>121</td>\n      <td>53</td>\n      <td>60</td>\n      <td>-5.033237</td>\n      <td>-344</td>\n      <td>7</td>\n      <td>68</td>\n      <td>0.032349</td>\n    </tr>\n    <tr>\n      <th>4</th>\n      <td>1417</td>\n      <td>1414</td>\n      <td>2239</td>\n      <td>0.456395</td>\n      <td>549</td>\n      <td>3.398081</td>\n      <td>2312</td>\n      <td>0.418592</td>\n      <td>440</td>\n      <td>2.886558</td>\n      <td>174</td>\n      <td>202</td>\n      <td>185</td>\n      <td>53</td>\n      <td>109</td>\n      <td>0.511522</td>\n      <td>-73</td>\n      <td>-28</td>\n      <td>132</td>\n      <td>0.037803</td>\n    </tr>\n    <tr>\n      <th>...</th>\n      <td>...</td>\n      <td>...</td>\n      <td>...</td>\n      <td>...</td>\n      <td>...</td>\n      <td>...</td>\n      <td>...</td>\n      <td>...</td>\n      <td>...</td>\n      <td>...</td>\n      <td>...</td>\n      <td>...</td>\n      <td>...</td>\n      <td>...</td>\n      <td>...</td>\n      <td>...</td>\n      <td>...</td>\n      <td>...</td>\n      <td>...</td>\n      <td>...</td>\n    </tr>\n    <tr>\n      <th>5241</th>\n      <td>1358</td>\n      <td>1427</td>\n      <td>1881</td>\n      <td>0.443857</td>\n      <td>499</td>\n      <td>-3.837705</td>\n      <td>2044</td>\n      <td>0.429112</td>\n      <td>446</td>\n      <td>-0.700781</td>\n      <td>195</td>\n      <td>197</td>\n      <td>64</td>\n      <td>69</td>\n      <td>53</td>\n      <td>-3.136924</td>\n      <td>-163</td>\n      <td>-2</td>\n      <td>-5</td>\n      <td>0.014746</td>\n    </tr>\n    <tr>\n      <th>5242</th>\n      <td>1358</td>\n      <td>1427</td>\n      <td>1881</td>\n      <td>0.443857</td>\n      <td>499</td>\n      <td>-3.837705</td>\n      <td>2044</td>\n      <td>0.429112</td>\n      <td>446</td>\n      <td>-0.700781</td>\n      <td>195</td>\n      <td>197</td>\n      <td>64</td>\n      <td>69</td>\n      <td>53</td>\n      <td>-3.136924</td>\n      <td>-163</td>\n      <td>-2</td>\n      <td>-5</td>\n      <td>0.014746</td>\n    </tr>\n    <tr>\n      <th>5243</th>\n      <td>1132</td>\n      <td>1427</td>\n      <td>2035</td>\n      <td>0.431526</td>\n      <td>464</td>\n      <td>-0.581887</td>\n      <td>2044</td>\n      <td>0.429112</td>\n      <td>446</td>\n      <td>-0.700781</td>\n      <td>267</td>\n      <td>197</td>\n      <td>102</td>\n      <td>69</td>\n      <td>18</td>\n      <td>0.118894</td>\n      <td>-9</td>\n      <td>70</td>\n      <td>33</td>\n      <td>0.002414</td>\n    </tr>\n    <tr>\n      <th>5244</th>\n      <td>1345</td>\n      <td>1326</td>\n      <td>2325</td>\n      <td>0.447712</td>\n      <td>559</td>\n      <td>5.961065</td>\n      <td>2621</td>\n      <td>0.493651</td>\n      <td>549</td>\n      <td>14.952670</td>\n      <td>201</td>\n      <td>244</td>\n      <td>132</td>\n      <td>113</td>\n      <td>10</td>\n      <td>-8.991605</td>\n      <td>-296</td>\n      <td>-43</td>\n      <td>19</td>\n      <td>-0.045938</td>\n    </tr>\n    <tr>\n      <th>5245</th>\n      <td>1458</td>\n      <td>1326</td>\n      <td>2114</td>\n      <td>0.445247</td>\n      <td>548</td>\n      <td>0.793757</td>\n      <td>2621</td>\n      <td>0.493651</td>\n      <td>549</td>\n      <td>14.952670</td>\n      <td>107</td>\n      <td>244</td>\n      <td>98</td>\n      <td>113</td>\n      <td>-1</td>\n      <td>-14.158914</td>\n      <td>-507</td>\n      <td>-137</td>\n      <td>-15</td>\n      <td>-0.048404</td>\n    </tr>\n  </tbody>\n</table>\n<p>5246 rows × 20 columns</p>\n</div>"
     },
     "execution_count": 66,
     "metadata": {},
     "output_type": "execute_result"
    }
   ],
   "source": [
    "data_enriched_df = data_df.merge(all_teams_df, left_on='wteam', right_on='team')\n",
    "data_enriched_df = data_enriched_df.rename(columns={i: f'w{i}' for i in all_teams_df if i not in ['team', 'win_count', 'loss_count', 'opponents', 'mean_points']})\n",
    "data_enriched_df.pop('team')\n",
    "data_enriched_df.pop('count_column')\n",
    "\n",
    "data_enriched_df = data_enriched_df.merge(all_teams_df, left_on='lteam', right_on='team')\n",
    "data_enriched_df = data_enriched_df.rename(columns={i: f'l{i}' for i in all_teams_df if i not in ['team', 'win_count', 'loss_count', 'opponents', 'mean_points']})\n",
    "data_enriched_df.pop('team')\n",
    "\n",
    "data_enriched_df = data_enriched_df[['wteam', 'lteam'] + [f'w{i}' for i in all_teams_df if i not in ['team', 'win_count', 'loss_count', 'opponents', 'mean_points']] + [f'l{i}' for i in all_teams_df if i not in ['team', 'win_count', 'loss_count', 'opponents', 'mean_points']]]\n",
    "\n",
    "data_enriched_df['wstl'] = data_enriched_df.pop('wstl').loc[:, [False, True]]\n",
    "data_enriched_df['lstl'] = data_enriched_df.pop('lstl').loc[:, [False, True]]\n",
    "data_enriched_df['wblk'] = data_enriched_df.pop('wblk').loc[:, [False, True]]\n",
    "data_enriched_df['lblk'] = data_enriched_df.pop('lblk').loc[:, [False, True]]\n",
    "\n",
    "data_enriched_df['rpi_diff'] = data_enriched_df['wrpi'] - data_enriched_df['lrpi']\n",
    "data_enriched_df['bpi_diff'] = data_enriched_df['wbpi'] - data_enriched_df['lbpi']\n",
    "data_enriched_df['point_diff'] = data_enriched_df['wpoints'] - data_enriched_df['lpoints']\n",
    "data_enriched_df['steal_diff'] = data_enriched_df['wstl'] - data_enriched_df['lstl']\n",
    "data_enriched_df['block_diff'] = data_enriched_df['wblk'] - data_enriched_df['lblk']\n",
    "data_enriched_df['field_goal_percent_diff'] = data_enriched_df['wfgp'] - data_enriched_df['lfgp']\n",
    "\n",
    "data_enriched_df"
   ],
   "metadata": {
    "collapsed": false
   }
  },
  {
   "cell_type": "code",
   "execution_count": 79,
   "outputs": [
    {
     "data": {
      "text/plain": "          rpi_diff\ncount  5246.000000\nmean     29.184140\nstd      23.589653\nmin       0.000000\n25%      11.000000\n50%      24.000000\n75%      41.000000\nmax     162.000000",
      "text/html": "<div>\n<style scoped>\n    .dataframe tbody tr th:only-of-type {\n        vertical-align: middle;\n    }\n\n    .dataframe tbody tr th {\n        vertical-align: top;\n    }\n\n    .dataframe thead th {\n        text-align: right;\n    }\n</style>\n<table border=\"1\" class=\"dataframe\">\n  <thead>\n    <tr style=\"text-align: right;\">\n      <th></th>\n      <th>rpi_diff</th>\n    </tr>\n  </thead>\n  <tbody>\n    <tr>\n      <th>count</th>\n      <td>5246.000000</td>\n    </tr>\n    <tr>\n      <th>mean</th>\n      <td>29.184140</td>\n    </tr>\n    <tr>\n      <th>std</th>\n      <td>23.589653</td>\n    </tr>\n    <tr>\n      <th>min</th>\n      <td>0.000000</td>\n    </tr>\n    <tr>\n      <th>25%</th>\n      <td>11.000000</td>\n    </tr>\n    <tr>\n      <th>50%</th>\n      <td>24.000000</td>\n    </tr>\n    <tr>\n      <th>75%</th>\n      <td>41.000000</td>\n    </tr>\n    <tr>\n      <th>max</th>\n      <td>162.000000</td>\n    </tr>\n  </tbody>\n</table>\n</div>"
     },
     "execution_count": 79,
     "metadata": {},
     "output_type": "execute_result"
    }
   ],
   "source": [
    "rank_diff_df: pd.DataFrame = data_enriched_df['rpi_diff'].to_frame()\n",
    "rank_diff_df['win'] = rank_diff_df['rpi_diff'] > 0\n",
    "rank_diff_df['rpi_diff'] = rank_diff_df['rpi_diff'].abs()\n",
    "\n",
    "rank_diff_df.describe()"
   ],
   "metadata": {
    "collapsed": false
   }
  },
  {
   "cell_type": "code",
   "execution_count": 80,
   "outputs": [
    {
     "data": {
      "text/plain": "     rpi_diff       win\n0           0  0.000000\n1           1  0.518248\n2           2  0.473684\n3           3  0.526316\n4           4  0.486486\n..        ...       ...\n128       140  1.000000\n129       147       NaN\n130       154       NaN\n131       156       NaN\n132       162  0.333333\n\n[133 rows x 2 columns]",
      "text/html": "<div>\n<style scoped>\n    .dataframe tbody tr th:only-of-type {\n        vertical-align: middle;\n    }\n\n    .dataframe tbody tr th {\n        vertical-align: top;\n    }\n\n    .dataframe thead th {\n        text-align: right;\n    }\n</style>\n<table border=\"1\" class=\"dataframe\">\n  <thead>\n    <tr style=\"text-align: right;\">\n      <th></th>\n      <th>rpi_diff</th>\n      <th>win</th>\n    </tr>\n  </thead>\n  <tbody>\n    <tr>\n      <th>0</th>\n      <td>0</td>\n      <td>0.000000</td>\n    </tr>\n    <tr>\n      <th>1</th>\n      <td>1</td>\n      <td>0.518248</td>\n    </tr>\n    <tr>\n      <th>2</th>\n      <td>2</td>\n      <td>0.473684</td>\n    </tr>\n    <tr>\n      <th>3</th>\n      <td>3</td>\n      <td>0.526316</td>\n    </tr>\n    <tr>\n      <th>4</th>\n      <td>4</td>\n      <td>0.486486</td>\n    </tr>\n    <tr>\n      <th>...</th>\n      <td>...</td>\n      <td>...</td>\n    </tr>\n    <tr>\n      <th>128</th>\n      <td>140</td>\n      <td>1.000000</td>\n    </tr>\n    <tr>\n      <th>129</th>\n      <td>147</td>\n      <td>NaN</td>\n    </tr>\n    <tr>\n      <th>130</th>\n      <td>154</td>\n      <td>NaN</td>\n    </tr>\n    <tr>\n      <th>131</th>\n      <td>156</td>\n      <td>NaN</td>\n    </tr>\n    <tr>\n      <th>132</th>\n      <td>162</td>\n      <td>0.333333</td>\n    </tr>\n  </tbody>\n</table>\n<p>133 rows × 2 columns</p>\n</div>"
     },
     "execution_count": 80,
     "metadata": {},
     "output_type": "execute_result"
    }
   ],
   "source": [
    "rank_diff_graph = rank_diff_df.groupby('rpi_diff').sum().reset_index()\n",
    "rank_diff_graph['win'] = rank_diff_graph['win'] / rank_diff_df.groupby('rpi_diff').count()['win']\n",
    "\n",
    "rank_diff_graph"
   ],
   "metadata": {
    "collapsed": false
   }
  },
  {
   "cell_type": "code",
   "execution_count": 81,
   "outputs": [
    {
     "data": {
      "text/plain": "<Figure size 640x480 with 1 Axes>",
      "image/png": "[encoded data removed]"
     },
     "metadata": {},
     "output_type": "display_data"
    }
   ],
   "source": [
    "plt.scatter(rank_diff_graph['rpi_diff'], rank_diff_graph['win'])\n",
    "plt.show()"
   ],
   "metadata": {
    "collapsed": false
   }
  },
  {
   "cell_type": "code",
   "execution_count": null,
   "outputs": [],
   "source": [
    "\"\"\"\n",
    "from sklearn import linear_model\n",
    "from sklearn.metrics import mean_squared_error\n",
    "\n",
    "# Input: D – Dataset with n data records with m variables, including information of winning W and losing L\n",
    "D = ...\n",
    "\n",
    "# Input: V – Set of variables in D\n",
    "V = ...\n",
    "\n",
    "# Let V' be the set of k new variables related to V\n",
    "V_prime = ...\n",
    "\n",
    "# Let D' be the dataset with variables V'\n",
    "D_prime = D[V_prime]\n",
    "\n",
    "# Initialize P to 0\n",
    "P = 0\n",
    "\n",
    "# Loop over each variable in V'\n",
    "for v in V_prime:\n",
    "    # Calculate the n values D'_v from D\n",
    "    D_v = D_prime[v]\n",
    "\n",
    "    # Create a linear regression model\n",
    "    model = linear_model.LinearRegression()\n",
    "\n",
    "    # Fit the model to the data\n",
    "    model.fit(D_v, W)\n",
    "\n",
    "    # Calculate the probability of winning\n",
    "    pv = calProbWin(D_v, W, L, model)\n",
    "\n",
    "    # Add the probability to P\n",
    "    P += pv\n",
    "\n",
    "# Divide P by the number of variables in V' to get the average probability\n",
    "P /= len(V_prime)\n",
    "\n",
    "# Return the average probability\n",
    "return P\n",
    "\"\"\""
   ],
   "metadata": {
    "collapsed": false
   }
  }
 ],
 "metadata": {
  "kernelspec": {
   "display_name": "Python 3",
   "language": "python",
   "name": "python3"
  },
  "language_info": {
   "codemirror_mode": {
    "name": "ipython",
    "version": 2
   },
   "file_extension": ".py",
   "mimetype": "text/x-python",
   "name": "python",
   "nbconvert_exporter": "python",
   "pygments_lexer": "ipython2",
   "version": "2.7.6"
  }
 },
 "nbformat": 4,
 "nbformat_minor": 0
}
