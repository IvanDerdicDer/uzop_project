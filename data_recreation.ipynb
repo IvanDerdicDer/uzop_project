{
 "cells": [
  {
   "cell_type": "code",
   "execution_count": 2,
   "outputs": [],
   "source": [
    "import pandas as pd\n",
    "import matplotlib.pyplot as plt"
   ],
   "metadata": {
    "collapsed": false
   }
  },
  {
   "cell_type": "code",
   "execution_count": null,
   "metadata": {
    "collapsed": true
   },
   "outputs": [],
   "source": [
    "regular_season_results_df = pd.read_csv('data/regular_season_results.csv')\n",
    "regular_season_results_df"
   ]
  },
  {
   "cell_type": "code",
   "execution_count": null,
   "outputs": [],
   "source": [
    "tourney_seeds_df = pd.read_csv('data/tourney_seeds.csv')\n",
    "tourney_seeds_df"
   ],
   "metadata": {
    "collapsed": false
   }
  },
  {
   "cell_type": "code",
   "execution_count": null,
   "outputs": [],
   "source": [
    "tourney_slots_df = pd.read_csv('data/tourney_slots.csv')\n",
    "tourney_slots_df"
   ],
   "metadata": {
    "collapsed": false
   }
  },
  {
   "cell_type": "code",
   "execution_count": null,
   "outputs": [],
   "source": [
    "merge_df = regular_season_results_df[['season', 'wteam', 'lteam']]\n",
    "merge_df = merge_df.merge(tourney_seeds_df, left_on=['season', 'wteam'], right_on=['season', 'team'])\n",
    "merge_df = merge_df.merge(tourney_seeds_df, left_on=['season', 'lteam'], right_on=['season', 'team'])\n",
    "merge_df = merge_df[['season', 'wteam', 'seed_x', 'lteam', 'seed_y']]\n",
    "merge_df = merge_df.rename(columns={'seed_x': 'wseed', 'seed_y': 'lseed'})\n",
    "merge_df['wseed'] = merge_df['wseed'].str[1:]\n",
    "merge_df['lseed'] = merge_df['lseed'].str[1:]"
   ],
   "metadata": {
    "collapsed": false
   }
  },
  {
   "cell_type": "code",
   "execution_count": null,
   "outputs": [],
   "source": [
    "merge_df['vs'] = merge_df['wseed'] + '-' + merge_df['lseed']\n",
    "merge_df"
   ],
   "metadata": {
    "collapsed": false
   }
  },
  {
   "cell_type": "code",
   "execution_count": null,
   "outputs": [],
   "source": [
    "higher_seed_won_df: pd.DataFrame = merge_df.loc[\n",
    "    (merge_df['vs'] == '16-01') | (merge_df['vs'] == '15-02') | (merge_df['vs'] == '14-03') | (\n",
    "                merge_df['vs'] == '13-04') | (merge_df['vs'] == '12-05') | (merge_df['vs'] == '11-06') | (\n",
    "                merge_df['vs'] == '10-07') | (merge_df['vs'] == '09-08')\n",
    "    ][['wseed', 'season']]\n",
    "\n",
    "higher_seed_won_df"
   ],
   "metadata": {
    "collapsed": false
   }
  },
  {
   "cell_type": "code",
   "execution_count": null,
   "outputs": [],
   "source": [
    "higher_seed_lost_df = merge_df.loc[\n",
    "    (merge_df['vs'] == '01-16') | (merge_df['vs'] == '02-15') | (merge_df['vs'] == '03-14') | (\n",
    "                merge_df['vs'] == '04-13') | (merge_df['vs'] == '05-12') | (merge_df['vs'] == '06-11') | (\n",
    "                merge_df['vs'] == '07-10') | (merge_df['vs'] == '08-09')\n",
    "    ][['lseed', 'season']]\n",
    "\n",
    "higher_seed_lost_df"
   ],
   "metadata": {
    "collapsed": false
   }
  },
  {
   "cell_type": "code",
   "execution_count": null,
   "outputs": [],
   "source": [
    "won_dict = higher_seed_won_df.groupby('wseed').count().to_dict().pop('season')"
   ],
   "metadata": {
    "collapsed": false
   }
  },
  {
   "cell_type": "code",
   "execution_count": null,
   "outputs": [],
   "source": [
    "lost_dict = higher_seed_lost_df.groupby('lseed').count().to_dict().pop('season')"
   ],
   "metadata": {
    "collapsed": false
   }
  },
  {
   "cell_type": "code",
   "execution_count": null,
   "outputs": [],
   "source": [
    "sum_dict = {i: 0 for i in lost_dict}"
   ],
   "metadata": {
    "collapsed": false
   }
  },
  {
   "cell_type": "code",
   "execution_count": null,
   "outputs": [],
   "source": [
    "for key in sum_dict:\n",
    "    if key in won_dict:\n",
    "        sum_dict[key] += won_dict[key]\n",
    "    else:\n",
    "        won_dict[key] = 0\n",
    "\n",
    "    if key in lost_dict:\n",
    "        sum_dict[key] += lost_dict[key]"
   ],
   "metadata": {
    "collapsed": false
   }
  },
  {
   "cell_type": "code",
   "execution_count": null,
   "outputs": [],
   "source": [
    "sum_dict"
   ],
   "metadata": {
    "collapsed": false
   }
  },
  {
   "cell_type": "code",
   "execution_count": null,
   "outputs": [],
   "source": [
    "percentage_dict = {i: won_dict[i] / sum_dict[i] for i in sum_dict}"
   ],
   "metadata": {
    "collapsed": false
   }
  },
  {
   "cell_type": "code",
   "execution_count": null,
   "outputs": [],
   "source": [
    "percentage_dict"
   ],
   "metadata": {
    "collapsed": false
   }
  },
  {
   "cell_type": "code",
   "execution_count": null,
   "outputs": [],
   "source": [
    "x_axis = list(reversed(percentage_dict.keys()))\n",
    "x_axis = [f'{int(i)}-{16 - int(i) + 1}' for i in x_axis]\n",
    "y_axis = list(reversed(percentage_dict.values()))"
   ],
   "metadata": {
    "collapsed": false
   }
  },
  {
   "cell_type": "code",
   "execution_count": null,
   "outputs": [],
   "source": [
    "plt.plot(x_axis, y_axis)\n",
    "plt.xlabel('Seeds playing together')\n",
    "plt.ylabel('Percentage of the higher seed winning')\n",
    "plt.show()"
   ],
   "metadata": {
    "collapsed": false
   }
  },
  {
   "cell_type": "markdown",
   "source": [
    "START"
   ],
   "metadata": {
    "collapsed": false
   }
  },
  {
   "cell_type": "code",
   "execution_count": 3,
   "outputs": [],
   "source": [
    "regular_season_df = pd.read_csv('data/regular_season_detailed_results.csv')\n",
    "tourney_df = pd.read_csv('data/tourney_detailed_results.csv')"
   ],
   "metadata": {
    "collapsed": false
   }
  },
  {
   "cell_type": "code",
   "execution_count": 4,
   "outputs": [],
   "source": [
    "data_df: pd.DataFrame = regular_season_df.loc[\n",
    "    (regular_season_df['season'] == 2011) | (regular_season_df['season'] == 2012) | (\n",
    "                regular_season_df['season'] == 2013) | (regular_season_df['season'] == 2014)\n",
    "    ].reset_index(drop=True)\n",
    "\n",
    "data_2015_df = pd.read_csv('data/regular_season_detailed_results_2015.csv')\n",
    "\n",
    "data_df = pd.concat([data_df, tourney_df.loc[\n",
    "    (tourney_df['season'] == 2011) |\\\n",
    "    (tourney_df['season'] == 2012) |\\\n",
    "    (tourney_df['season'] == 2013)\n",
    "], data_2015_df])\n",
    "\n",
    "data_df['count_column'] = 1"
   ],
   "metadata": {
    "collapsed": false
   }
  },
  {
   "cell_type": "code",
   "execution_count": 5,
   "outputs": [
    {
     "data": {
      "text/plain": "      season  daynum  wteam  wscore  lteam  lscore wloc  numot  wfgm  wfga  \\\n0       2011       7   1228      79   1414      65    H      0    29    58   \n1       2011       7   1268     105   1370      76    H      0    35    62   \n2       2011       7   1338      83   1348      75    H      0    29    64   \n3       2011       7   1400      83   1298      52    H      0    30    59   \n4       2011       9   1228      84   1405      45    H      0    37    64   \n...      ...     ...    ...     ...    ...     ...  ...    ...   ...   ...   \n5349    2015     132   1209      38   1204      36    N      0    15    46   \n5350    2015     132   1246      78   1116      63    N      0    25    49   \n5351    2015     132   1374      62   1163      54    N      0    18    51   \n5352    2015     132   1433      71   1173      65    N      0    24    56   \n5353    2015     132   1458      80   1277      69    N      1    25    52   \n\n      ...  lftm  lfta  lor  ldr  last  lto  lstl  lblk  lpf  count_column  \n0     ...    14    22   11   26    12   14     7     1   21             1  \n1     ...    17    22   18   16    11   27    18     1   31             1  \n2     ...    13    16   10   21    16   17     7     6   25             1  \n3     ...    10    18    8   22     8   16     5     5   24             1  \n4     ...    10    19    6   17     9   23     6     0   14             1  \n...   ...   ...   ...  ...  ...   ...  ...   ...   ...  ...           ...  \n5349  ...     9    13   14   20     7    8     4     5   11             1  \n5350  ...    11    17    9   11     5   12     4     3   22             1  \n5351  ...    16    21    4   18     6    7     1     7   22             1  \n5352  ...    21    27    8   22    10   10    11     2   16             1  \n5353  ...     9     9    6   23    16   13     3     2   17             1  \n\n[26736 rows x 35 columns]",
      "text/html": "<div>\n<style scoped>\n    .dataframe tbody tr th:only-of-type {\n        vertical-align: middle;\n    }\n\n    .dataframe tbody tr th {\n        vertical-align: top;\n    }\n\n    .dataframe thead th {\n        text-align: right;\n    }\n</style>\n<table border=\"1\" class=\"dataframe\">\n  <thead>\n    <tr style=\"text-align: right;\">\n      <th></th>\n      <th>season</th>\n      <th>daynum</th>\n      <th>wteam</th>\n      <th>wscore</th>\n      <th>lteam</th>\n      <th>lscore</th>\n      <th>wloc</th>\n      <th>numot</th>\n      <th>wfgm</th>\n      <th>wfga</th>\n      <th>...</th>\n      <th>lftm</th>\n      <th>lfta</th>\n      <th>lor</th>\n      <th>ldr</th>\n      <th>last</th>\n      <th>lto</th>\n      <th>lstl</th>\n      <th>lblk</th>\n      <th>lpf</th>\n      <th>count_column</th>\n    </tr>\n  </thead>\n  <tbody>\n    <tr>\n      <th>0</th>\n      <td>2011</td>\n      <td>7</td>\n      <td>1228</td>\n      <td>79</td>\n      <td>1414</td>\n      <td>65</td>\n      <td>H</td>\n      <td>0</td>\n      <td>29</td>\n      <td>58</td>\n      <td>...</td>\n      <td>14</td>\n      <td>22</td>\n      <td>11</td>\n      <td>26</td>\n      <td>12</td>\n      <td>14</td>\n      <td>7</td>\n      <td>1</td>\n      <td>21</td>\n      <td>1</td>\n    </tr>\n    <tr>\n      <th>1</th>\n      <td>2011</td>\n      <td>7</td>\n      <td>1268</td>\n      <td>105</td>\n      <td>1370</td>\n      <td>76</td>\n      <td>H</td>\n      <td>0</td>\n      <td>35</td>\n      <td>62</td>\n      <td>...</td>\n      <td>17</td>\n      <td>22</td>\n      <td>18</td>\n      <td>16</td>\n      <td>11</td>\n      <td>27</td>\n      <td>18</td>\n      <td>1</td>\n      <td>31</td>\n      <td>1</td>\n    </tr>\n    <tr>\n      <th>2</th>\n      <td>2011</td>\n      <td>7</td>\n      <td>1338</td>\n      <td>83</td>\n      <td>1348</td>\n      <td>75</td>\n      <td>H</td>\n      <td>0</td>\n      <td>29</td>\n      <td>64</td>\n      <td>...</td>\n      <td>13</td>\n      <td>16</td>\n      <td>10</td>\n      <td>21</td>\n      <td>16</td>\n      <td>17</td>\n      <td>7</td>\n      <td>6</td>\n      <td>25</td>\n      <td>1</td>\n    </tr>\n    <tr>\n      <th>3</th>\n      <td>2011</td>\n      <td>7</td>\n      <td>1400</td>\n      <td>83</td>\n      <td>1298</td>\n      <td>52</td>\n      <td>H</td>\n      <td>0</td>\n      <td>30</td>\n      <td>59</td>\n      <td>...</td>\n      <td>10</td>\n      <td>18</td>\n      <td>8</td>\n      <td>22</td>\n      <td>8</td>\n      <td>16</td>\n      <td>5</td>\n      <td>5</td>\n      <td>24</td>\n      <td>1</td>\n    </tr>\n    <tr>\n      <th>4</th>\n      <td>2011</td>\n      <td>9</td>\n      <td>1228</td>\n      <td>84</td>\n      <td>1405</td>\n      <td>45</td>\n      <td>H</td>\n      <td>0</td>\n      <td>37</td>\n      <td>64</td>\n      <td>...</td>\n      <td>10</td>\n      <td>19</td>\n      <td>6</td>\n      <td>17</td>\n      <td>9</td>\n      <td>23</td>\n      <td>6</td>\n      <td>0</td>\n      <td>14</td>\n      <td>1</td>\n    </tr>\n    <tr>\n      <th>...</th>\n      <td>...</td>\n      <td>...</td>\n      <td>...</td>\n      <td>...</td>\n      <td>...</td>\n      <td>...</td>\n      <td>...</td>\n      <td>...</td>\n      <td>...</td>\n      <td>...</td>\n      <td>...</td>\n      <td>...</td>\n      <td>...</td>\n      <td>...</td>\n      <td>...</td>\n      <td>...</td>\n      <td>...</td>\n      <td>...</td>\n      <td>...</td>\n      <td>...</td>\n      <td>...</td>\n    </tr>\n    <tr>\n      <th>5349</th>\n      <td>2015</td>\n      <td>132</td>\n      <td>1209</td>\n      <td>38</td>\n      <td>1204</td>\n      <td>36</td>\n      <td>N</td>\n      <td>0</td>\n      <td>15</td>\n      <td>46</td>\n      <td>...</td>\n      <td>9</td>\n      <td>13</td>\n      <td>14</td>\n      <td>20</td>\n      <td>7</td>\n      <td>8</td>\n      <td>4</td>\n      <td>5</td>\n      <td>11</td>\n      <td>1</td>\n    </tr>\n    <tr>\n      <th>5350</th>\n      <td>2015</td>\n      <td>132</td>\n      <td>1246</td>\n      <td>78</td>\n      <td>1116</td>\n      <td>63</td>\n      <td>N</td>\n      <td>0</td>\n      <td>25</td>\n      <td>49</td>\n      <td>...</td>\n      <td>11</td>\n      <td>17</td>\n      <td>9</td>\n      <td>11</td>\n      <td>5</td>\n      <td>12</td>\n      <td>4</td>\n      <td>3</td>\n      <td>22</td>\n      <td>1</td>\n    </tr>\n    <tr>\n      <th>5351</th>\n      <td>2015</td>\n      <td>132</td>\n      <td>1374</td>\n      <td>62</td>\n      <td>1163</td>\n      <td>54</td>\n      <td>N</td>\n      <td>0</td>\n      <td>18</td>\n      <td>51</td>\n      <td>...</td>\n      <td>16</td>\n      <td>21</td>\n      <td>4</td>\n      <td>18</td>\n      <td>6</td>\n      <td>7</td>\n      <td>1</td>\n      <td>7</td>\n      <td>22</td>\n      <td>1</td>\n    </tr>\n    <tr>\n      <th>5352</th>\n      <td>2015</td>\n      <td>132</td>\n      <td>1433</td>\n      <td>71</td>\n      <td>1173</td>\n      <td>65</td>\n      <td>N</td>\n      <td>0</td>\n      <td>24</td>\n      <td>56</td>\n      <td>...</td>\n      <td>21</td>\n      <td>27</td>\n      <td>8</td>\n      <td>22</td>\n      <td>10</td>\n      <td>10</td>\n      <td>11</td>\n      <td>2</td>\n      <td>16</td>\n      <td>1</td>\n    </tr>\n    <tr>\n      <th>5353</th>\n      <td>2015</td>\n      <td>132</td>\n      <td>1458</td>\n      <td>80</td>\n      <td>1277</td>\n      <td>69</td>\n      <td>N</td>\n      <td>1</td>\n      <td>25</td>\n      <td>52</td>\n      <td>...</td>\n      <td>9</td>\n      <td>9</td>\n      <td>6</td>\n      <td>23</td>\n      <td>16</td>\n      <td>13</td>\n      <td>3</td>\n      <td>2</td>\n      <td>17</td>\n      <td>1</td>\n    </tr>\n  </tbody>\n</table>\n<p>26736 rows × 35 columns</p>\n</div>"
     },
     "execution_count": 5,
     "metadata": {},
     "output_type": "execute_result"
    }
   ],
   "source": [
    "data_df"
   ],
   "metadata": {
    "collapsed": false
   }
  },
  {
   "cell_type": "markdown",
   "source": [
    "TAKE 1"
   ],
   "metadata": {
    "collapsed": false
   }
  },
  {
   "cell_type": "code",
   "execution_count": 6,
   "outputs": [
    {
     "data": {
      "text/plain": "      season  team\n0       2014  1101\n1       2015  1101\n2       2015  1102\n3       2013  1102\n4       2014  1102\n...      ...   ...\n1734    2013  1464\n1735    2015  1464\n1736    2012  1464\n1737    2014  1464\n1738    2011  1464\n\n[1739 rows x 2 columns]",
      "text/html": "<div>\n<style scoped>\n    .dataframe tbody tr th:only-of-type {\n        vertical-align: middle;\n    }\n\n    .dataframe tbody tr th {\n        vertical-align: top;\n    }\n\n    .dataframe thead th {\n        text-align: right;\n    }\n</style>\n<table border=\"1\" class=\"dataframe\">\n  <thead>\n    <tr style=\"text-align: right;\">\n      <th></th>\n      <th>season</th>\n      <th>team</th>\n    </tr>\n  </thead>\n  <tbody>\n    <tr>\n      <th>0</th>\n      <td>2014</td>\n      <td>1101</td>\n    </tr>\n    <tr>\n      <th>1</th>\n      <td>2015</td>\n      <td>1101</td>\n    </tr>\n    <tr>\n      <th>2</th>\n      <td>2015</td>\n      <td>1102</td>\n    </tr>\n    <tr>\n      <th>3</th>\n      <td>2013</td>\n      <td>1102</td>\n    </tr>\n    <tr>\n      <th>4</th>\n      <td>2014</td>\n      <td>1102</td>\n    </tr>\n    <tr>\n      <th>...</th>\n      <td>...</td>\n      <td>...</td>\n    </tr>\n    <tr>\n      <th>1734</th>\n      <td>2013</td>\n      <td>1464</td>\n    </tr>\n    <tr>\n      <th>1735</th>\n      <td>2015</td>\n      <td>1464</td>\n    </tr>\n    <tr>\n      <th>1736</th>\n      <td>2012</td>\n      <td>1464</td>\n    </tr>\n    <tr>\n      <th>1737</th>\n      <td>2014</td>\n      <td>1464</td>\n    </tr>\n    <tr>\n      <th>1738</th>\n      <td>2011</td>\n      <td>1464</td>\n    </tr>\n  </tbody>\n</table>\n<p>1739 rows × 2 columns</p>\n</div>"
     },
     "execution_count": 6,
     "metadata": {},
     "output_type": "execute_result"
    }
   ],
   "source": [
    "all_teams_df = pd.concat([data_df[['season', 'wteam']].rename(columns={'wteam': 'team'}), data_df[['season', 'lteam']].rename(columns={'lteam': 'team'})]).drop_duplicates()\n",
    "#all_teams_df = all_teams_df.rename(columns={0: 'team'})\n",
    "all_teams_df = all_teams_df.sort_values(by=['team'])\n",
    "all_teams_df = all_teams_df.reset_index(drop=True)\n",
    "all_teams_df"
   ],
   "metadata": {
    "collapsed": false
   }
  },
  {
   "cell_type": "code",
   "execution_count": 7,
   "outputs": [
    {
     "data": {
      "text/plain": "      season  team  win_count  wfgm  wfga  wstl  wblk  wscore\n0       2011  1102         14   339   673   101    47     994\n1       2011  1103         22   561  1237   159    83    1625\n2       2011  1104         21   545  1199   214   127    1468\n3       2011  1105         10   236   558    82    66     682\n4       2011  1106         15   341   775   118    82    1040\n...      ...   ...        ...   ...   ...   ...   ...     ...\n1731    2015  1460          9   226   458    43    22     635\n1732    2015  1461         23   514  1047   133    71    1519\n1733    2015  1462         21   556  1105   136    66    1586\n1734    2015  1463         20   445   979   127    81    1353\n1735    2015  1464          8   221   424    48    16     629\n\n[1736 rows x 8 columns]",
      "text/html": "<div>\n<style scoped>\n    .dataframe tbody tr th:only-of-type {\n        vertical-align: middle;\n    }\n\n    .dataframe tbody tr th {\n        vertical-align: top;\n    }\n\n    .dataframe thead th {\n        text-align: right;\n    }\n</style>\n<table border=\"1\" class=\"dataframe\">\n  <thead>\n    <tr style=\"text-align: right;\">\n      <th></th>\n      <th>season</th>\n      <th>team</th>\n      <th>win_count</th>\n      <th>wfgm</th>\n      <th>wfga</th>\n      <th>wstl</th>\n      <th>wblk</th>\n      <th>wscore</th>\n    </tr>\n  </thead>\n  <tbody>\n    <tr>\n      <th>0</th>\n      <td>2011</td>\n      <td>1102</td>\n      <td>14</td>\n      <td>339</td>\n      <td>673</td>\n      <td>101</td>\n      <td>47</td>\n      <td>994</td>\n    </tr>\n    <tr>\n      <th>1</th>\n      <td>2011</td>\n      <td>1103</td>\n      <td>22</td>\n      <td>561</td>\n      <td>1237</td>\n      <td>159</td>\n      <td>83</td>\n      <td>1625</td>\n    </tr>\n    <tr>\n      <th>2</th>\n      <td>2011</td>\n      <td>1104</td>\n      <td>21</td>\n      <td>545</td>\n      <td>1199</td>\n      <td>214</td>\n      <td>127</td>\n      <td>1468</td>\n    </tr>\n    <tr>\n      <th>3</th>\n      <td>2011</td>\n      <td>1105</td>\n      <td>10</td>\n      <td>236</td>\n      <td>558</td>\n      <td>82</td>\n      <td>66</td>\n      <td>682</td>\n    </tr>\n    <tr>\n      <th>4</th>\n      <td>2011</td>\n      <td>1106</td>\n      <td>15</td>\n      <td>341</td>\n      <td>775</td>\n      <td>118</td>\n      <td>82</td>\n      <td>1040</td>\n    </tr>\n    <tr>\n      <th>...</th>\n      <td>...</td>\n      <td>...</td>\n      <td>...</td>\n      <td>...</td>\n      <td>...</td>\n      <td>...</td>\n      <td>...</td>\n      <td>...</td>\n    </tr>\n    <tr>\n      <th>1731</th>\n      <td>2015</td>\n      <td>1460</td>\n      <td>9</td>\n      <td>226</td>\n      <td>458</td>\n      <td>43</td>\n      <td>22</td>\n      <td>635</td>\n    </tr>\n    <tr>\n      <th>1732</th>\n      <td>2015</td>\n      <td>1461</td>\n      <td>23</td>\n      <td>514</td>\n      <td>1047</td>\n      <td>133</td>\n      <td>71</td>\n      <td>1519</td>\n    </tr>\n    <tr>\n      <th>1733</th>\n      <td>2015</td>\n      <td>1462</td>\n      <td>21</td>\n      <td>556</td>\n      <td>1105</td>\n      <td>136</td>\n      <td>66</td>\n      <td>1586</td>\n    </tr>\n    <tr>\n      <th>1734</th>\n      <td>2015</td>\n      <td>1463</td>\n      <td>20</td>\n      <td>445</td>\n      <td>979</td>\n      <td>127</td>\n      <td>81</td>\n      <td>1353</td>\n    </tr>\n    <tr>\n      <th>1735</th>\n      <td>2015</td>\n      <td>1464</td>\n      <td>8</td>\n      <td>221</td>\n      <td>424</td>\n      <td>48</td>\n      <td>16</td>\n      <td>629</td>\n    </tr>\n  </tbody>\n</table>\n<p>1736 rows × 8 columns</p>\n</div>"
     },
     "execution_count": 7,
     "metadata": {},
     "output_type": "execute_result"
    }
   ],
   "source": [
    "all_teams_df = (\n",
    "    all_teams_df\n",
    "    .merge(data_df[['season', 'count_column', 'wteam', 'wfgm', 'wfga', 'wstl', 'wblk', 'wscore']], left_on=['season', 'team'], right_on=['season', 'wteam'])[['season', 'count_column', 'team', 'wfgm', 'wfga', 'wstl', 'wblk', 'wscore']]\n",
    "    .groupby(['season', 'team'])\n",
    "    .sum()\n",
    "    .rename(columns={'count_column': 'win_count'})\n",
    "    .reset_index()\n",
    ")\n",
    "all_teams_df"
   ],
   "metadata": {
    "collapsed": false
   }
  },
  {
   "cell_type": "code",
   "execution_count": 8,
   "outputs": [
    {
     "data": {
      "text/plain": "      season  team  win_count  wfgm  wfga  wstl  wblk  wscore  loss_count  \\\n0       2011  1102         14   339   673   101    47     994          14   \n1       2011  1103         22   561  1237   159    83    1625          13   \n2       2011  1104         21   545  1199   214   127    1468          11   \n3       2011  1105         10   236   558    82    66     682          15   \n4       2011  1106         15   341   775   118    82    1040          18   \n...      ...   ...        ...   ...   ...   ...   ...     ...         ...   \n1729    2015  1460          9   226   458    43    22     635          20   \n1730    2015  1461         23   514  1047   133    71    1519           9   \n1731    2015  1462         21   556  1105   136    66    1586          13   \n1732    2015  1463         20   445   979   127    81    1353          10   \n1733    2015  1464          8   221   424    48    16     629          21   \n\n      lfgm  lfga  lstl  lblk  lscore  \n0      289   667    73    24     805  \n1      298   772    66    37     810  \n2      251   590    82    40     665  \n3      318   837   132    66     888  \n4      350   969   122    67     991  \n...    ...   ...   ...   ...     ...  \n1729   435  1054   110    51    1197  \n1730   160   428    44    21     447  \n1731   329   766    71    31     915  \n1732   218   546    43    32     612  \n1733   505  1219   123    40    1425  \n\n[1734 rows x 14 columns]",
      "text/html": "<div>\n<style scoped>\n    .dataframe tbody tr th:only-of-type {\n        vertical-align: middle;\n    }\n\n    .dataframe tbody tr th {\n        vertical-align: top;\n    }\n\n    .dataframe thead th {\n        text-align: right;\n    }\n</style>\n<table border=\"1\" class=\"dataframe\">\n  <thead>\n    <tr style=\"text-align: right;\">\n      <th></th>\n      <th>season</th>\n      <th>team</th>\n      <th>win_count</th>\n      <th>wfgm</th>\n      <th>wfga</th>\n      <th>wstl</th>\n      <th>wblk</th>\n      <th>wscore</th>\n      <th>loss_count</th>\n      <th>lfgm</th>\n      <th>lfga</th>\n      <th>lstl</th>\n      <th>lblk</th>\n      <th>lscore</th>\n    </tr>\n  </thead>\n  <tbody>\n    <tr>\n      <th>0</th>\n      <td>2011</td>\n      <td>1102</td>\n      <td>14</td>\n      <td>339</td>\n      <td>673</td>\n      <td>101</td>\n      <td>47</td>\n      <td>994</td>\n      <td>14</td>\n      <td>289</td>\n      <td>667</td>\n      <td>73</td>\n      <td>24</td>\n      <td>805</td>\n    </tr>\n    <tr>\n      <th>1</th>\n      <td>2011</td>\n      <td>1103</td>\n      <td>22</td>\n      <td>561</td>\n      <td>1237</td>\n      <td>159</td>\n      <td>83</td>\n      <td>1625</td>\n      <td>13</td>\n      <td>298</td>\n      <td>772</td>\n      <td>66</td>\n      <td>37</td>\n      <td>810</td>\n    </tr>\n    <tr>\n      <th>2</th>\n      <td>2011</td>\n      <td>1104</td>\n      <td>21</td>\n      <td>545</td>\n      <td>1199</td>\n      <td>214</td>\n      <td>127</td>\n      <td>1468</td>\n      <td>11</td>\n      <td>251</td>\n      <td>590</td>\n      <td>82</td>\n      <td>40</td>\n      <td>665</td>\n    </tr>\n    <tr>\n      <th>3</th>\n      <td>2011</td>\n      <td>1105</td>\n      <td>10</td>\n      <td>236</td>\n      <td>558</td>\n      <td>82</td>\n      <td>66</td>\n      <td>682</td>\n      <td>15</td>\n      <td>318</td>\n      <td>837</td>\n      <td>132</td>\n      <td>66</td>\n      <td>888</td>\n    </tr>\n    <tr>\n      <th>4</th>\n      <td>2011</td>\n      <td>1106</td>\n      <td>15</td>\n      <td>341</td>\n      <td>775</td>\n      <td>118</td>\n      <td>82</td>\n      <td>1040</td>\n      <td>18</td>\n      <td>350</td>\n      <td>969</td>\n      <td>122</td>\n      <td>67</td>\n      <td>991</td>\n    </tr>\n    <tr>\n      <th>...</th>\n      <td>...</td>\n      <td>...</td>\n      <td>...</td>\n      <td>...</td>\n      <td>...</td>\n      <td>...</td>\n      <td>...</td>\n      <td>...</td>\n      <td>...</td>\n      <td>...</td>\n      <td>...</td>\n      <td>...</td>\n      <td>...</td>\n      <td>...</td>\n    </tr>\n    <tr>\n      <th>1729</th>\n      <td>2015</td>\n      <td>1460</td>\n      <td>9</td>\n      <td>226</td>\n      <td>458</td>\n      <td>43</td>\n      <td>22</td>\n      <td>635</td>\n      <td>20</td>\n      <td>435</td>\n      <td>1054</td>\n      <td>110</td>\n      <td>51</td>\n      <td>1197</td>\n    </tr>\n    <tr>\n      <th>1730</th>\n      <td>2015</td>\n      <td>1461</td>\n      <td>23</td>\n      <td>514</td>\n      <td>1047</td>\n      <td>133</td>\n      <td>71</td>\n      <td>1519</td>\n      <td>9</td>\n      <td>160</td>\n      <td>428</td>\n      <td>44</td>\n      <td>21</td>\n      <td>447</td>\n    </tr>\n    <tr>\n      <th>1731</th>\n      <td>2015</td>\n      <td>1462</td>\n      <td>21</td>\n      <td>556</td>\n      <td>1105</td>\n      <td>136</td>\n      <td>66</td>\n      <td>1586</td>\n      <td>13</td>\n      <td>329</td>\n      <td>766</td>\n      <td>71</td>\n      <td>31</td>\n      <td>915</td>\n    </tr>\n    <tr>\n      <th>1732</th>\n      <td>2015</td>\n      <td>1463</td>\n      <td>20</td>\n      <td>445</td>\n      <td>979</td>\n      <td>127</td>\n      <td>81</td>\n      <td>1353</td>\n      <td>10</td>\n      <td>218</td>\n      <td>546</td>\n      <td>43</td>\n      <td>32</td>\n      <td>612</td>\n    </tr>\n    <tr>\n      <th>1733</th>\n      <td>2015</td>\n      <td>1464</td>\n      <td>8</td>\n      <td>221</td>\n      <td>424</td>\n      <td>48</td>\n      <td>16</td>\n      <td>629</td>\n      <td>21</td>\n      <td>505</td>\n      <td>1219</td>\n      <td>123</td>\n      <td>40</td>\n      <td>1425</td>\n    </tr>\n  </tbody>\n</table>\n<p>1734 rows × 14 columns</p>\n</div>"
     },
     "execution_count": 8,
     "metadata": {},
     "output_type": "execute_result"
    }
   ],
   "source": [
    "all_teams_df = (\n",
    "    all_teams_df.copy()\n",
    "    .merge(data_df[['season', 'count_column', 'lteam', 'lfgm', 'lfga', 'lstl', 'lblk', 'lscore']], left_on=['season', 'team'], right_on=['season', 'lteam'])[['season', 'count_column', 'team', 'win_count', 'wfgm', 'wfga', 'wstl', 'wblk', 'wscore', 'lfgm', 'lfga', 'lstl', 'lblk', 'lscore']]\n",
    "    .groupby(['season', 'team', 'win_count', 'wfgm', 'wfga', 'wstl', 'wblk', 'wscore'])\n",
    "    .sum()\n",
    "    .rename(columns={'count_column': 'loss_count'})\n",
    "    .reset_index()\n",
    ")\n",
    "\n",
    "all_teams_df"
   ],
   "metadata": {
    "collapsed": false
   }
  },
  {
   "cell_type": "code",
   "execution_count": 9,
   "outputs": [],
   "source": [
    "all_teams_df['fgm'] = all_teams_df['wfgm'] + all_teams_df['lfgm']\n",
    "all_teams_df['fga'] = all_teams_df['wfga'] + all_teams_df['lfga']\n",
    "all_teams_df['fgp'] = all_teams_df['fgm'] / all_teams_df['fga']\n",
    "all_teams_df['stl'] = all_teams_df['wstl'] + all_teams_df['lstl']\n",
    "all_teams_df['blk'] = all_teams_df['wblk'] + all_teams_df['lblk']\n",
    "all_teams_df['points'] = all_teams_df['wscore'] + all_teams_df['lscore']\n",
    "all_teams_df['mean_points'] = all_teams_df['points'].mean()\n",
    "all_teams_df['win_percent'] = all_teams_df['win_count'] / (all_teams_df['win_count'] + all_teams_df['loss_count'])"
   ],
   "metadata": {
    "collapsed": false
   }
  },
  {
   "cell_type": "code",
   "execution_count": 10,
   "outputs": [],
   "source": [
    "all_teams_df = all_teams_df[['season', 'team', 'win_percent', 'win_count', 'loss_count', 'stl', 'blk', 'points', 'mean_points', 'fgp']]"
   ],
   "metadata": {
    "collapsed": false
   }
  },
  {
   "cell_type": "code",
   "execution_count": 11,
   "outputs": [
    {
     "data": {
      "text/plain": "                                                     opponents\nseason team                                                   \n2011   1102  [1398, 1459, 1169, 1191, 1300, 1115, 1358, 119...\n       1103  [1464, 1178, 1227, 1126, 1114, 1391, 1115, 133...\n       1104  [1197, 1407, 1105, 1375, 1368, 1252, 1337, 140...\n       1105  [1212, 1290, 1106, 1108, 1380, 1341, 1115, 144...\n       1106  [1244, 1212, 1115, 1108, 1290, 1105, 1380, 134...\n...                                                        ...\n2015   1460  [1125, 1149, 1367, 1275, 1441, 1178, 1464, 113...\n       1461  [1294, 1160, 1197, 1391, 1308, 1176, 1286, 138...\n       1462  [1319, 1253, 1372, 1293, 1360, 1104, 1237, 128...\n       1463  [1227, 1356, 1245, 1248, 1216, 1136, 1163, 143...\n       1464  [1255, 1422, 1282, 1352, 1377, 1297, 1227, 146...\n\n[1734 rows x 1 columns]",
      "text/html": "<div>\n<style scoped>\n    .dataframe tbody tr th:only-of-type {\n        vertical-align: middle;\n    }\n\n    .dataframe tbody tr th {\n        vertical-align: top;\n    }\n\n    .dataframe thead th {\n        text-align: right;\n    }\n</style>\n<table border=\"1\" class=\"dataframe\">\n  <thead>\n    <tr style=\"text-align: right;\">\n      <th></th>\n      <th></th>\n      <th>opponents</th>\n    </tr>\n    <tr>\n      <th>season</th>\n      <th>team</th>\n      <th></th>\n    </tr>\n  </thead>\n  <tbody>\n    <tr>\n      <th rowspan=\"5\" valign=\"top\">2011</th>\n      <th>1102</th>\n      <td>[1398, 1459, 1169, 1191, 1300, 1115, 1358, 119...</td>\n    </tr>\n    <tr>\n      <th>1103</th>\n      <td>[1464, 1178, 1227, 1126, 1114, 1391, 1115, 133...</td>\n    </tr>\n    <tr>\n      <th>1104</th>\n      <td>[1197, 1407, 1105, 1375, 1368, 1252, 1337, 140...</td>\n    </tr>\n    <tr>\n      <th>1105</th>\n      <td>[1212, 1290, 1106, 1108, 1380, 1341, 1115, 144...</td>\n    </tr>\n    <tr>\n      <th>1106</th>\n      <td>[1244, 1212, 1115, 1108, 1290, 1105, 1380, 134...</td>\n    </tr>\n    <tr>\n      <th>...</th>\n      <th>...</th>\n      <td>...</td>\n    </tr>\n    <tr>\n      <th rowspan=\"5\" valign=\"top\">2015</th>\n      <th>1460</th>\n      <td>[1125, 1149, 1367, 1275, 1441, 1178, 1464, 113...</td>\n    </tr>\n    <tr>\n      <th>1461</th>\n      <td>[1294, 1160, 1197, 1391, 1308, 1176, 1286, 138...</td>\n    </tr>\n    <tr>\n      <th>1462</th>\n      <td>[1319, 1253, 1372, 1293, 1360, 1104, 1237, 128...</td>\n    </tr>\n    <tr>\n      <th>1463</th>\n      <td>[1227, 1356, 1245, 1248, 1216, 1136, 1163, 143...</td>\n    </tr>\n    <tr>\n      <th>1464</th>\n      <td>[1255, 1422, 1282, 1352, 1377, 1297, 1227, 146...</td>\n    </tr>\n  </tbody>\n</table>\n<p>1734 rows × 1 columns</p>\n</div>"
     },
     "execution_count": 11,
     "metadata": {},
     "output_type": "execute_result"
    }
   ],
   "source": [
    "opponents_df = pd.concat([\n",
    "    all_teams_df.merge(data_df, left_on=['season', 'team'], right_on=['season', 'wteam'])[['season', 'team', 'lteam']].rename(columns={'lteam': 'opponents'}),\n",
    "    all_teams_df.merge(data_df, left_on=['season', 'team'], right_on=['season', 'lteam'])[['season', 'team', 'wteam']].rename(columns={'wteam': 'opponents'})\n",
    "]).drop_duplicates().groupby(['season', 'team']).agg(list)\n",
    "\n",
    "opponents_df"
   ],
   "metadata": {
    "collapsed": false
   }
  },
  {
   "cell_type": "code",
   "execution_count": 12,
   "outputs": [
    {
     "data": {
      "text/plain": "      season  team  win_percent  win_count  loss_count  stl  blk  points  \\\n0       2011  1102     0.500000         14          14  174   71    1799   \n1       2011  1103     0.628571         22          13  225  120    2435   \n2       2011  1104     0.656250         21          11  296  167    2133   \n3       2011  1105     0.400000         10          15  214  132    1570   \n4       2011  1106     0.454545         15          18  240  149    2031   \n...      ...   ...          ...        ...         ...  ...  ...     ...   \n1729    2015  1460     0.310345          9          20  153   73    1832   \n1730    2015  1461     0.718750         23           9  177   92    1966   \n1731    2015  1462     0.617647         21          13  207   97    2501   \n1732    2015  1463     0.666667         20          10  170  113    1965   \n1733    2015  1464     0.275862          8          21  171   56    2054   \n\n      mean_points       fgp                                          opponents  \n0     2090.219723  0.468657  [1398, 1459, 1169, 1191, 1300, 1115, 1358, 119...  \n1     2090.219723  0.427576  [1464, 1178, 1227, 1126, 1114, 1391, 1115, 133...  \n2     2090.219723  0.444941  [1197, 1407, 1105, 1375, 1368, 1252, 1337, 140...  \n3     2090.219723  0.397133  [1212, 1290, 1106, 1108, 1380, 1341, 1115, 144...  \n4     2090.219723  0.396216  [1244, 1212, 1115, 1108, 1290, 1105, 1380, 134...  \n...           ...       ...                                                ...  \n1729  2090.219723  0.437169  [1125, 1149, 1367, 1275, 1441, 1178, 1464, 113...  \n1730  2090.219723  0.456949  [1294, 1160, 1197, 1391, 1308, 1176, 1286, 138...  \n1731  2090.219723  0.473009  [1319, 1253, 1372, 1293, 1360, 1104, 1237, 128...  \n1732  2090.219723  0.434754  [1227, 1356, 1245, 1248, 1216, 1136, 1163, 143...  \n1733  2090.219723  0.441875  [1255, 1422, 1282, 1352, 1377, 1297, 1227, 146...  \n\n[1734 rows x 11 columns]",
      "text/html": "<div>\n<style scoped>\n    .dataframe tbody tr th:only-of-type {\n        vertical-align: middle;\n    }\n\n    .dataframe tbody tr th {\n        vertical-align: top;\n    }\n\n    .dataframe thead th {\n        text-align: right;\n    }\n</style>\n<table border=\"1\" class=\"dataframe\">\n  <thead>\n    <tr style=\"text-align: right;\">\n      <th></th>\n      <th>season</th>\n      <th>team</th>\n      <th>win_percent</th>\n      <th>win_count</th>\n      <th>loss_count</th>\n      <th>stl</th>\n      <th>blk</th>\n      <th>points</th>\n      <th>mean_points</th>\n      <th>fgp</th>\n      <th>opponents</th>\n    </tr>\n  </thead>\n  <tbody>\n    <tr>\n      <th>0</th>\n      <td>2011</td>\n      <td>1102</td>\n      <td>0.500000</td>\n      <td>14</td>\n      <td>14</td>\n      <td>174</td>\n      <td>71</td>\n      <td>1799</td>\n      <td>2090.219723</td>\n      <td>0.468657</td>\n      <td>[1398, 1459, 1169, 1191, 1300, 1115, 1358, 119...</td>\n    </tr>\n    <tr>\n      <th>1</th>\n      <td>2011</td>\n      <td>1103</td>\n      <td>0.628571</td>\n      <td>22</td>\n      <td>13</td>\n      <td>225</td>\n      <td>120</td>\n      <td>2435</td>\n      <td>2090.219723</td>\n      <td>0.427576</td>\n      <td>[1464, 1178, 1227, 1126, 1114, 1391, 1115, 133...</td>\n    </tr>\n    <tr>\n      <th>2</th>\n      <td>2011</td>\n      <td>1104</td>\n      <td>0.656250</td>\n      <td>21</td>\n      <td>11</td>\n      <td>296</td>\n      <td>167</td>\n      <td>2133</td>\n      <td>2090.219723</td>\n      <td>0.444941</td>\n      <td>[1197, 1407, 1105, 1375, 1368, 1252, 1337, 140...</td>\n    </tr>\n    <tr>\n      <th>3</th>\n      <td>2011</td>\n      <td>1105</td>\n      <td>0.400000</td>\n      <td>10</td>\n      <td>15</td>\n      <td>214</td>\n      <td>132</td>\n      <td>1570</td>\n      <td>2090.219723</td>\n      <td>0.397133</td>\n      <td>[1212, 1290, 1106, 1108, 1380, 1341, 1115, 144...</td>\n    </tr>\n    <tr>\n      <th>4</th>\n      <td>2011</td>\n      <td>1106</td>\n      <td>0.454545</td>\n      <td>15</td>\n      <td>18</td>\n      <td>240</td>\n      <td>149</td>\n      <td>2031</td>\n      <td>2090.219723</td>\n      <td>0.396216</td>\n      <td>[1244, 1212, 1115, 1108, 1290, 1105, 1380, 134...</td>\n    </tr>\n    <tr>\n      <th>...</th>\n      <td>...</td>\n      <td>...</td>\n      <td>...</td>\n      <td>...</td>\n      <td>...</td>\n      <td>...</td>\n      <td>...</td>\n      <td>...</td>\n      <td>...</td>\n      <td>...</td>\n      <td>...</td>\n    </tr>\n    <tr>\n      <th>1729</th>\n      <td>2015</td>\n      <td>1460</td>\n      <td>0.310345</td>\n      <td>9</td>\n      <td>20</td>\n      <td>153</td>\n      <td>73</td>\n      <td>1832</td>\n      <td>2090.219723</td>\n      <td>0.437169</td>\n      <td>[1125, 1149, 1367, 1275, 1441, 1178, 1464, 113...</td>\n    </tr>\n    <tr>\n      <th>1730</th>\n      <td>2015</td>\n      <td>1461</td>\n      <td>0.718750</td>\n      <td>23</td>\n      <td>9</td>\n      <td>177</td>\n      <td>92</td>\n      <td>1966</td>\n      <td>2090.219723</td>\n      <td>0.456949</td>\n      <td>[1294, 1160, 1197, 1391, 1308, 1176, 1286, 138...</td>\n    </tr>\n    <tr>\n      <th>1731</th>\n      <td>2015</td>\n      <td>1462</td>\n      <td>0.617647</td>\n      <td>21</td>\n      <td>13</td>\n      <td>207</td>\n      <td>97</td>\n      <td>2501</td>\n      <td>2090.219723</td>\n      <td>0.473009</td>\n      <td>[1319, 1253, 1372, 1293, 1360, 1104, 1237, 128...</td>\n    </tr>\n    <tr>\n      <th>1732</th>\n      <td>2015</td>\n      <td>1463</td>\n      <td>0.666667</td>\n      <td>20</td>\n      <td>10</td>\n      <td>170</td>\n      <td>113</td>\n      <td>1965</td>\n      <td>2090.219723</td>\n      <td>0.434754</td>\n      <td>[1227, 1356, 1245, 1248, 1216, 1136, 1163, 143...</td>\n    </tr>\n    <tr>\n      <th>1733</th>\n      <td>2015</td>\n      <td>1464</td>\n      <td>0.275862</td>\n      <td>8</td>\n      <td>21</td>\n      <td>171</td>\n      <td>56</td>\n      <td>2054</td>\n      <td>2090.219723</td>\n      <td>0.441875</td>\n      <td>[1255, 1422, 1282, 1352, 1377, 1297, 1227, 146...</td>\n    </tr>\n  </tbody>\n</table>\n<p>1734 rows × 11 columns</p>\n</div>"
     },
     "execution_count": 12,
     "metadata": {},
     "output_type": "execute_result"
    }
   ],
   "source": [
    "all_teams_df = all_teams_df.merge(opponents_df, on=['season', 'team'])\n",
    "all_teams_df"
   ],
   "metadata": {
    "collapsed": false
   }
  },
  {
   "cell_type": "code",
   "execution_count": 13,
   "outputs": [],
   "source": [
    "def calculate_opponents_win_percentage(opponents: list[int]) -> float:\n",
    "    o_df = pd.DataFrame(opponents, columns=['opponent_team'])\n",
    "\n",
    "    tmp_df = o_df.merge(all_teams_df, left_on='opponent_team', right_on='team')\n",
    "\n",
    "    total_wins = tmp_df['win_count'].sum()\n",
    "    total_losses = tmp_df['loss_count'].sum()\n",
    "\n",
    "    return total_wins / (total_wins + total_losses)"
   ],
   "metadata": {
    "collapsed": false
   }
  },
  {
   "cell_type": "markdown",
   "source": [
    "Formula za RPI: https://www.nbastuffer.com/analytics101/relative-percentage-index-rpi/"
   ],
   "metadata": {
    "collapsed": false
   }
  },
  {
   "cell_type": "code",
   "execution_count": 14,
   "outputs": [],
   "source": [
    "def calculate_rpi(row: pd.Series) -> pd.Series:\n",
    "    op = calculate_opponents_win_percentage(row['opponents'])\n",
    "\n",
    "    o_df = pd.DataFrame(row['opponents'], columns=['opponent_team'])\n",
    "    tmp_df = o_df.merge(all_teams_df, left_on='opponent_team', right_on='team')\n",
    "\n",
    "    tmp_list = tmp_df['opponents'].tolist()\n",
    "    oop_list = []\n",
    "    for i in tmp_list:\n",
    "        oop_list += i\n",
    "\n",
    "    oop = calculate_opponents_win_percentage(oop_list)\n",
    "\n",
    "    row['rpi'] = (2 * op + oop) / 3 * 1000\n",
    "\n",
    "    return row"
   ],
   "metadata": {
    "collapsed": false
   }
  },
  {
   "cell_type": "code",
   "execution_count": 15,
   "outputs": [],
   "source": [
    "def calculate_bpi(row: pd.Series) -> pd.Series:\n",
    "    win_count = row['win_count']\n",
    "    loss_count = row['loss_count']\n",
    "    total_count = win_count + loss_count\n",
    "\n",
    "    points = row['points']\n",
    "    mean_points = row['mean_points']\n",
    "\n",
    "    row['bpi'] = (win_count / total_count) * (points - mean_points) / total_count\n",
    "\n",
    "    return row"
   ],
   "metadata": {
    "collapsed": false
   }
  },
  {
   "cell_type": "code",
   "execution_count": 16,
   "outputs": [
    {
     "data": {
      "text/plain": "      season  team  win_percent  win_count  loss_count  stl  blk  points  \\\n0       2011  1102     0.500000         14          14  174   71    1799   \n1       2011  1103     0.628571         22          13  225  120    2435   \n2       2011  1104     0.656250         21          11  296  167    2133   \n3       2011  1105     0.400000         10          15  214  132    1570   \n4       2011  1106     0.454545         15          18  240  149    2031   \n...      ...   ...          ...        ...         ...  ...  ...     ...   \n1729    2015  1460     0.310345          9          20  153   73    1832   \n1730    2015  1461     0.718750         23           9  177   92    1966   \n1731    2015  1462     0.617647         21          13  207   97    2501   \n1732    2015  1463     0.666667         20          10  170  113    1965   \n1733    2015  1464     0.275862          8          21  171   56    2054   \n\n      mean_points       fgp  \\\n0     2090.219723  0.468657   \n1     2090.219723  0.427576   \n2     2090.219723  0.444941   \n3     2090.219723  0.397133   \n4     2090.219723  0.396216   \n...           ...       ...   \n1729  2090.219723  0.437169   \n1730  2090.219723  0.456949   \n1731  2090.219723  0.473009   \n1732  2090.219723  0.434754   \n1733  2090.219723  0.441875   \n\n                                              opponents         rpi       bpi  \n0     [1398, 1459, 1169, 1191, 1300, 1115, 1358, 119...  526.886846 -5.200352  \n1     [1464, 1178, 1227, 1126, 1114, 1391, 1115, 133...  505.706237  6.191972  \n2     [1197, 1407, 1105, 1375, 1368, 1252, 1337, 140...  515.855444  0.877330  \n3     [1212, 1290, 1106, 1108, 1380, 1341, 1115, 144...  472.210051 -8.323516  \n4     [1244, 1212, 1115, 1108, 1290, 1105, 1380, 134...  463.195991 -0.815699  \n...                                                 ...         ...       ...  \n1729  [1125, 1149, 1367, 1275, 1441, 1178, 1464, 113...  513.279306 -2.763350  \n1730  [1294, 1160, 1197, 1391, 1308, 1176, 1286, 138...  527.956970 -2.790091  \n1731  [1319, 1253, 1372, 1293, 1360, 1104, 1237, 128...  560.588169  7.462271  \n1732  [1227, 1356, 1245, 1248, 1216, 1136, 1163, 143...  506.971571 -2.782661  \n1733  [1255, 1422, 1282, 1352, 1377, 1297, 1227, 146...  473.004944 -0.344540  \n\n[1734 rows x 13 columns]",
      "text/html": "<div>\n<style scoped>\n    .dataframe tbody tr th:only-of-type {\n        vertical-align: middle;\n    }\n\n    .dataframe tbody tr th {\n        vertical-align: top;\n    }\n\n    .dataframe thead th {\n        text-align: right;\n    }\n</style>\n<table border=\"1\" class=\"dataframe\">\n  <thead>\n    <tr style=\"text-align: right;\">\n      <th></th>\n      <th>season</th>\n      <th>team</th>\n      <th>win_percent</th>\n      <th>win_count</th>\n      <th>loss_count</th>\n      <th>stl</th>\n      <th>blk</th>\n      <th>points</th>\n      <th>mean_points</th>\n      <th>fgp</th>\n      <th>opponents</th>\n      <th>rpi</th>\n      <th>bpi</th>\n    </tr>\n  </thead>\n  <tbody>\n    <tr>\n      <th>0</th>\n      <td>2011</td>\n      <td>1102</td>\n      <td>0.500000</td>\n      <td>14</td>\n      <td>14</td>\n      <td>174</td>\n      <td>71</td>\n      <td>1799</td>\n      <td>2090.219723</td>\n      <td>0.468657</td>\n      <td>[1398, 1459, 1169, 1191, 1300, 1115, 1358, 119...</td>\n      <td>526.886846</td>\n      <td>-5.200352</td>\n    </tr>\n    <tr>\n      <th>1</th>\n      <td>2011</td>\n      <td>1103</td>\n      <td>0.628571</td>\n      <td>22</td>\n      <td>13</td>\n      <td>225</td>\n      <td>120</td>\n      <td>2435</td>\n      <td>2090.219723</td>\n      <td>0.427576</td>\n      <td>[1464, 1178, 1227, 1126, 1114, 1391, 1115, 133...</td>\n      <td>505.706237</td>\n      <td>6.191972</td>\n    </tr>\n    <tr>\n      <th>2</th>\n      <td>2011</td>\n      <td>1104</td>\n      <td>0.656250</td>\n      <td>21</td>\n      <td>11</td>\n      <td>296</td>\n      <td>167</td>\n      <td>2133</td>\n      <td>2090.219723</td>\n      <td>0.444941</td>\n      <td>[1197, 1407, 1105, 1375, 1368, 1252, 1337, 140...</td>\n      <td>515.855444</td>\n      <td>0.877330</td>\n    </tr>\n    <tr>\n      <th>3</th>\n      <td>2011</td>\n      <td>1105</td>\n      <td>0.400000</td>\n      <td>10</td>\n      <td>15</td>\n      <td>214</td>\n      <td>132</td>\n      <td>1570</td>\n      <td>2090.219723</td>\n      <td>0.397133</td>\n      <td>[1212, 1290, 1106, 1108, 1380, 1341, 1115, 144...</td>\n      <td>472.210051</td>\n      <td>-8.323516</td>\n    </tr>\n    <tr>\n      <th>4</th>\n      <td>2011</td>\n      <td>1106</td>\n      <td>0.454545</td>\n      <td>15</td>\n      <td>18</td>\n      <td>240</td>\n      <td>149</td>\n      <td>2031</td>\n      <td>2090.219723</td>\n      <td>0.396216</td>\n      <td>[1244, 1212, 1115, 1108, 1290, 1105, 1380, 134...</td>\n      <td>463.195991</td>\n      <td>-0.815699</td>\n    </tr>\n    <tr>\n      <th>...</th>\n      <td>...</td>\n      <td>...</td>\n      <td>...</td>\n      <td>...</td>\n      <td>...</td>\n      <td>...</td>\n      <td>...</td>\n      <td>...</td>\n      <td>...</td>\n      <td>...</td>\n      <td>...</td>\n      <td>...</td>\n      <td>...</td>\n    </tr>\n    <tr>\n      <th>1729</th>\n      <td>2015</td>\n      <td>1460</td>\n      <td>0.310345</td>\n      <td>9</td>\n      <td>20</td>\n      <td>153</td>\n      <td>73</td>\n      <td>1832</td>\n      <td>2090.219723</td>\n      <td>0.437169</td>\n      <td>[1125, 1149, 1367, 1275, 1441, 1178, 1464, 113...</td>\n      <td>513.279306</td>\n      <td>-2.763350</td>\n    </tr>\n    <tr>\n      <th>1730</th>\n      <td>2015</td>\n      <td>1461</td>\n      <td>0.718750</td>\n      <td>23</td>\n      <td>9</td>\n      <td>177</td>\n      <td>92</td>\n      <td>1966</td>\n      <td>2090.219723</td>\n      <td>0.456949</td>\n      <td>[1294, 1160, 1197, 1391, 1308, 1176, 1286, 138...</td>\n      <td>527.956970</td>\n      <td>-2.790091</td>\n    </tr>\n    <tr>\n      <th>1731</th>\n      <td>2015</td>\n      <td>1462</td>\n      <td>0.617647</td>\n      <td>21</td>\n      <td>13</td>\n      <td>207</td>\n      <td>97</td>\n      <td>2501</td>\n      <td>2090.219723</td>\n      <td>0.473009</td>\n      <td>[1319, 1253, 1372, 1293, 1360, 1104, 1237, 128...</td>\n      <td>560.588169</td>\n      <td>7.462271</td>\n    </tr>\n    <tr>\n      <th>1732</th>\n      <td>2015</td>\n      <td>1463</td>\n      <td>0.666667</td>\n      <td>20</td>\n      <td>10</td>\n      <td>170</td>\n      <td>113</td>\n      <td>1965</td>\n      <td>2090.219723</td>\n      <td>0.434754</td>\n      <td>[1227, 1356, 1245, 1248, 1216, 1136, 1163, 143...</td>\n      <td>506.971571</td>\n      <td>-2.782661</td>\n    </tr>\n    <tr>\n      <th>1733</th>\n      <td>2015</td>\n      <td>1464</td>\n      <td>0.275862</td>\n      <td>8</td>\n      <td>21</td>\n      <td>171</td>\n      <td>56</td>\n      <td>2054</td>\n      <td>2090.219723</td>\n      <td>0.441875</td>\n      <td>[1255, 1422, 1282, 1352, 1377, 1297, 1227, 146...</td>\n      <td>473.004944</td>\n      <td>-0.344540</td>\n    </tr>\n  </tbody>\n</table>\n<p>1734 rows × 13 columns</p>\n</div>"
     },
     "execution_count": 16,
     "metadata": {},
     "output_type": "execute_result"
    }
   ],
   "source": [
    "all_teams_df = all_teams_df.apply(calculate_rpi, axis=1)\n",
    "all_teams_df = all_teams_df.apply(calculate_bpi, axis=1)\n",
    "all_teams_df"
   ],
   "metadata": {
    "collapsed": false
   }
  },
  {
   "cell_type": "code",
   "execution_count": 17,
   "outputs": [
    {
     "data": {
      "text/plain": "       wseason  daynum  wteam  wscore  lteam  lscore wloc  numot  wfgm  wfga  \\\n0         2011       7   1228      79   1414      65    H      0    29    58   \n1         2011       9   1228      84   1405      45    H      0    37    64   \n2         2011      12   1228      85   1356      63    H      0    32    58   \n3         2011      18   1228      80   1268      76    N      0    28    60   \n4         2011      22   1228      73   1463      47    H      0    31    63   \n...        ...     ...    ...     ...    ...     ...  ...    ...   ...   ...   \n26664     2015     127   1164      64   1126      60    N      0    20    53   \n26665     2015      96   1146      70   1309      67    H      0    24    48   \n26666     2015     117   1146      74   1368      72    H      0    23    49   \n26667     2015     103   1197      57   1299      50    H      0    19    49   \n26668     2015     122   1197      64   1366      57    H      0    22    43   \n\n       ...  win_count  loss_count  wstl  wblk  wpoints  mean_points      wfgp  \\\n0      ...         20          14   188   152     2413  2090.219723  0.468063   \n1      ...         20          14   188   152     2413  2090.219723  0.468063   \n2      ...         20          14   188   152     2413  2090.219723  0.468063   \n3      ...         20          14   188   152     2413  2090.219723  0.468063   \n4      ...         20          14   188   152     2413  2090.219723  0.468063   \n...    ...        ...         ...   ...   ...      ...          ...       ...   \n26664  ...          7          23   199    99     2116  2090.219723  0.393692   \n26665  ...          2          27   182   114     1894  2090.219723  0.423885   \n26666  ...          2          27   182   114     1894  2090.219723  0.423885   \n26667  ...          2          27   143    62     1607  2090.219723  0.373333   \n26668  ...          2          27   143    62     1607  2090.219723  0.373333   \n\n                                               opponents        wrpi      wbpi  \n0      [1414, 1405, 1356, 1268, 1463, 1444, 1314, 121...  585.064307  5.584434  \n1      [1414, 1405, 1356, 1268, 1463, 1444, 1314, 121...  585.064307  5.584434  \n2      [1414, 1405, 1356, 1268, 1463, 1444, 1314, 121...  585.064307  5.584434  \n3      [1414, 1405, 1356, 1268, 1463, 1444, 1314, 121...  585.064307  5.584434  \n4      [1414, 1405, 1356, 1268, 1463, 1444, 1314, 121...  585.064307  5.584434  \n...                                                  ...         ...       ...  \n26664  [1197, 1299, 1288, 1354, 1175, 1126, 1332, 122...  486.651127  0.200513  \n26665  [1309, 1368, 1166, 1303, 1304, 1369, 1149, 111...  475.945906 -0.466634  \n26666  [1309, 1368, 1166, 1303, 1304, 1369, 1149, 111...  475.945906 -0.466634  \n26667  [1299, 1366, 1155, 1367, 1360, 1213, 1461, 130...  446.557842 -1.149155  \n26668  [1299, 1366, 1155, 1367, 1360, 1213, 1461, 130...  446.557842 -1.149155  \n\n[26669 rows x 45 columns]",
      "text/html": "<div>\n<style scoped>\n    .dataframe tbody tr th:only-of-type {\n        vertical-align: middle;\n    }\n\n    .dataframe tbody tr th {\n        vertical-align: top;\n    }\n\n    .dataframe thead th {\n        text-align: right;\n    }\n</style>\n<table border=\"1\" class=\"dataframe\">\n  <thead>\n    <tr style=\"text-align: right;\">\n      <th></th>\n      <th>wseason</th>\n      <th>daynum</th>\n      <th>wteam</th>\n      <th>wscore</th>\n      <th>lteam</th>\n      <th>lscore</th>\n      <th>wloc</th>\n      <th>numot</th>\n      <th>wfgm</th>\n      <th>wfga</th>\n      <th>...</th>\n      <th>win_count</th>\n      <th>loss_count</th>\n      <th>wstl</th>\n      <th>wblk</th>\n      <th>wpoints</th>\n      <th>mean_points</th>\n      <th>wfgp</th>\n      <th>opponents</th>\n      <th>wrpi</th>\n      <th>wbpi</th>\n    </tr>\n  </thead>\n  <tbody>\n    <tr>\n      <th>0</th>\n      <td>2011</td>\n      <td>7</td>\n      <td>1228</td>\n      <td>79</td>\n      <td>1414</td>\n      <td>65</td>\n      <td>H</td>\n      <td>0</td>\n      <td>29</td>\n      <td>58</td>\n      <td>...</td>\n      <td>20</td>\n      <td>14</td>\n      <td>188</td>\n      <td>152</td>\n      <td>2413</td>\n      <td>2090.219723</td>\n      <td>0.468063</td>\n      <td>[1414, 1405, 1356, 1268, 1463, 1444, 1314, 121...</td>\n      <td>585.064307</td>\n      <td>5.584434</td>\n    </tr>\n    <tr>\n      <th>1</th>\n      <td>2011</td>\n      <td>9</td>\n      <td>1228</td>\n      <td>84</td>\n      <td>1405</td>\n      <td>45</td>\n      <td>H</td>\n      <td>0</td>\n      <td>37</td>\n      <td>64</td>\n      <td>...</td>\n      <td>20</td>\n      <td>14</td>\n      <td>188</td>\n      <td>152</td>\n      <td>2413</td>\n      <td>2090.219723</td>\n      <td>0.468063</td>\n      <td>[1414, 1405, 1356, 1268, 1463, 1444, 1314, 121...</td>\n      <td>585.064307</td>\n      <td>5.584434</td>\n    </tr>\n    <tr>\n      <th>2</th>\n      <td>2011</td>\n      <td>12</td>\n      <td>1228</td>\n      <td>85</td>\n      <td>1356</td>\n      <td>63</td>\n      <td>H</td>\n      <td>0</td>\n      <td>32</td>\n      <td>58</td>\n      <td>...</td>\n      <td>20</td>\n      <td>14</td>\n      <td>188</td>\n      <td>152</td>\n      <td>2413</td>\n      <td>2090.219723</td>\n      <td>0.468063</td>\n      <td>[1414, 1405, 1356, 1268, 1463, 1444, 1314, 121...</td>\n      <td>585.064307</td>\n      <td>5.584434</td>\n    </tr>\n    <tr>\n      <th>3</th>\n      <td>2011</td>\n      <td>18</td>\n      <td>1228</td>\n      <td>80</td>\n      <td>1268</td>\n      <td>76</td>\n      <td>N</td>\n      <td>0</td>\n      <td>28</td>\n      <td>60</td>\n      <td>...</td>\n      <td>20</td>\n      <td>14</td>\n      <td>188</td>\n      <td>152</td>\n      <td>2413</td>\n      <td>2090.219723</td>\n      <td>0.468063</td>\n      <td>[1414, 1405, 1356, 1268, 1463, 1444, 1314, 121...</td>\n      <td>585.064307</td>\n      <td>5.584434</td>\n    </tr>\n    <tr>\n      <th>4</th>\n      <td>2011</td>\n      <td>22</td>\n      <td>1228</td>\n      <td>73</td>\n      <td>1463</td>\n      <td>47</td>\n      <td>H</td>\n      <td>0</td>\n      <td>31</td>\n      <td>63</td>\n      <td>...</td>\n      <td>20</td>\n      <td>14</td>\n      <td>188</td>\n      <td>152</td>\n      <td>2413</td>\n      <td>2090.219723</td>\n      <td>0.468063</td>\n      <td>[1414, 1405, 1356, 1268, 1463, 1444, 1314, 121...</td>\n      <td>585.064307</td>\n      <td>5.584434</td>\n    </tr>\n    <tr>\n      <th>...</th>\n      <td>...</td>\n      <td>...</td>\n      <td>...</td>\n      <td>...</td>\n      <td>...</td>\n      <td>...</td>\n      <td>...</td>\n      <td>...</td>\n      <td>...</td>\n      <td>...</td>\n      <td>...</td>\n      <td>...</td>\n      <td>...</td>\n      <td>...</td>\n      <td>...</td>\n      <td>...</td>\n      <td>...</td>\n      <td>...</td>\n      <td>...</td>\n      <td>...</td>\n      <td>...</td>\n    </tr>\n    <tr>\n      <th>26664</th>\n      <td>2015</td>\n      <td>127</td>\n      <td>1164</td>\n      <td>64</td>\n      <td>1126</td>\n      <td>60</td>\n      <td>N</td>\n      <td>0</td>\n      <td>20</td>\n      <td>53</td>\n      <td>...</td>\n      <td>7</td>\n      <td>23</td>\n      <td>199</td>\n      <td>99</td>\n      <td>2116</td>\n      <td>2090.219723</td>\n      <td>0.393692</td>\n      <td>[1197, 1299, 1288, 1354, 1175, 1126, 1332, 122...</td>\n      <td>486.651127</td>\n      <td>0.200513</td>\n    </tr>\n    <tr>\n      <th>26665</th>\n      <td>2015</td>\n      <td>96</td>\n      <td>1146</td>\n      <td>70</td>\n      <td>1309</td>\n      <td>67</td>\n      <td>H</td>\n      <td>0</td>\n      <td>24</td>\n      <td>48</td>\n      <td>...</td>\n      <td>2</td>\n      <td>27</td>\n      <td>182</td>\n      <td>114</td>\n      <td>1894</td>\n      <td>2090.219723</td>\n      <td>0.423885</td>\n      <td>[1309, 1368, 1166, 1303, 1304, 1369, 1149, 111...</td>\n      <td>475.945906</td>\n      <td>-0.466634</td>\n    </tr>\n    <tr>\n      <th>26666</th>\n      <td>2015</td>\n      <td>117</td>\n      <td>1146</td>\n      <td>74</td>\n      <td>1368</td>\n      <td>72</td>\n      <td>H</td>\n      <td>0</td>\n      <td>23</td>\n      <td>49</td>\n      <td>...</td>\n      <td>2</td>\n      <td>27</td>\n      <td>182</td>\n      <td>114</td>\n      <td>1894</td>\n      <td>2090.219723</td>\n      <td>0.423885</td>\n      <td>[1309, 1368, 1166, 1303, 1304, 1369, 1149, 111...</td>\n      <td>475.945906</td>\n      <td>-0.466634</td>\n    </tr>\n    <tr>\n      <th>26667</th>\n      <td>2015</td>\n      <td>103</td>\n      <td>1197</td>\n      <td>57</td>\n      <td>1299</td>\n      <td>50</td>\n      <td>H</td>\n      <td>0</td>\n      <td>19</td>\n      <td>49</td>\n      <td>...</td>\n      <td>2</td>\n      <td>27</td>\n      <td>143</td>\n      <td>62</td>\n      <td>1607</td>\n      <td>2090.219723</td>\n      <td>0.373333</td>\n      <td>[1299, 1366, 1155, 1367, 1360, 1213, 1461, 130...</td>\n      <td>446.557842</td>\n      <td>-1.149155</td>\n    </tr>\n    <tr>\n      <th>26668</th>\n      <td>2015</td>\n      <td>122</td>\n      <td>1197</td>\n      <td>64</td>\n      <td>1366</td>\n      <td>57</td>\n      <td>H</td>\n      <td>0</td>\n      <td>22</td>\n      <td>43</td>\n      <td>...</td>\n      <td>2</td>\n      <td>27</td>\n      <td>143</td>\n      <td>62</td>\n      <td>1607</td>\n      <td>2090.219723</td>\n      <td>0.373333</td>\n      <td>[1299, 1366, 1155, 1367, 1360, 1213, 1461, 130...</td>\n      <td>446.557842</td>\n      <td>-1.149155</td>\n    </tr>\n  </tbody>\n</table>\n<p>26669 rows × 45 columns</p>\n</div>"
     },
     "execution_count": 17,
     "metadata": {},
     "output_type": "execute_result"
    }
   ],
   "source": [
    "data_enriched_df = data_df.merge(all_teams_df, left_on=['season', 'wteam'], right_on=['season', 'team'])\n",
    "data_enriched_df = data_enriched_df.rename(columns={i: f'w{i}' for i in all_teams_df if i not in ['team', 'win_count', 'loss_count', 'opponents', 'mean_points']})\n",
    "data_enriched_df.pop('team')\n",
    "data_enriched_df.pop('count_column')\n",
    "\n",
    "data_enriched_df"
   ],
   "metadata": {
    "collapsed": false
   }
  },
  {
   "cell_type": "code",
   "execution_count": 18,
   "outputs": [
    {
     "data": {
      "text/plain": "       season  wteam  lteam  wscore  lscore  wwin_percent  wpoints      wfgp  \\\n0        2011   1228   1414      79      65      0.588235     2413  0.468063   \n1        2011   1334   1414      75      51      0.482759     1879  0.433534   \n2        2011   1363   1414      85      70      0.516129     2222  0.399680   \n3        2011   1364   1414      71      58      0.533333     2019  0.448208   \n4        2011   1417   1414      74      73      0.676471     2382  0.455293   \n...       ...    ...    ...     ...     ...           ...      ...       ...   \n26581    2015   1249   1394      66      64      0.423077     1775  0.442363   \n26582    2015   1372   1394      61      51      0.866667     2369  0.492736   \n26583    2015   1223   1394      77      66      0.333333     1654  0.434653   \n26584    2015   1207   1437      78      58      0.677419     2192  0.454545   \n26585    2015   1371   1437      66      61      0.516129     2119  0.421203   \n\n             wrpi      wbpi  ...  wstl  lstl  wblk  lblk    rpi_diff  \\\n0      585.064307  5.584434  ...   188   202   152    53  123.846979   \n1      495.350899 -3.516143  ...   129   202    53    53   34.133571   \n2      501.644382  2.194052  ...   167   202    73    53   40.427054   \n3      517.155066 -1.266128  ...   216   202   124    53   55.937738   \n4      564.278778  5.805317  ...   185   202   198    53  103.061450   \n...           ...       ...  ...   ...   ...   ...   ...         ...   \n26581  459.232769 -5.129315  ...   168   201    99    79   12.301171   \n26582  462.215337  8.053652  ...   217   201   101    79   15.283739   \n26583  445.987784 -6.058607  ...   132   201    74    79   -0.943813   \n26584  566.382266  2.224127  ...   239   265   152   137   -0.941307   \n26585  537.578767  0.479172  ...   185   265   127   137  -29.744807   \n\n        bpi_diff  point_diff  steal_diff  block_diff  field_goal_percent_diff  \n0       2.815065         101         -14          99                 0.049471  \n1      -6.285512        -433         -73           0                 0.014942  \n2      -0.575316         -90         -35          20                -0.018912  \n3      -4.035497        -293          14          71                 0.029617  \n4       3.035948          70         -17         145                 0.036702  \n...          ...         ...         ...         ...                      ...  \n26581  -2.782942        -191         -33          20                 0.002065  \n26582  10.400025         403          16          22                 0.052438  \n26583  -3.712235        -312         -69          -5                -0.005646  \n26584 -11.693666        -401         -26          15                -0.015176  \n26585 -13.438621        -474         -80         -10                -0.048518  \n\n[26586 rows x 25 columns]",
      "text/html": "<div>\n<style scoped>\n    .dataframe tbody tr th:only-of-type {\n        vertical-align: middle;\n    }\n\n    .dataframe tbody tr th {\n        vertical-align: top;\n    }\n\n    .dataframe thead th {\n        text-align: right;\n    }\n</style>\n<table border=\"1\" class=\"dataframe\">\n  <thead>\n    <tr style=\"text-align: right;\">\n      <th></th>\n      <th>season</th>\n      <th>wteam</th>\n      <th>lteam</th>\n      <th>wscore</th>\n      <th>lscore</th>\n      <th>wwin_percent</th>\n      <th>wpoints</th>\n      <th>wfgp</th>\n      <th>wrpi</th>\n      <th>wbpi</th>\n      <th>...</th>\n      <th>wstl</th>\n      <th>lstl</th>\n      <th>wblk</th>\n      <th>lblk</th>\n      <th>rpi_diff</th>\n      <th>bpi_diff</th>\n      <th>point_diff</th>\n      <th>steal_diff</th>\n      <th>block_diff</th>\n      <th>field_goal_percent_diff</th>\n    </tr>\n  </thead>\n  <tbody>\n    <tr>\n      <th>0</th>\n      <td>2011</td>\n      <td>1228</td>\n      <td>1414</td>\n      <td>79</td>\n      <td>65</td>\n      <td>0.588235</td>\n      <td>2413</td>\n      <td>0.468063</td>\n      <td>585.064307</td>\n      <td>5.584434</td>\n      <td>...</td>\n      <td>188</td>\n      <td>202</td>\n      <td>152</td>\n      <td>53</td>\n      <td>123.846979</td>\n      <td>2.815065</td>\n      <td>101</td>\n      <td>-14</td>\n      <td>99</td>\n      <td>0.049471</td>\n    </tr>\n    <tr>\n      <th>1</th>\n      <td>2011</td>\n      <td>1334</td>\n      <td>1414</td>\n      <td>75</td>\n      <td>51</td>\n      <td>0.482759</td>\n      <td>1879</td>\n      <td>0.433534</td>\n      <td>495.350899</td>\n      <td>-3.516143</td>\n      <td>...</td>\n      <td>129</td>\n      <td>202</td>\n      <td>53</td>\n      <td>53</td>\n      <td>34.133571</td>\n      <td>-6.285512</td>\n      <td>-433</td>\n      <td>-73</td>\n      <td>0</td>\n      <td>0.014942</td>\n    </tr>\n    <tr>\n      <th>2</th>\n      <td>2011</td>\n      <td>1363</td>\n      <td>1414</td>\n      <td>85</td>\n      <td>70</td>\n      <td>0.516129</td>\n      <td>2222</td>\n      <td>0.399680</td>\n      <td>501.644382</td>\n      <td>2.194052</td>\n      <td>...</td>\n      <td>167</td>\n      <td>202</td>\n      <td>73</td>\n      <td>53</td>\n      <td>40.427054</td>\n      <td>-0.575316</td>\n      <td>-90</td>\n      <td>-35</td>\n      <td>20</td>\n      <td>-0.018912</td>\n    </tr>\n    <tr>\n      <th>3</th>\n      <td>2011</td>\n      <td>1364</td>\n      <td>1414</td>\n      <td>71</td>\n      <td>58</td>\n      <td>0.533333</td>\n      <td>2019</td>\n      <td>0.448208</td>\n      <td>517.155066</td>\n      <td>-1.266128</td>\n      <td>...</td>\n      <td>216</td>\n      <td>202</td>\n      <td>124</td>\n      <td>53</td>\n      <td>55.937738</td>\n      <td>-4.035497</td>\n      <td>-293</td>\n      <td>14</td>\n      <td>71</td>\n      <td>0.029617</td>\n    </tr>\n    <tr>\n      <th>4</th>\n      <td>2011</td>\n      <td>1417</td>\n      <td>1414</td>\n      <td>74</td>\n      <td>73</td>\n      <td>0.676471</td>\n      <td>2382</td>\n      <td>0.455293</td>\n      <td>564.278778</td>\n      <td>5.805317</td>\n      <td>...</td>\n      <td>185</td>\n      <td>202</td>\n      <td>198</td>\n      <td>53</td>\n      <td>103.061450</td>\n      <td>3.035948</td>\n      <td>70</td>\n      <td>-17</td>\n      <td>145</td>\n      <td>0.036702</td>\n    </tr>\n    <tr>\n      <th>...</th>\n      <td>...</td>\n      <td>...</td>\n      <td>...</td>\n      <td>...</td>\n      <td>...</td>\n      <td>...</td>\n      <td>...</td>\n      <td>...</td>\n      <td>...</td>\n      <td>...</td>\n      <td>...</td>\n      <td>...</td>\n      <td>...</td>\n      <td>...</td>\n      <td>...</td>\n      <td>...</td>\n      <td>...</td>\n      <td>...</td>\n      <td>...</td>\n      <td>...</td>\n      <td>...</td>\n    </tr>\n    <tr>\n      <th>26581</th>\n      <td>2015</td>\n      <td>1249</td>\n      <td>1394</td>\n      <td>66</td>\n      <td>64</td>\n      <td>0.423077</td>\n      <td>1775</td>\n      <td>0.442363</td>\n      <td>459.232769</td>\n      <td>-5.129315</td>\n      <td>...</td>\n      <td>168</td>\n      <td>201</td>\n      <td>99</td>\n      <td>79</td>\n      <td>12.301171</td>\n      <td>-2.782942</td>\n      <td>-191</td>\n      <td>-33</td>\n      <td>20</td>\n      <td>0.002065</td>\n    </tr>\n    <tr>\n      <th>26582</th>\n      <td>2015</td>\n      <td>1372</td>\n      <td>1394</td>\n      <td>61</td>\n      <td>51</td>\n      <td>0.866667</td>\n      <td>2369</td>\n      <td>0.492736</td>\n      <td>462.215337</td>\n      <td>8.053652</td>\n      <td>...</td>\n      <td>217</td>\n      <td>201</td>\n      <td>101</td>\n      <td>79</td>\n      <td>15.283739</td>\n      <td>10.400025</td>\n      <td>403</td>\n      <td>16</td>\n      <td>22</td>\n      <td>0.052438</td>\n    </tr>\n    <tr>\n      <th>26583</th>\n      <td>2015</td>\n      <td>1223</td>\n      <td>1394</td>\n      <td>77</td>\n      <td>66</td>\n      <td>0.333333</td>\n      <td>1654</td>\n      <td>0.434653</td>\n      <td>445.987784</td>\n      <td>-6.058607</td>\n      <td>...</td>\n      <td>132</td>\n      <td>201</td>\n      <td>74</td>\n      <td>79</td>\n      <td>-0.943813</td>\n      <td>-3.712235</td>\n      <td>-312</td>\n      <td>-69</td>\n      <td>-5</td>\n      <td>-0.005646</td>\n    </tr>\n    <tr>\n      <th>26584</th>\n      <td>2015</td>\n      <td>1207</td>\n      <td>1437</td>\n      <td>78</td>\n      <td>58</td>\n      <td>0.677419</td>\n      <td>2192</td>\n      <td>0.454545</td>\n      <td>566.382266</td>\n      <td>2.224127</td>\n      <td>...</td>\n      <td>239</td>\n      <td>265</td>\n      <td>152</td>\n      <td>137</td>\n      <td>-0.941307</td>\n      <td>-11.693666</td>\n      <td>-401</td>\n      <td>-26</td>\n      <td>15</td>\n      <td>-0.015176</td>\n    </tr>\n    <tr>\n      <th>26585</th>\n      <td>2015</td>\n      <td>1371</td>\n      <td>1437</td>\n      <td>66</td>\n      <td>61</td>\n      <td>0.516129</td>\n      <td>2119</td>\n      <td>0.421203</td>\n      <td>537.578767</td>\n      <td>0.479172</td>\n      <td>...</td>\n      <td>185</td>\n      <td>265</td>\n      <td>127</td>\n      <td>137</td>\n      <td>-29.744807</td>\n      <td>-13.438621</td>\n      <td>-474</td>\n      <td>-80</td>\n      <td>-10</td>\n      <td>-0.048518</td>\n    </tr>\n  </tbody>\n</table>\n<p>26586 rows × 25 columns</p>\n</div>"
     },
     "execution_count": 18,
     "metadata": {},
     "output_type": "execute_result"
    }
   ],
   "source": [
    "data_enriched_df = data_df.merge(all_teams_df, left_on=['season', 'wteam'], right_on=['season', 'team'])\n",
    "data_enriched_df = data_enriched_df.rename(columns={i: f'w{i}' for i in all_teams_df if i not in ['team', 'win_count', 'loss_count', 'opponents', 'mean_points', 'season']})\n",
    "data_enriched_df.pop('team')\n",
    "data_enriched_df.pop('count_column')\n",
    "\n",
    "data_enriched_df = data_enriched_df.merge(all_teams_df, left_on=['season', 'lteam'], right_on=['season', 'team'])\n",
    "data_enriched_df = data_enriched_df.rename(columns={i: f'l{i}' for i in all_teams_df if i not in ['team', 'win_count', 'loss_count', 'opponents', 'mean_points', 'season']})\n",
    "data_enriched_df.pop('team')\n",
    "\n",
    "data_enriched_df = data_enriched_df[['season', 'wteam', 'lteam', 'wscore', 'lscore'] + [f'w{i}' for i in all_teams_df if i not in ['team', 'win_count', 'loss_count', 'opponents', 'mean_points', 'season']] + [f'l{i}' for i in all_teams_df if i not in ['team', 'win_count', 'loss_count', 'opponents', 'mean_points', 'season']]]\n",
    "\n",
    "data_enriched_df['wstl'] = data_enriched_df.pop('wstl').loc[:, [False, True]]\n",
    "data_enriched_df['lstl'] = data_enriched_df.pop('lstl').loc[:, [False, True]]\n",
    "data_enriched_df['wblk'] = data_enriched_df.pop('wblk').loc[:, [False, True]]\n",
    "data_enriched_df['lblk'] = data_enriched_df.pop('lblk').loc[:, [False, True]]\n",
    "\n",
    "data_enriched_df['rpi_diff'] = data_enriched_df['wrpi'] - data_enriched_df['lrpi']\n",
    "data_enriched_df['bpi_diff'] = data_enriched_df['wbpi'] - data_enriched_df['lbpi']\n",
    "data_enriched_df['point_diff'] = data_enriched_df['wpoints'] - data_enriched_df['lpoints']\n",
    "data_enriched_df['steal_diff'] = data_enriched_df['wstl'] - data_enriched_df['lstl']\n",
    "data_enriched_df['block_diff'] = data_enriched_df['wblk'] - data_enriched_df['lblk']\n",
    "data_enriched_df['field_goal_percent_diff'] = data_enriched_df['wfgp'] - data_enriched_df['lfgp']\n",
    "\n",
    "data_enriched_df: pd.DataFrame\n",
    "\n",
    "data_enriched_df"
   ],
   "metadata": {
    "collapsed": false
   }
  },
  {
   "cell_type": "code",
   "execution_count": 19,
   "outputs": [],
   "source": [
    "#data_enriched_df.to_csv('data_2/dataset_2.csv', index=False)\n",
    "data_enriched_df.to_csv('data_2/dataset_2.csv', index=False)"
   ],
   "metadata": {
    "collapsed": false
   }
  },
  {
   "cell_type": "code",
   "execution_count": null,
   "outputs": [],
   "source": [
    "from sklearn.linear_model import LinearRegression\n",
    "from sklearn.preprocessing import PolynomialFeatures\n",
    "import numpy as np"
   ],
   "metadata": {
    "collapsed": false
   }
  },
  {
   "cell_type": "code",
   "execution_count": null,
   "outputs": [],
   "source": [
    "poly = PolynomialFeatures(degree=2, include_bias=False)\n",
    "\n",
    "all_models = {}"
   ],
   "metadata": {
    "collapsed": false
   }
  },
  {
   "cell_type": "code",
   "execution_count": null,
   "outputs": [],
   "source": [
    "model = LinearRegression()\n",
    "\n",
    "a = 'rpi_diff'\n",
    "\n",
    "test = data_enriched_df[[a, 'wwin_percent']].groupby(a).median().reset_index()\n",
    "# test['rpi_diff'] = test['rpi_diff'].abs()\n",
    "\n",
    "d = test[a].to_numpy()\n",
    "poly_features = poly.fit_transform(d.reshape(-1, 1))\n",
    "\n",
    "model.fit(poly_features, test['wwin_percent'])\n",
    "\n",
    "all_models[a] = model\n",
    "\n",
    "plt.xlabel(a)\n",
    "plt.ylabel('Winning %')\n",
    "plt.plot(d, model.predict(poly_features), c='red')\n",
    "plt.scatter(d, test['wwin_percent'])\n",
    "plt.show()"
   ],
   "metadata": {
    "collapsed": false
   }
  },
  {
   "cell_type": "code",
   "execution_count": null,
   "outputs": [],
   "source": [
    "model = LinearRegression()\n",
    "\n",
    "a = 'bpi_diff'\n",
    "\n",
    "test = data_enriched_df[[a, 'wwin_percent']].groupby(a).median().reset_index()\n",
    "# test['rpi_diff'] = test['rpi_diff'].abs()\n",
    "\n",
    "d = test[a].to_numpy()\n",
    "poly_features = poly.fit_transform(d.reshape(-1, 1))\n",
    "\n",
    "model.fit(poly_features, test['wwin_percent'])\n",
    "\n",
    "all_models[a] = model\n",
    "\n",
    "plt.xlabel(a)\n",
    "plt.ylabel('Winning %')\n",
    "plt.plot(d, model.predict(poly_features), c='red')\n",
    "plt.scatter(d, test['wwin_percent'])\n",
    "plt.show()"
   ],
   "metadata": {
    "collapsed": false
   }
  },
  {
   "cell_type": "code",
   "execution_count": null,
   "outputs": [],
   "source": [
    "model = LinearRegression()\n",
    "\n",
    "a = 'steal_diff'\n",
    "\n",
    "test = data_enriched_df[[a, 'wwin_percent']].groupby(a).median().reset_index()\n",
    "# test['rpi_diff'] = test['rpi_diff'].abs()\n",
    "\n",
    "d = test[a].to_numpy()\n",
    "poly_features = poly.fit_transform(d.reshape(-1, 1))\n",
    "\n",
    "model.fit(poly_features, test['wwin_percent'])\n",
    "\n",
    "all_models[a] = model\n",
    "\n",
    "plt.xlabel(a)\n",
    "plt.ylabel('Winning %')\n",
    "plt.plot(d, model.predict(poly_features), c='red')\n",
    "plt.scatter(d, test['wwin_percent'])\n",
    "plt.show()"
   ],
   "metadata": {
    "collapsed": false
   }
  },
  {
   "cell_type": "code",
   "execution_count": null,
   "outputs": [],
   "source": [
    "model = LinearRegression()\n",
    "\n",
    "a = 'point_diff'\n",
    "\n",
    "test = data_enriched_df[[a, 'wwin_percent']].groupby(a).median().reset_index()\n",
    "# test['rpi_diff'] = test['rpi_diff'].abs()\n",
    "\n",
    "d = test[a].to_numpy()\n",
    "poly_features = poly.fit_transform(d.reshape(-1, 1))\n",
    "\n",
    "model.fit(poly_features, test['wwin_percent'])\n",
    "\n",
    "all_models[a] = model\n",
    "\n",
    "plt.xlabel(a)\n",
    "plt.ylabel('Winning %')\n",
    "plt.plot(d, model.predict(poly_features), c='red')\n",
    "plt.scatter(d, test['wwin_percent'])\n",
    "plt.show()"
   ],
   "metadata": {
    "collapsed": false
   }
  },
  {
   "cell_type": "code",
   "execution_count": null,
   "outputs": [],
   "source": [
    "model = LinearRegression()\n",
    "\n",
    "a = 'block_diff'\n",
    "\n",
    "test = data_enriched_df[[a, 'wwin_percent']].groupby(a).median().reset_index()\n",
    "# test['rpi_diff'] = test['rpi_diff'].abs()\n",
    "\n",
    "d = test[a].to_numpy()\n",
    "poly_features = poly.fit_transform(d.reshape(-1, 1))\n",
    "\n",
    "model.fit(poly_features, test['wwin_percent'])\n",
    "\n",
    "all_models[a] = model\n",
    "\n",
    "plt.xlabel(a)\n",
    "plt.ylabel('Winning %')\n",
    "plt.plot(d, model.predict(poly_features), c='red')\n",
    "plt.scatter(d, test['wwin_percent'])\n",
    "plt.show()"
   ],
   "metadata": {
    "collapsed": false
   }
  },
  {
   "cell_type": "code",
   "execution_count": null,
   "outputs": [],
   "source": [
    "model = LinearRegression()\n",
    "\n",
    "a = 'field_goal_percent_diff'\n",
    "\n",
    "test = data_enriched_df[[a, 'wwin_percent']].groupby(a).median().reset_index()\n",
    "# test['rpi_diff'] = test['rpi_diff'].abs()\n",
    "\n",
    "d = test[a].to_numpy()\n",
    "poly_features = poly.fit_transform(d.reshape(-1, 1))\n",
    "\n",
    "model.fit(poly_features, test['wwin_percent'])\n",
    "\n",
    "all_models[a] = model\n",
    "\n",
    "plt.xlabel(a)\n",
    "plt.ylabel('Winning %')\n",
    "plt.plot(d, model.predict(poly_features), c='red')\n",
    "plt.scatter(d, test['wwin_percent'])\n",
    "plt.show()"
   ],
   "metadata": {
    "collapsed": false
   }
  },
  {
   "cell_type": "code",
   "execution_count": null,
   "outputs": [],
   "source": [
    "for m in all_models:\n",
    "    to_print = f'{m}: y = '\n",
    "    to_print += ' + '.join(f\"{j:.3e} * x^{i + 1}\" for i, j in reversed(list(enumerate(all_models[m].coef_))))\n",
    "    to_print += f' + {all_models[m].intercept_:.3e}'\n",
    "    print(to_print)"
   ],
   "metadata": {
    "collapsed": false
   }
  },
  {
   "cell_type": "code",
   "execution_count": null,
   "outputs": [],
   "source": [
    "all_teams_df"
   ],
   "metadata": {
    "collapsed": false
   }
  },
  {
   "cell_type": "code",
   "execution_count": null,
   "outputs": [],
   "source": [
    "def predict_does_win(row: pd.Series) -> pd.Series:\n",
    "    teams = row['id'].split('_')[1:]\n",
    "\n",
    "    p = []\n",
    "\n",
    "    team1: pd.DataFrame = all_teams_df.loc[all_teams_df['team'] == int(teams[0])]\n",
    "    team1: pd.DataFrame = team1.loc[team1['season'] == 2014]\n",
    "    team2: pd.DataFrame = all_teams_df.loc[all_teams_df['team'] == int(teams[1])]\n",
    "    team2: pd.DataFrame = team2.loc[team2['season'] == 2014]\n",
    "\n",
    "    if team1.empty or team2.empty:\n",
    "        row['pred'] = None\n",
    "        row['wteam'] = int(teams[0])\n",
    "        row['lteam'] = int(teams[1])\n",
    "\n",
    "        return row\n",
    "\n",
    "    team1.pop('opponents')\n",
    "    team1.pop('win_count')\n",
    "    team1.pop('loss_count')\n",
    "    team1.pop('win_percent')\n",
    "\n",
    "    team2.pop('opponents')\n",
    "    team2.pop('win_count')\n",
    "    team2.pop('loss_count')\n",
    "    team2.pop('win_percent')\n",
    "\n",
    "    df = pd.Series(dtype='float64')\n",
    "\n",
    "    df['rpi_diff'] = team1.squeeze()['rpi'] - team2.squeeze().squeeze()['rpi']\n",
    "    df['bpi_diff'] = team1.squeeze()['bpi'] - team2.squeeze()['bpi']\n",
    "    df['point_diff'] = team1.squeeze()['points'] - team2.squeeze()['points']\n",
    "    df['steal_diff'] = team1.squeeze()['stl'] - team2.squeeze()['stl']\n",
    "    df['block_diff'] = team1.squeeze()['blk'] - team2.squeeze()['blk']\n",
    "    df['field_goal_percent_diff'] = team1.squeeze()['fgp'] - team2.squeeze()['fgp']\n",
    "\n",
    "    for m in all_models:\n",
    "        a = np.array([df[m]]).reshape(-1, 1)\n",
    "        poly_features = poly.fit_transform(a)\n",
    "\n",
    "        r = all_models[m].predict(poly_features)\n",
    "\n",
    "        p.append(r if df[m] > 0 else 1 - r)\n",
    "\n",
    "    row['pred'] = (sum(p) / len(p))[0]\n",
    "    row['wteam'] = int(teams[0])\n",
    "    row['lteam'] = int(teams[1])\n",
    "\n",
    "    return row"
   ],
   "metadata": {
    "collapsed": false
   }
  },
  {
   "cell_type": "code",
   "execution_count": null,
   "outputs": [],
   "source": [
    "test_df = pd.read_csv('data/tourney_compact_results.csv')\n",
    "\n",
    "test_df = test_df.loc[test_df['season'] == 2014]\n",
    "\n",
    "test_df['id'] = '2014_' + test_df['wteam'].apply(str)+ '_' + test_df['lteam'].apply(str)\n",
    "\n",
    "test_df: pd.DataFrame = test_df.apply(predict_does_win, axis=1)\n",
    "\n",
    "test_df = test_df.loc[~test_df['pred'].isna()]\n",
    "\n",
    "test_df = test_df[['id', 'pred']]\n",
    "\n",
    "test_df"
   ],
   "metadata": {
    "collapsed": false
   }
  },
  {
   "cell_type": "code",
   "execution_count": null,
   "outputs": [],
   "source": [
    "def check_success(row: pd.Series) -> pd.Series:\n",
    "    a = data_df.loc[data_df['wteam'] == row['wteam']]\n",
    "    a = a.loc[a['lteam'] == row['lteam']]\n",
    "    a = a.loc[a['season'] == 2014]\n",
    "\n",
    "    row['pred_correct'] = a.empty\n",
    "\n",
    "    return row"
   ],
   "metadata": {
    "collapsed": false
   }
  },
  {
   "cell_type": "code",
   "execution_count": null,
   "outputs": [],
   "source": [
    "b = test_df.copy()\n",
    "b['pred_correct'] = b['pred'] > 0.5"
   ],
   "metadata": {
    "collapsed": false
   }
  },
  {
   "cell_type": "code",
   "execution_count": null,
   "outputs": [],
   "source": [
    "b"
   ],
   "metadata": {
    "collapsed": false
   }
  },
  {
   "cell_type": "code",
   "execution_count": null,
   "outputs": [],
   "source": [
    "sum(b['pred_correct']) / len(b)"
   ],
   "metadata": {
    "collapsed": false
   }
  },
  {
   "cell_type": "code",
   "execution_count": null,
   "outputs": [],
   "source": [
    "from math import log"
   ],
   "metadata": {
    "collapsed": false
   }
  },
  {
   "cell_type": "code",
   "execution_count": null,
   "outputs": [],
   "source": [
    "n = len(b)\n",
    "log_loss = -(1 / n) * sum(j * log(i) + (1 - j) * log(1 - i) for i, j in zip(b['pred'], b['pred_correct']))\n",
    "print(f'{log_loss = }')"
   ],
   "metadata": {
    "collapsed": false
   }
  },
  {
   "cell_type": "code",
   "execution_count": null,
   "outputs": [],
   "source": [],
   "metadata": {
    "collapsed": false
   }
  }
 ],
 "metadata": {
  "kernelspec": {
   "display_name": "Python 3",
   "language": "python",
   "name": "python3"
  },
  "language_info": {
   "codemirror_mode": {
    "name": "ipython",
    "version": 2
   },
   "file_extension": ".py",
   "mimetype": "text/x-python",
   "name": "python",
   "nbconvert_exporter": "python",
   "pygments_lexer": "ipython2",
   "version": "2.7.6"
  }
 },
 "nbformat": 4,
 "nbformat_minor": 0
}
