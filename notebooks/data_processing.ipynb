{
 "cells": [
  {
   "cell_type": "code",
   "execution_count": 1,
   "metadata": {
    "collapsed": true
   },
   "outputs": [],
   "source": [
    "import pandas as pd"
   ]
  },
  {
   "cell_type": "code",
   "execution_count": 3,
   "outputs": [
    {
     "data": {
      "text/plain": "      season  daynum  wteam  wscore  lteam  lscore wloc  numot\n0          A      16    511      91    647      57    H    NaN\n1          A      16    515      75    812      67    H    NaN\n2          A      16    606      87    658      67    H    NaN\n3          A      16    670      73    573      65    H    NaN\n4          A      16    721      99    632      68    H    NaN\n...      ...     ...    ...     ...    ...     ...  ...    ...\n91219      S     132    592      61    640      60    N    0.0\n91220      S     132    671      69    670      55    N    0.0\n91221      S     132    779      65    825      61    N    0.0\n91222      S     132    811      82    605      81    N    1.0\n91223      S     132    830      72    577      63    N    0.0\n\n[91224 rows x 8 columns]",
      "text/html": "<div>\n<style scoped>\n    .dataframe tbody tr th:only-of-type {\n        vertical-align: middle;\n    }\n\n    .dataframe tbody tr th {\n        vertical-align: top;\n    }\n\n    .dataframe thead th {\n        text-align: right;\n    }\n</style>\n<table border=\"1\" class=\"dataframe\">\n  <thead>\n    <tr style=\"text-align: right;\">\n      <th></th>\n      <th>season</th>\n      <th>daynum</th>\n      <th>wteam</th>\n      <th>wscore</th>\n      <th>lteam</th>\n      <th>lscore</th>\n      <th>wloc</th>\n      <th>numot</th>\n    </tr>\n  </thead>\n  <tbody>\n    <tr>\n      <th>0</th>\n      <td>A</td>\n      <td>16</td>\n      <td>511</td>\n      <td>91</td>\n      <td>647</td>\n      <td>57</td>\n      <td>H</td>\n      <td>NaN</td>\n    </tr>\n    <tr>\n      <th>1</th>\n      <td>A</td>\n      <td>16</td>\n      <td>515</td>\n      <td>75</td>\n      <td>812</td>\n      <td>67</td>\n      <td>H</td>\n      <td>NaN</td>\n    </tr>\n    <tr>\n      <th>2</th>\n      <td>A</td>\n      <td>16</td>\n      <td>606</td>\n      <td>87</td>\n      <td>658</td>\n      <td>67</td>\n      <td>H</td>\n      <td>NaN</td>\n    </tr>\n    <tr>\n      <th>3</th>\n      <td>A</td>\n      <td>16</td>\n      <td>670</td>\n      <td>73</td>\n      <td>573</td>\n      <td>65</td>\n      <td>H</td>\n      <td>NaN</td>\n    </tr>\n    <tr>\n      <th>4</th>\n      <td>A</td>\n      <td>16</td>\n      <td>721</td>\n      <td>99</td>\n      <td>632</td>\n      <td>68</td>\n      <td>H</td>\n      <td>NaN</td>\n    </tr>\n    <tr>\n      <th>...</th>\n      <td>...</td>\n      <td>...</td>\n      <td>...</td>\n      <td>...</td>\n      <td>...</td>\n      <td>...</td>\n      <td>...</td>\n      <td>...</td>\n    </tr>\n    <tr>\n      <th>91219</th>\n      <td>S</td>\n      <td>132</td>\n      <td>592</td>\n      <td>61</td>\n      <td>640</td>\n      <td>60</td>\n      <td>N</td>\n      <td>0.0</td>\n    </tr>\n    <tr>\n      <th>91220</th>\n      <td>S</td>\n      <td>132</td>\n      <td>671</td>\n      <td>69</td>\n      <td>670</td>\n      <td>55</td>\n      <td>N</td>\n      <td>0.0</td>\n    </tr>\n    <tr>\n      <th>91221</th>\n      <td>S</td>\n      <td>132</td>\n      <td>779</td>\n      <td>65</td>\n      <td>825</td>\n      <td>61</td>\n      <td>N</td>\n      <td>0.0</td>\n    </tr>\n    <tr>\n      <th>91222</th>\n      <td>S</td>\n      <td>132</td>\n      <td>811</td>\n      <td>82</td>\n      <td>605</td>\n      <td>81</td>\n      <td>N</td>\n      <td>1.0</td>\n    </tr>\n    <tr>\n      <th>91223</th>\n      <td>S</td>\n      <td>132</td>\n      <td>830</td>\n      <td>72</td>\n      <td>577</td>\n      <td>63</td>\n      <td>N</td>\n      <td>0.0</td>\n    </tr>\n  </tbody>\n</table>\n<p>91224 rows × 8 columns</p>\n</div>"
     },
     "execution_count": 3,
     "metadata": {},
     "output_type": "execute_result"
    }
   ],
   "source": [
    "regular_season_results_df = pd.read_csv('../data/regular_season_results.csv')\n",
    "regular_season_results_df"
   ],
   "metadata": {
    "collapsed": false
   }
  },
  {
   "cell_type": "code",
   "execution_count": 4,
   "outputs": [
    {
     "data": {
      "text/plain": "      id            name\n0    501     Abilene Chr\n1    502       Air Force\n2    503           Akron\n3    504         Alabama\n4    505     Alabama A&M\n..   ...             ...\n351  852         Wyoming\n352  853          Xavier\n353  854            Yale\n354  855   Youngstown St\n355  856  Incarnate Word\n\n[356 rows x 2 columns]",
      "text/html": "<div>\n<style scoped>\n    .dataframe tbody tr th:only-of-type {\n        vertical-align: middle;\n    }\n\n    .dataframe tbody tr th {\n        vertical-align: top;\n    }\n\n    .dataframe thead th {\n        text-align: right;\n    }\n</style>\n<table border=\"1\" class=\"dataframe\">\n  <thead>\n    <tr style=\"text-align: right;\">\n      <th></th>\n      <th>id</th>\n      <th>name</th>\n    </tr>\n  </thead>\n  <tbody>\n    <tr>\n      <th>0</th>\n      <td>501</td>\n      <td>Abilene Chr</td>\n    </tr>\n    <tr>\n      <th>1</th>\n      <td>502</td>\n      <td>Air Force</td>\n    </tr>\n    <tr>\n      <th>2</th>\n      <td>503</td>\n      <td>Akron</td>\n    </tr>\n    <tr>\n      <th>3</th>\n      <td>504</td>\n      <td>Alabama</td>\n    </tr>\n    <tr>\n      <th>4</th>\n      <td>505</td>\n      <td>Alabama A&amp;M</td>\n    </tr>\n    <tr>\n      <th>...</th>\n      <td>...</td>\n      <td>...</td>\n    </tr>\n    <tr>\n      <th>351</th>\n      <td>852</td>\n      <td>Wyoming</td>\n    </tr>\n    <tr>\n      <th>352</th>\n      <td>853</td>\n      <td>Xavier</td>\n    </tr>\n    <tr>\n      <th>353</th>\n      <td>854</td>\n      <td>Yale</td>\n    </tr>\n    <tr>\n      <th>354</th>\n      <td>855</td>\n      <td>Youngstown St</td>\n    </tr>\n    <tr>\n      <th>355</th>\n      <td>856</td>\n      <td>Incarnate Word</td>\n    </tr>\n  </tbody>\n</table>\n<p>356 rows × 2 columns</p>\n</div>"
     },
     "execution_count": 4,
     "metadata": {},
     "output_type": "execute_result"
    }
   ],
   "source": [],
   "metadata": {
    "collapsed": false
   }
  },
  {
   "cell_type": "code",
   "execution_count": null,
   "outputs": [],
   "source": [],
   "metadata": {
    "collapsed": false
   }
  }
 ],
 "metadata": {
  "kernelspec": {
   "display_name": "Python 3",
   "language": "python",
   "name": "python3"
  },
  "language_info": {
   "codemirror_mode": {
    "name": "ipython",
    "version": 2
   },
   "file_extension": ".py",
   "mimetype": "text/x-python",
   "name": "python",
   "nbconvert_exporter": "python",
   "pygments_lexer": "ipython2",
   "version": "2.7.6"
  }
 },
 "nbformat": 4,
 "nbformat_minor": 0
}
