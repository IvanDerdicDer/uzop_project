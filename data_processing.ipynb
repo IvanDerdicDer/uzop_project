{
 "cells": [
  {
   "cell_type": "code",
   "execution_count": 309,
   "metadata": {
    "collapsed": true
   },
   "outputs": [],
   "source": [
    "import pandas as pd\n",
    "import matplotlib.pyplot as plt\n",
    "import string"
   ]
  },
  {
   "cell_type": "markdown",
   "source": [
    "Učitavanje podataka za analizu"
   ],
   "metadata": {
    "collapsed": false
   }
  },
  {
   "cell_type": "code",
   "execution_count": 241,
   "outputs": [
    {
     "data": {
      "text/plain": "      season  daynum  wteam  wscore  lteam  lscore wloc  numot\n0          A      16    511      91    647      57    H    NaN\n1          A      16    515      75    812      67    H    NaN\n2          A      16    606      87    658      67    H    NaN\n3          A      16    670      73    573      65    H    NaN\n4          A      16    721      99    632      68    H    NaN\n...      ...     ...    ...     ...    ...     ...  ...    ...\n91219      S     132    592      61    640      60    N    0.0\n91220      S     132    671      69    670      55    N    0.0\n91221      S     132    779      65    825      61    N    0.0\n91222      S     132    811      82    605      81    N    1.0\n91223      S     132    830      72    577      63    N    0.0\n\n[91224 rows x 8 columns]",
      "text/html": "<div>\n<style scoped>\n    .dataframe tbody tr th:only-of-type {\n        vertical-align: middle;\n    }\n\n    .dataframe tbody tr th {\n        vertical-align: top;\n    }\n\n    .dataframe thead th {\n        text-align: right;\n    }\n</style>\n<table border=\"1\" class=\"dataframe\">\n  <thead>\n    <tr style=\"text-align: right;\">\n      <th></th>\n      <th>season</th>\n      <th>daynum</th>\n      <th>wteam</th>\n      <th>wscore</th>\n      <th>lteam</th>\n      <th>lscore</th>\n      <th>wloc</th>\n      <th>numot</th>\n    </tr>\n  </thead>\n  <tbody>\n    <tr>\n      <th>0</th>\n      <td>A</td>\n      <td>16</td>\n      <td>511</td>\n      <td>91</td>\n      <td>647</td>\n      <td>57</td>\n      <td>H</td>\n      <td>NaN</td>\n    </tr>\n    <tr>\n      <th>1</th>\n      <td>A</td>\n      <td>16</td>\n      <td>515</td>\n      <td>75</td>\n      <td>812</td>\n      <td>67</td>\n      <td>H</td>\n      <td>NaN</td>\n    </tr>\n    <tr>\n      <th>2</th>\n      <td>A</td>\n      <td>16</td>\n      <td>606</td>\n      <td>87</td>\n      <td>658</td>\n      <td>67</td>\n      <td>H</td>\n      <td>NaN</td>\n    </tr>\n    <tr>\n      <th>3</th>\n      <td>A</td>\n      <td>16</td>\n      <td>670</td>\n      <td>73</td>\n      <td>573</td>\n      <td>65</td>\n      <td>H</td>\n      <td>NaN</td>\n    </tr>\n    <tr>\n      <th>4</th>\n      <td>A</td>\n      <td>16</td>\n      <td>721</td>\n      <td>99</td>\n      <td>632</td>\n      <td>68</td>\n      <td>H</td>\n      <td>NaN</td>\n    </tr>\n    <tr>\n      <th>...</th>\n      <td>...</td>\n      <td>...</td>\n      <td>...</td>\n      <td>...</td>\n      <td>...</td>\n      <td>...</td>\n      <td>...</td>\n      <td>...</td>\n    </tr>\n    <tr>\n      <th>91219</th>\n      <td>S</td>\n      <td>132</td>\n      <td>592</td>\n      <td>61</td>\n      <td>640</td>\n      <td>60</td>\n      <td>N</td>\n      <td>0.0</td>\n    </tr>\n    <tr>\n      <th>91220</th>\n      <td>S</td>\n      <td>132</td>\n      <td>671</td>\n      <td>69</td>\n      <td>670</td>\n      <td>55</td>\n      <td>N</td>\n      <td>0.0</td>\n    </tr>\n    <tr>\n      <th>91221</th>\n      <td>S</td>\n      <td>132</td>\n      <td>779</td>\n      <td>65</td>\n      <td>825</td>\n      <td>61</td>\n      <td>N</td>\n      <td>0.0</td>\n    </tr>\n    <tr>\n      <th>91222</th>\n      <td>S</td>\n      <td>132</td>\n      <td>811</td>\n      <td>82</td>\n      <td>605</td>\n      <td>81</td>\n      <td>N</td>\n      <td>1.0</td>\n    </tr>\n    <tr>\n      <th>91223</th>\n      <td>S</td>\n      <td>132</td>\n      <td>830</td>\n      <td>72</td>\n      <td>577</td>\n      <td>63</td>\n      <td>N</td>\n      <td>0.0</td>\n    </tr>\n  </tbody>\n</table>\n<p>91224 rows × 8 columns</p>\n</div>"
     },
     "execution_count": 241,
     "metadata": {},
     "output_type": "execute_result"
    }
   ],
   "source": [
    "regular_season_results_df = pd.read_csv('data/regular_season_results.csv')\n",
    "regular_season_results_df"
   ],
   "metadata": {
    "collapsed": false
   }
  },
  {
   "cell_type": "code",
   "execution_count": 242,
   "outputs": [
    {
     "data": {
      "text/plain": "     season seed  team\n0         A  W01   663\n1         A  W02   603\n2         A  W03   796\n3         A  W04   660\n4         A  W05   729\n...     ...  ...   ...\n1237      S  Z12   689\n1238      S  Z13   702\n1239      S  Z14   811\n1240      S  Z15   509\n1241      S  Z16   842\n\n[1242 rows x 3 columns]",
      "text/html": "<div>\n<style scoped>\n    .dataframe tbody tr th:only-of-type {\n        vertical-align: middle;\n    }\n\n    .dataframe tbody tr th {\n        vertical-align: top;\n    }\n\n    .dataframe thead th {\n        text-align: right;\n    }\n</style>\n<table border=\"1\" class=\"dataframe\">\n  <thead>\n    <tr style=\"text-align: right;\">\n      <th></th>\n      <th>season</th>\n      <th>seed</th>\n      <th>team</th>\n    </tr>\n  </thead>\n  <tbody>\n    <tr>\n      <th>0</th>\n      <td>A</td>\n      <td>W01</td>\n      <td>663</td>\n    </tr>\n    <tr>\n      <th>1</th>\n      <td>A</td>\n      <td>W02</td>\n      <td>603</td>\n    </tr>\n    <tr>\n      <th>2</th>\n      <td>A</td>\n      <td>W03</td>\n      <td>796</td>\n    </tr>\n    <tr>\n      <th>3</th>\n      <td>A</td>\n      <td>W04</td>\n      <td>660</td>\n    </tr>\n    <tr>\n      <th>4</th>\n      <td>A</td>\n      <td>W05</td>\n      <td>729</td>\n    </tr>\n    <tr>\n      <th>...</th>\n      <td>...</td>\n      <td>...</td>\n      <td>...</td>\n    </tr>\n    <tr>\n      <th>1237</th>\n      <td>S</td>\n      <td>Z12</td>\n      <td>689</td>\n    </tr>\n    <tr>\n      <th>1238</th>\n      <td>S</td>\n      <td>Z13</td>\n      <td>702</td>\n    </tr>\n    <tr>\n      <th>1239</th>\n      <td>S</td>\n      <td>Z14</td>\n      <td>811</td>\n    </tr>\n    <tr>\n      <th>1240</th>\n      <td>S</td>\n      <td>Z15</td>\n      <td>509</td>\n    </tr>\n    <tr>\n      <th>1241</th>\n      <td>S</td>\n      <td>Z16</td>\n      <td>842</td>\n    </tr>\n  </tbody>\n</table>\n<p>1242 rows × 3 columns</p>\n</div>"
     },
     "execution_count": 242,
     "metadata": {},
     "output_type": "execute_result"
    }
   ],
   "source": [
    "tourney_seeds_df = pd.read_csv('data/tourney_seeds.csv')\n",
    "tourney_seeds_df"
   ],
   "metadata": {
    "collapsed": false
   }
  },
  {
   "cell_type": "code",
   "execution_count": 243,
   "outputs": [
    {
     "data": {
      "text/plain": "     season  slot strongseed weakseed\n0         A  R1W1        W01      W16\n1         A  R1W2        W02      W15\n2         A  R1W3        W03      W14\n3         A  R1W4        W04      W13\n4         A  R1W5        W05      W12\n...     ...   ...        ...      ...\n1218      S  R4Y1       R3Y1     R3Y2\n1219      S  R4Z1       R3Z1     R3Z2\n1220      S  R5WX       R4W1     R4X1\n1221      S  R5YZ       R4Y1     R4Z1\n1222      S  R6CH       R5WX     R5YZ\n\n[1223 rows x 4 columns]",
      "text/html": "<div>\n<style scoped>\n    .dataframe tbody tr th:only-of-type {\n        vertical-align: middle;\n    }\n\n    .dataframe tbody tr th {\n        vertical-align: top;\n    }\n\n    .dataframe thead th {\n        text-align: right;\n    }\n</style>\n<table border=\"1\" class=\"dataframe\">\n  <thead>\n    <tr style=\"text-align: right;\">\n      <th></th>\n      <th>season</th>\n      <th>slot</th>\n      <th>strongseed</th>\n      <th>weakseed</th>\n    </tr>\n  </thead>\n  <tbody>\n    <tr>\n      <th>0</th>\n      <td>A</td>\n      <td>R1W1</td>\n      <td>W01</td>\n      <td>W16</td>\n    </tr>\n    <tr>\n      <th>1</th>\n      <td>A</td>\n      <td>R1W2</td>\n      <td>W02</td>\n      <td>W15</td>\n    </tr>\n    <tr>\n      <th>2</th>\n      <td>A</td>\n      <td>R1W3</td>\n      <td>W03</td>\n      <td>W14</td>\n    </tr>\n    <tr>\n      <th>3</th>\n      <td>A</td>\n      <td>R1W4</td>\n      <td>W04</td>\n      <td>W13</td>\n    </tr>\n    <tr>\n      <th>4</th>\n      <td>A</td>\n      <td>R1W5</td>\n      <td>W05</td>\n      <td>W12</td>\n    </tr>\n    <tr>\n      <th>...</th>\n      <td>...</td>\n      <td>...</td>\n      <td>...</td>\n      <td>...</td>\n    </tr>\n    <tr>\n      <th>1218</th>\n      <td>S</td>\n      <td>R4Y1</td>\n      <td>R3Y1</td>\n      <td>R3Y2</td>\n    </tr>\n    <tr>\n      <th>1219</th>\n      <td>S</td>\n      <td>R4Z1</td>\n      <td>R3Z1</td>\n      <td>R3Z2</td>\n    </tr>\n    <tr>\n      <th>1220</th>\n      <td>S</td>\n      <td>R5WX</td>\n      <td>R4W1</td>\n      <td>R4X1</td>\n    </tr>\n    <tr>\n      <th>1221</th>\n      <td>S</td>\n      <td>R5YZ</td>\n      <td>R4Y1</td>\n      <td>R4Z1</td>\n    </tr>\n    <tr>\n      <th>1222</th>\n      <td>S</td>\n      <td>R6CH</td>\n      <td>R5WX</td>\n      <td>R5YZ</td>\n    </tr>\n  </tbody>\n</table>\n<p>1223 rows × 4 columns</p>\n</div>"
     },
     "execution_count": 243,
     "metadata": {},
     "output_type": "execute_result"
    }
   ],
   "source": [
    "tourney_slots_df = pd.read_csv('data/tourney_slots.csv')\n",
    "tourney_slots_df"
   ],
   "metadata": {
    "collapsed": false
   }
  },
  {
   "cell_type": "markdown",
   "source": [
    "Provjera null vrijednosti"
   ],
   "metadata": {
    "collapsed": false
   }
  },
  {
   "cell_type": "code",
   "execution_count": 244,
   "outputs": [],
   "source": [
    "def data_has_null_values(\n",
    "        df: pd.DataFrame\n",
    ") -> pd.DataFrame:\n",
    "    to_return = {}\n",
    "\n",
    "    for column in df:\n",
    "        to_return[column] = [sum(df[column].isna())]\n",
    "\n",
    "    return pd.DataFrame(to_return)"
   ],
   "metadata": {
    "collapsed": false
   }
  },
  {
   "cell_type": "code",
   "execution_count": 245,
   "outputs": [
    {
     "data": {
      "text/plain": "   season  daynum  wteam  wscore  lteam  lscore  wloc  numot\n0       0       0      0       0      0       0     0  39891",
      "text/html": "<div>\n<style scoped>\n    .dataframe tbody tr th:only-of-type {\n        vertical-align: middle;\n    }\n\n    .dataframe tbody tr th {\n        vertical-align: top;\n    }\n\n    .dataframe thead th {\n        text-align: right;\n    }\n</style>\n<table border=\"1\" class=\"dataframe\">\n  <thead>\n    <tr style=\"text-align: right;\">\n      <th></th>\n      <th>season</th>\n      <th>daynum</th>\n      <th>wteam</th>\n      <th>wscore</th>\n      <th>lteam</th>\n      <th>lscore</th>\n      <th>wloc</th>\n      <th>numot</th>\n    </tr>\n  </thead>\n  <tbody>\n    <tr>\n      <th>0</th>\n      <td>0</td>\n      <td>0</td>\n      <td>0</td>\n      <td>0</td>\n      <td>0</td>\n      <td>0</td>\n      <td>0</td>\n      <td>39891</td>\n    </tr>\n  </tbody>\n</table>\n</div>"
     },
     "execution_count": 245,
     "metadata": {},
     "output_type": "execute_result"
    }
   ],
   "source": [
    "data_has_null_values(regular_season_results_df)"
   ],
   "metadata": {
    "collapsed": false
   }
  },
  {
   "cell_type": "code",
   "execution_count": 246,
   "outputs": [
    {
     "data": {
      "text/plain": "   season  slot  strongseed  weakseed\n0       0     0           0         0",
      "text/html": "<div>\n<style scoped>\n    .dataframe tbody tr th:only-of-type {\n        vertical-align: middle;\n    }\n\n    .dataframe tbody tr th {\n        vertical-align: top;\n    }\n\n    .dataframe thead th {\n        text-align: right;\n    }\n</style>\n<table border=\"1\" class=\"dataframe\">\n  <thead>\n    <tr style=\"text-align: right;\">\n      <th></th>\n      <th>season</th>\n      <th>slot</th>\n      <th>strongseed</th>\n      <th>weakseed</th>\n    </tr>\n  </thead>\n  <tbody>\n    <tr>\n      <th>0</th>\n      <td>0</td>\n      <td>0</td>\n      <td>0</td>\n      <td>0</td>\n    </tr>\n  </tbody>\n</table>\n</div>"
     },
     "execution_count": 246,
     "metadata": {},
     "output_type": "execute_result"
    }
   ],
   "source": [
    "data_has_null_values(tourney_slots_df)"
   ],
   "metadata": {
    "collapsed": false
   }
  },
  {
   "cell_type": "code",
   "execution_count": 247,
   "outputs": [
    {
     "data": {
      "text/plain": "   season  seed  team\n0       0     0     0",
      "text/html": "<div>\n<style scoped>\n    .dataframe tbody tr th:only-of-type {\n        vertical-align: middle;\n    }\n\n    .dataframe tbody tr th {\n        vertical-align: top;\n    }\n\n    .dataframe thead th {\n        text-align: right;\n    }\n</style>\n<table border=\"1\" class=\"dataframe\">\n  <thead>\n    <tr style=\"text-align: right;\">\n      <th></th>\n      <th>season</th>\n      <th>seed</th>\n      <th>team</th>\n    </tr>\n  </thead>\n  <tbody>\n    <tr>\n      <th>0</th>\n      <td>0</td>\n      <td>0</td>\n      <td>0</td>\n    </tr>\n  </tbody>\n</table>\n</div>"
     },
     "execution_count": 247,
     "metadata": {},
     "output_type": "execute_result"
    }
   ],
   "source": [
    "data_has_null_values(tourney_seeds_df)"
   ],
   "metadata": {
    "collapsed": false
   }
  },
  {
   "cell_type": "markdown",
   "source": [
    "Ispis oblika tablica"
   ],
   "metadata": {
    "collapsed": false
   }
  },
  {
   "cell_type": "code",
   "execution_count": 248,
   "outputs": [
    {
     "data": {
      "text/plain": "(91224, 8)"
     },
     "execution_count": 248,
     "metadata": {},
     "output_type": "execute_result"
    }
   ],
   "source": [
    "regular_season_results_df.shape"
   ],
   "metadata": {
    "collapsed": false
   }
  },
  {
   "cell_type": "code",
   "execution_count": 249,
   "outputs": [
    {
     "data": {
      "text/plain": "(1223, 4)"
     },
     "execution_count": 249,
     "metadata": {},
     "output_type": "execute_result"
    }
   ],
   "source": [
    "tourney_slots_df.shape"
   ],
   "metadata": {
    "collapsed": false
   }
  },
  {
   "cell_type": "code",
   "execution_count": 250,
   "outputs": [
    {
     "data": {
      "text/plain": "(1242, 3)"
     },
     "execution_count": 250,
     "metadata": {},
     "output_type": "execute_result"
    }
   ],
   "source": [
    "tourney_seeds_df.shape"
   ],
   "metadata": {
    "collapsed": false
   }
  },
  {
   "cell_type": "markdown",
   "source": [
    "Stupci tablica"
   ],
   "metadata": {
    "collapsed": false
   }
  },
  {
   "cell_type": "code",
   "execution_count": 251,
   "outputs": [
    {
     "data": {
      "text/plain": "array(['season', 'daynum', 'wteam', 'wscore', 'lteam', 'lscore', 'wloc',\n       'numot'], dtype=object)"
     },
     "execution_count": 251,
     "metadata": {},
     "output_type": "execute_result"
    }
   ],
   "source": [
    "regular_season_results_df.columns.values"
   ],
   "metadata": {
    "collapsed": false
   }
  },
  {
   "cell_type": "code",
   "execution_count": 252,
   "outputs": [
    {
     "data": {
      "text/plain": "array(['season', 'seed', 'team'], dtype=object)"
     },
     "execution_count": 252,
     "metadata": {},
     "output_type": "execute_result"
    }
   ],
   "source": [
    "tourney_seeds_df.columns.values"
   ],
   "metadata": {
    "collapsed": false
   }
  },
  {
   "cell_type": "code",
   "execution_count": 253,
   "outputs": [
    {
     "data": {
      "text/plain": "array(['season', 'slot', 'strongseed', 'weakseed'], dtype=object)"
     },
     "execution_count": 253,
     "metadata": {},
     "output_type": "execute_result"
    }
   ],
   "source": [
    "tourney_slots_df.columns.values"
   ],
   "metadata": {
    "collapsed": false
   }
  },
  {
   "cell_type": "markdown",
   "source": [
    "Opis tablica\n",
    "\n",
    "Radi se samo za regular_season_result pošto ostale tablice nemaju numeričkih vrijednosti"
   ],
   "metadata": {
    "collapsed": false
   }
  },
  {
   "cell_type": "code",
   "execution_count": 254,
   "outputs": [
    {
     "data": {
      "text/plain": "             daynum         wteam        wscore         lteam        lscore  \\\ncount  91224.000000  91224.000000  91224.000000  91224.000000  91224.000000   \nmean      73.410133    680.981058     75.370440    677.047400     63.208860   \nstd       34.210997    103.099502     11.408528    102.950054     10.940295   \nmin        0.000000    501.000000     34.000000    501.000000     20.000000   \n25%       44.000000    592.000000     68.000000    587.000000     56.000000   \n50%       75.000000    678.000000     75.000000    675.000000     63.000000   \n75%      103.000000    772.000000     83.000000    768.000000     70.000000   \nmax      133.000000    856.000000    153.000000    856.000000    140.000000   \n\n              numot  \ncount  51333.000000  \nmean       0.072000  \nstd        0.313278  \nmin        0.000000  \n25%        0.000000  \n50%        0.000000  \n75%        0.000000  \nmax        6.000000  ",
      "text/html": "<div>\n<style scoped>\n    .dataframe tbody tr th:only-of-type {\n        vertical-align: middle;\n    }\n\n    .dataframe tbody tr th {\n        vertical-align: top;\n    }\n\n    .dataframe thead th {\n        text-align: right;\n    }\n</style>\n<table border=\"1\" class=\"dataframe\">\n  <thead>\n    <tr style=\"text-align: right;\">\n      <th></th>\n      <th>daynum</th>\n      <th>wteam</th>\n      <th>wscore</th>\n      <th>lteam</th>\n      <th>lscore</th>\n      <th>numot</th>\n    </tr>\n  </thead>\n  <tbody>\n    <tr>\n      <th>count</th>\n      <td>91224.000000</td>\n      <td>91224.000000</td>\n      <td>91224.000000</td>\n      <td>91224.000000</td>\n      <td>91224.000000</td>\n      <td>51333.000000</td>\n    </tr>\n    <tr>\n      <th>mean</th>\n      <td>73.410133</td>\n      <td>680.981058</td>\n      <td>75.370440</td>\n      <td>677.047400</td>\n      <td>63.208860</td>\n      <td>0.072000</td>\n    </tr>\n    <tr>\n      <th>std</th>\n      <td>34.210997</td>\n      <td>103.099502</td>\n      <td>11.408528</td>\n      <td>102.950054</td>\n      <td>10.940295</td>\n      <td>0.313278</td>\n    </tr>\n    <tr>\n      <th>min</th>\n      <td>0.000000</td>\n      <td>501.000000</td>\n      <td>34.000000</td>\n      <td>501.000000</td>\n      <td>20.000000</td>\n      <td>0.000000</td>\n    </tr>\n    <tr>\n      <th>25%</th>\n      <td>44.000000</td>\n      <td>592.000000</td>\n      <td>68.000000</td>\n      <td>587.000000</td>\n      <td>56.000000</td>\n      <td>0.000000</td>\n    </tr>\n    <tr>\n      <th>50%</th>\n      <td>75.000000</td>\n      <td>678.000000</td>\n      <td>75.000000</td>\n      <td>675.000000</td>\n      <td>63.000000</td>\n      <td>0.000000</td>\n    </tr>\n    <tr>\n      <th>75%</th>\n      <td>103.000000</td>\n      <td>772.000000</td>\n      <td>83.000000</td>\n      <td>768.000000</td>\n      <td>70.000000</td>\n      <td>0.000000</td>\n    </tr>\n    <tr>\n      <th>max</th>\n      <td>133.000000</td>\n      <td>856.000000</td>\n      <td>153.000000</td>\n      <td>856.000000</td>\n      <td>140.000000</td>\n      <td>6.000000</td>\n    </tr>\n  </tbody>\n</table>\n</div>"
     },
     "execution_count": 254,
     "metadata": {},
     "output_type": "execute_result"
    }
   ],
   "source": [
    "regular_season_results_df.describe()"
   ],
   "metadata": {
    "collapsed": false
   }
  },
  {
   "cell_type": "markdown",
   "source": [
    "Ovdje su bitni stupci 'wscore' i 'lscore'.\n",
    "Maksimalne vrijednosti navedenih tupaca se čine malo velike, ali nisu ne realne."
   ],
   "metadata": {
    "collapsed": false
   }
  },
  {
   "cell_type": "code",
   "execution_count": 255,
   "outputs": [
    {
     "data": {
      "text/plain": "<Figure size 640x480 with 1 Axes>",
      "image/png": "[encoded data removed]"
     },
     "metadata": {},
     "output_type": "display_data"
    }
   ],
   "source": [
    "plt.boxplot(regular_season_results_df[['wscore', 'lscore']])\n",
    "plt.title('Box plot for winner score and loser score')\n",
    "plt.show()"
   ],
   "metadata": {
    "collapsed": false
   }
  },
  {
   "cell_type": "markdown",
   "source": [
    "Boxplot dijagram da postoji dosta outliera\n",
    "Granice za outliere se mogu izračunati po sljedećim formulama:\n",
    "IQR = Q3 - Q1\n",
    "lower_limit = Q1 - 1.5IQR\n",
    "upper_limit = Q3 + 1.5IQR\n",
    "\n",
    "Vrijednosti Q1 i Q3 se mogu isčitati iz opisa tablice"
   ],
   "metadata": {
    "collapsed": false
   }
  },
  {
   "cell_type": "code",
   "execution_count": 256,
   "outputs": [
    {
     "name": "stdout",
     "output_type": "stream",
     "text": [
      "WIQR = 15.0, winner_lower_limit = 45.5, winner_upper_limit = 105.5\n"
     ]
    }
   ],
   "source": [
    "WQ1 = 68.000000\n",
    "WQ3 = 83.000000\n",
    "\n",
    "WIQR = WQ3 - WQ1\n",
    "\n",
    "winner_lower_limit = WQ1 - 1.5 * WIQR\n",
    "winner_upper_limit = WQ3 + 1.5 * WIQR\n",
    "\n",
    "print(f'{WIQR = }, {winner_lower_limit = }, {winner_upper_limit = }')"
   ],
   "metadata": {
    "collapsed": false
   }
  },
  {
   "cell_type": "code",
   "execution_count": 257,
   "outputs": [
    {
     "name": "stdout",
     "output_type": "stream",
     "text": [
      "LIQR = 15.0, loser_lower_limit = 33.5, loser_upper_limit = 92.5\n"
     ]
    }
   ],
   "source": [
    "LQ1 = 56.000000\n",
    "LQ3 = 70.000000\n",
    "\n",
    "LIQR = WQ3 - WQ1\n",
    "\n",
    "loser_lower_limit = LQ1 - 1.5 * LIQR\n",
    "loser_upper_limit = LQ3 + 1.5 * LIQR\n",
    "\n",
    "print(f'{LIQR = }, {loser_lower_limit = }, {loser_upper_limit = }')"
   ],
   "metadata": {
    "collapsed": false
   }
  },
  {
   "cell_type": "markdown",
   "source": [
    "S ovim granicama znamo koje podatke možemo odbaciti"
   ],
   "metadata": {
    "collapsed": false
   }
  },
  {
   "cell_type": "code",
   "execution_count": 258,
   "outputs": [
    {
     "name": "stdout",
     "output_type": "stream",
     "text": [
      "winner_lower_count = 157, winner_upper_count = 864\n"
     ]
    }
   ],
   "source": [
    "winner_lower_count = len(regular_season_results_df.loc[regular_season_results_df['wscore'] < winner_lower_limit])\n",
    "winner_upper_count = len(regular_season_results_df.loc[regular_season_results_df['wscore'] > winner_upper_limit])\n",
    "\n",
    "print(f'{winner_lower_count = }, {winner_upper_count = }')"
   ],
   "metadata": {
    "collapsed": false
   }
  },
  {
   "cell_type": "code",
   "execution_count": 259,
   "outputs": [
    {
     "name": "stdout",
     "output_type": "stream",
     "text": [
      "loser_lower_count = 145, loser_upper_count = 668\n"
     ]
    }
   ],
   "source": [
    "loser_lower_count = len(regular_season_results_df.loc[regular_season_results_df['lscore'] < loser_lower_limit])\n",
    "loser_upper_count = len(regular_season_results_df.loc[regular_season_results_df['lscore'] > loser_upper_limit])\n",
    "\n",
    "print(f'{loser_lower_count = }, {loser_upper_count = }')"
   ],
   "metadata": {
    "collapsed": false
   }
  },
  {
   "cell_type": "code",
   "execution_count": 260,
   "outputs": [
    {
     "name": "stdout",
     "output_type": "stream",
     "text": [
      "Percentage of data removed: 0.9043672717705866 %\n"
     ]
    }
   ],
   "source": [
    "print('Percentage of data removed:', (loser_upper_count + winner_lower_count) / len(regular_season_results_df) * 100, '%')"
   ],
   "metadata": {
    "collapsed": false
   }
  },
  {
   "cell_type": "markdown",
   "source": [
    "Odbacivanjem podataka bi se izgubilo manje od 1% podataka."
   ],
   "metadata": {
    "collapsed": false
   }
  },
  {
   "cell_type": "code",
   "execution_count": 261,
   "outputs": [],
   "source": [
    "regular_season_results_df = regular_season_results_df.loc[regular_season_results_df['lscore'] <= loser_upper_limit]\n",
    "regular_season_results_df: pd.DataFrame = regular_season_results_df.loc[regular_season_results_df['wscore'] >= winner_lower_limit]"
   ],
   "metadata": {
    "collapsed": false
   }
  },
  {
   "cell_type": "code",
   "execution_count": 262,
   "outputs": [
    {
     "data": {
      "text/plain": "      season  daynum  wteam  wscore  lteam  lscore wloc  numot\n0          A      16    511      91    647      57    H    NaN\n1          A      16    515      75    812      67    H    NaN\n2          A      16    606      87    658      67    H    NaN\n3          A      16    670      73    573      65    H    NaN\n4          A      16    721      99    632      68    H    NaN\n...      ...     ...    ...     ...    ...     ...  ...    ...\n91219      S     132    592      61    640      60    N    0.0\n91220      S     132    671      69    670      55    N    0.0\n91221      S     132    779      65    825      61    N    0.0\n91222      S     132    811      82    605      81    N    1.0\n91223      S     132    830      72    577      63    N    0.0\n\n[90399 rows x 8 columns]",
      "text/html": "<div>\n<style scoped>\n    .dataframe tbody tr th:only-of-type {\n        vertical-align: middle;\n    }\n\n    .dataframe tbody tr th {\n        vertical-align: top;\n    }\n\n    .dataframe thead th {\n        text-align: right;\n    }\n</style>\n<table border=\"1\" class=\"dataframe\">\n  <thead>\n    <tr style=\"text-align: right;\">\n      <th></th>\n      <th>season</th>\n      <th>daynum</th>\n      <th>wteam</th>\n      <th>wscore</th>\n      <th>lteam</th>\n      <th>lscore</th>\n      <th>wloc</th>\n      <th>numot</th>\n    </tr>\n  </thead>\n  <tbody>\n    <tr>\n      <th>0</th>\n      <td>A</td>\n      <td>16</td>\n      <td>511</td>\n      <td>91</td>\n      <td>647</td>\n      <td>57</td>\n      <td>H</td>\n      <td>NaN</td>\n    </tr>\n    <tr>\n      <th>1</th>\n      <td>A</td>\n      <td>16</td>\n      <td>515</td>\n      <td>75</td>\n      <td>812</td>\n      <td>67</td>\n      <td>H</td>\n      <td>NaN</td>\n    </tr>\n    <tr>\n      <th>2</th>\n      <td>A</td>\n      <td>16</td>\n      <td>606</td>\n      <td>87</td>\n      <td>658</td>\n      <td>67</td>\n      <td>H</td>\n      <td>NaN</td>\n    </tr>\n    <tr>\n      <th>3</th>\n      <td>A</td>\n      <td>16</td>\n      <td>670</td>\n      <td>73</td>\n      <td>573</td>\n      <td>65</td>\n      <td>H</td>\n      <td>NaN</td>\n    </tr>\n    <tr>\n      <th>4</th>\n      <td>A</td>\n      <td>16</td>\n      <td>721</td>\n      <td>99</td>\n      <td>632</td>\n      <td>68</td>\n      <td>H</td>\n      <td>NaN</td>\n    </tr>\n    <tr>\n      <th>...</th>\n      <td>...</td>\n      <td>...</td>\n      <td>...</td>\n      <td>...</td>\n      <td>...</td>\n      <td>...</td>\n      <td>...</td>\n      <td>...</td>\n    </tr>\n    <tr>\n      <th>91219</th>\n      <td>S</td>\n      <td>132</td>\n      <td>592</td>\n      <td>61</td>\n      <td>640</td>\n      <td>60</td>\n      <td>N</td>\n      <td>0.0</td>\n    </tr>\n    <tr>\n      <th>91220</th>\n      <td>S</td>\n      <td>132</td>\n      <td>671</td>\n      <td>69</td>\n      <td>670</td>\n      <td>55</td>\n      <td>N</td>\n      <td>0.0</td>\n    </tr>\n    <tr>\n      <th>91221</th>\n      <td>S</td>\n      <td>132</td>\n      <td>779</td>\n      <td>65</td>\n      <td>825</td>\n      <td>61</td>\n      <td>N</td>\n      <td>0.0</td>\n    </tr>\n    <tr>\n      <th>91222</th>\n      <td>S</td>\n      <td>132</td>\n      <td>811</td>\n      <td>82</td>\n      <td>605</td>\n      <td>81</td>\n      <td>N</td>\n      <td>1.0</td>\n    </tr>\n    <tr>\n      <th>91223</th>\n      <td>S</td>\n      <td>132</td>\n      <td>830</td>\n      <td>72</td>\n      <td>577</td>\n      <td>63</td>\n      <td>N</td>\n      <td>0.0</td>\n    </tr>\n  </tbody>\n</table>\n<p>90399 rows × 8 columns</p>\n</div>"
     },
     "execution_count": 262,
     "metadata": {},
     "output_type": "execute_result"
    }
   ],
   "source": [
    "regular_season_results_df"
   ],
   "metadata": {
    "collapsed": false
   }
  },
  {
   "cell_type": "markdown",
   "source": [
    "Indikacija monotonosti"
   ],
   "metadata": {
    "collapsed": false
   }
  },
  {
   "cell_type": "code",
   "execution_count": 263,
   "outputs": [
    {
     "data": {
      "text/plain": "season     19\ndaynum    134\nwteam     356\nwscore     94\nlteam     356\nlscore     73\nwloc        3\nnumot       5\ndtype: int64"
     },
     "execution_count": 263,
     "metadata": {},
     "output_type": "execute_result"
    }
   ],
   "source": [
    "regular_season_results_df.nunique()"
   ],
   "metadata": {
    "collapsed": false
   }
  },
  {
   "cell_type": "markdown",
   "source": [
    "nunique ne indicira da postoje monotone vrijednosti"
   ],
   "metadata": {
    "collapsed": false
   }
  },
  {
   "cell_type": "markdown",
   "source": [
    "Prosiječni rezultat pobjedničkog time"
   ],
   "metadata": {
    "collapsed": false
   }
  },
  {
   "cell_type": "code",
   "execution_count": 264,
   "outputs": [
    {
     "data": {
      "text/plain": "          wscore\nwteam           \n501    80.000000\n502    68.800000\n503    75.317901\n504    75.223529\n505    75.871345\n...          ...\n852    75.258065\n853    77.926829\n854    72.100000\n855    72.516304\n856    78.222222\n\n[356 rows x 1 columns]",
      "text/html": "<div>\n<style scoped>\n    .dataframe tbody tr th:only-of-type {\n        vertical-align: middle;\n    }\n\n    .dataframe tbody tr th {\n        vertical-align: top;\n    }\n\n    .dataframe thead th {\n        text-align: right;\n    }\n</style>\n<table border=\"1\" class=\"dataframe\">\n  <thead>\n    <tr style=\"text-align: right;\">\n      <th></th>\n      <th>wscore</th>\n    </tr>\n    <tr>\n      <th>wteam</th>\n      <th></th>\n    </tr>\n  </thead>\n  <tbody>\n    <tr>\n      <th>501</th>\n      <td>80.000000</td>\n    </tr>\n    <tr>\n      <th>502</th>\n      <td>68.800000</td>\n    </tr>\n    <tr>\n      <th>503</th>\n      <td>75.317901</td>\n    </tr>\n    <tr>\n      <th>504</th>\n      <td>75.223529</td>\n    </tr>\n    <tr>\n      <th>505</th>\n      <td>75.871345</td>\n    </tr>\n    <tr>\n      <th>...</th>\n      <td>...</td>\n    </tr>\n    <tr>\n      <th>852</th>\n      <td>75.258065</td>\n    </tr>\n    <tr>\n      <th>853</th>\n      <td>77.926829</td>\n    </tr>\n    <tr>\n      <th>854</th>\n      <td>72.100000</td>\n    </tr>\n    <tr>\n      <th>855</th>\n      <td>72.516304</td>\n    </tr>\n    <tr>\n      <th>856</th>\n      <td>78.222222</td>\n    </tr>\n  </tbody>\n</table>\n<p>356 rows × 1 columns</p>\n</div>"
     },
     "execution_count": 264,
     "metadata": {},
     "output_type": "execute_result"
    }
   ],
   "source": [
    "df = regular_season_results_df[['wteam', 'wscore']].groupby('wteam').mean()\n",
    "df"
   ],
   "metadata": {
    "collapsed": false
   }
  },
  {
   "cell_type": "code",
   "execution_count": 265,
   "outputs": [
    {
     "data": {
      "text/plain": "<Figure size 640x480 with 1 Axes>",
      "image/png": "[encoded data removed]"
     },
     "metadata": {},
     "output_type": "display_data"
    }
   ],
   "source": [
    "plt.hist(df)\n",
    "plt.show()"
   ],
   "metadata": {
    "collapsed": false
   }
  },
  {
   "cell_type": "code",
   "execution_count": 266,
   "outputs": [
    {
     "data": {
      "text/plain": "       wscore\nwteam        \n501      80.0\n502      68.0\n503      75.0\n504      75.0\n505      74.0\n...       ...\n852      75.0\n853      77.0\n854      72.0\n855      72.5\n856      80.0\n\n[356 rows x 1 columns]",
      "text/html": "<div>\n<style scoped>\n    .dataframe tbody tr th:only-of-type {\n        vertical-align: middle;\n    }\n\n    .dataframe tbody tr th {\n        vertical-align: top;\n    }\n\n    .dataframe thead th {\n        text-align: right;\n    }\n</style>\n<table border=\"1\" class=\"dataframe\">\n  <thead>\n    <tr style=\"text-align: right;\">\n      <th></th>\n      <th>wscore</th>\n    </tr>\n    <tr>\n      <th>wteam</th>\n      <th></th>\n    </tr>\n  </thead>\n  <tbody>\n    <tr>\n      <th>501</th>\n      <td>80.0</td>\n    </tr>\n    <tr>\n      <th>502</th>\n      <td>68.0</td>\n    </tr>\n    <tr>\n      <th>503</th>\n      <td>75.0</td>\n    </tr>\n    <tr>\n      <th>504</th>\n      <td>75.0</td>\n    </tr>\n    <tr>\n      <th>505</th>\n      <td>74.0</td>\n    </tr>\n    <tr>\n      <th>...</th>\n      <td>...</td>\n    </tr>\n    <tr>\n      <th>852</th>\n      <td>75.0</td>\n    </tr>\n    <tr>\n      <th>853</th>\n      <td>77.0</td>\n    </tr>\n    <tr>\n      <th>854</th>\n      <td>72.0</td>\n    </tr>\n    <tr>\n      <th>855</th>\n      <td>72.5</td>\n    </tr>\n    <tr>\n      <th>856</th>\n      <td>80.0</td>\n    </tr>\n  </tbody>\n</table>\n<p>356 rows × 1 columns</p>\n</div>"
     },
     "execution_count": 266,
     "metadata": {},
     "output_type": "execute_result"
    }
   ],
   "source": [
    "df = regular_season_results_df[['wteam', 'wscore']].groupby('wteam').median()\n",
    "df"
   ],
   "metadata": {
    "collapsed": false
   }
  },
  {
   "cell_type": "code",
   "execution_count": 267,
   "outputs": [
    {
     "data": {
      "text/plain": "<Figure size 640x480 with 1 Axes>",
      "image/png": "[encoded data removed]"
     },
     "metadata": {},
     "output_type": "display_data"
    }
   ],
   "source": [
    "plt.hist(df)\n",
    "plt.show()"
   ],
   "metadata": {
    "collapsed": false
   }
  },
  {
   "cell_type": "markdown",
   "source": [
    "Prosiječni rezultat gubitničkog time"
   ],
   "metadata": {
    "collapsed": false
   }
  },
  {
   "cell_type": "code",
   "execution_count": 268,
   "outputs": [
    {
     "data": {
      "text/plain": "          lscore\nlteam           \n501    61.368421\n502    58.215017\n503    64.692308\n504    63.708861\n505    62.220408\n...          ...\n852    64.324324\n853    65.432749\n854    60.342657\n855    62.695522\n856    74.666667\n\n[356 rows x 1 columns]",
      "text/html": "<div>\n<style scoped>\n    .dataframe tbody tr th:only-of-type {\n        vertical-align: middle;\n    }\n\n    .dataframe tbody tr th {\n        vertical-align: top;\n    }\n\n    .dataframe thead th {\n        text-align: right;\n    }\n</style>\n<table border=\"1\" class=\"dataframe\">\n  <thead>\n    <tr style=\"text-align: right;\">\n      <th></th>\n      <th>lscore</th>\n    </tr>\n    <tr>\n      <th>lteam</th>\n      <th></th>\n    </tr>\n  </thead>\n  <tbody>\n    <tr>\n      <th>501</th>\n      <td>61.368421</td>\n    </tr>\n    <tr>\n      <th>502</th>\n      <td>58.215017</td>\n    </tr>\n    <tr>\n      <th>503</th>\n      <td>64.692308</td>\n    </tr>\n    <tr>\n      <th>504</th>\n      <td>63.708861</td>\n    </tr>\n    <tr>\n      <th>505</th>\n      <td>62.220408</td>\n    </tr>\n    <tr>\n      <th>...</th>\n      <td>...</td>\n    </tr>\n    <tr>\n      <th>852</th>\n      <td>64.324324</td>\n    </tr>\n    <tr>\n      <th>853</th>\n      <td>65.432749</td>\n    </tr>\n    <tr>\n      <th>854</th>\n      <td>60.342657</td>\n    </tr>\n    <tr>\n      <th>855</th>\n      <td>62.695522</td>\n    </tr>\n    <tr>\n      <th>856</th>\n      <td>74.666667</td>\n    </tr>\n  </tbody>\n</table>\n<p>356 rows × 1 columns</p>\n</div>"
     },
     "execution_count": 268,
     "metadata": {},
     "output_type": "execute_result"
    }
   ],
   "source": [
    "df = regular_season_results_df[['lteam', 'lscore']].groupby('lteam').mean()\n",
    "df"
   ],
   "metadata": {
    "collapsed": false
   }
  },
  {
   "cell_type": "code",
   "execution_count": 269,
   "outputs": [
    {
     "data": {
      "text/plain": "<Figure size 640x480 with 1 Axes>",
      "image/png": "[encoded data removed]"
     },
     "metadata": {},
     "output_type": "display_data"
    }
   ],
   "source": [
    "plt.hist(df)\n",
    "plt.show()"
   ],
   "metadata": {
    "collapsed": false
   }
  },
  {
   "cell_type": "code",
   "execution_count": 270,
   "outputs": [
    {
     "data": {
      "text/plain": "       lscore\nlteam        \n501      60.0\n502      58.0\n503      63.0\n504      63.0\n505      62.0\n...       ...\n852      65.0\n853      65.0\n854      60.0\n855      61.0\n856      73.0\n\n[356 rows x 1 columns]",
      "text/html": "<div>\n<style scoped>\n    .dataframe tbody tr th:only-of-type {\n        vertical-align: middle;\n    }\n\n    .dataframe tbody tr th {\n        vertical-align: top;\n    }\n\n    .dataframe thead th {\n        text-align: right;\n    }\n</style>\n<table border=\"1\" class=\"dataframe\">\n  <thead>\n    <tr style=\"text-align: right;\">\n      <th></th>\n      <th>lscore</th>\n    </tr>\n    <tr>\n      <th>lteam</th>\n      <th></th>\n    </tr>\n  </thead>\n  <tbody>\n    <tr>\n      <th>501</th>\n      <td>60.0</td>\n    </tr>\n    <tr>\n      <th>502</th>\n      <td>58.0</td>\n    </tr>\n    <tr>\n      <th>503</th>\n      <td>63.0</td>\n    </tr>\n    <tr>\n      <th>504</th>\n      <td>63.0</td>\n    </tr>\n    <tr>\n      <th>505</th>\n      <td>62.0</td>\n    </tr>\n    <tr>\n      <th>...</th>\n      <td>...</td>\n    </tr>\n    <tr>\n      <th>852</th>\n      <td>65.0</td>\n    </tr>\n    <tr>\n      <th>853</th>\n      <td>65.0</td>\n    </tr>\n    <tr>\n      <th>854</th>\n      <td>60.0</td>\n    </tr>\n    <tr>\n      <th>855</th>\n      <td>61.0</td>\n    </tr>\n    <tr>\n      <th>856</th>\n      <td>73.0</td>\n    </tr>\n  </tbody>\n</table>\n<p>356 rows × 1 columns</p>\n</div>"
     },
     "execution_count": 270,
     "metadata": {},
     "output_type": "execute_result"
    }
   ],
   "source": [
    "df = regular_season_results_df[['lteam', 'lscore']].groupby('lteam').median()\n",
    "df"
   ],
   "metadata": {
    "collapsed": false
   }
  },
  {
   "cell_type": "code",
   "execution_count": 271,
   "outputs": [
    {
     "data": {
      "text/plain": "<Figure size 640x480 with 1 Axes>",
      "image/png": "[encoded data removed]"
     },
     "metadata": {},
     "output_type": "display_data"
    }
   ],
   "source": [
    "plt.hist(df)\n",
    "plt.show()"
   ],
   "metadata": {
    "collapsed": false
   }
  },
  {
   "cell_type": "code",
   "execution_count": 272,
   "outputs": [
    {
     "data": {
      "text/plain": "           wscore     lscore\nseason                      \nA       77.785574  65.276465\nB       76.224387  63.611833\nC       76.997622  64.242806\nD       76.065026  63.402694\nE       76.157883  63.659773\nF       76.994250  64.596860\nG       76.787165  64.304883\nH       75.640472  63.547697\nI       74.863907  62.838141\nJ       74.566997  62.451099\nK       74.541102  62.563347\nL       74.622717  62.466386\nM       74.785854  62.513482\nN       73.878578  61.769645\nO       74.480928  62.258386\nP       74.275082  62.323039\nQ       73.324324  61.305348\nR       72.861742  60.870076\nS       75.844080  64.124434",
      "text/html": "<div>\n<style scoped>\n    .dataframe tbody tr th:only-of-type {\n        vertical-align: middle;\n    }\n\n    .dataframe tbody tr th {\n        vertical-align: top;\n    }\n\n    .dataframe thead th {\n        text-align: right;\n    }\n</style>\n<table border=\"1\" class=\"dataframe\">\n  <thead>\n    <tr style=\"text-align: right;\">\n      <th></th>\n      <th>wscore</th>\n      <th>lscore</th>\n    </tr>\n    <tr>\n      <th>season</th>\n      <th></th>\n      <th></th>\n    </tr>\n  </thead>\n  <tbody>\n    <tr>\n      <th>A</th>\n      <td>77.785574</td>\n      <td>65.276465</td>\n    </tr>\n    <tr>\n      <th>B</th>\n      <td>76.224387</td>\n      <td>63.611833</td>\n    </tr>\n    <tr>\n      <th>C</th>\n      <td>76.997622</td>\n      <td>64.242806</td>\n    </tr>\n    <tr>\n      <th>D</th>\n      <td>76.065026</td>\n      <td>63.402694</td>\n    </tr>\n    <tr>\n      <th>E</th>\n      <td>76.157883</td>\n      <td>63.659773</td>\n    </tr>\n    <tr>\n      <th>F</th>\n      <td>76.994250</td>\n      <td>64.596860</td>\n    </tr>\n    <tr>\n      <th>G</th>\n      <td>76.787165</td>\n      <td>64.304883</td>\n    </tr>\n    <tr>\n      <th>H</th>\n      <td>75.640472</td>\n      <td>63.547697</td>\n    </tr>\n    <tr>\n      <th>I</th>\n      <td>74.863907</td>\n      <td>62.838141</td>\n    </tr>\n    <tr>\n      <th>J</th>\n      <td>74.566997</td>\n      <td>62.451099</td>\n    </tr>\n    <tr>\n      <th>K</th>\n      <td>74.541102</td>\n      <td>62.563347</td>\n    </tr>\n    <tr>\n      <th>L</th>\n      <td>74.622717</td>\n      <td>62.466386</td>\n    </tr>\n    <tr>\n      <th>M</th>\n      <td>74.785854</td>\n      <td>62.513482</td>\n    </tr>\n    <tr>\n      <th>N</th>\n      <td>73.878578</td>\n      <td>61.769645</td>\n    </tr>\n    <tr>\n      <th>O</th>\n      <td>74.480928</td>\n      <td>62.258386</td>\n    </tr>\n    <tr>\n      <th>P</th>\n      <td>74.275082</td>\n      <td>62.323039</td>\n    </tr>\n    <tr>\n      <th>Q</th>\n      <td>73.324324</td>\n      <td>61.305348</td>\n    </tr>\n    <tr>\n      <th>R</th>\n      <td>72.861742</td>\n      <td>60.870076</td>\n    </tr>\n    <tr>\n      <th>S</th>\n      <td>75.844080</td>\n      <td>64.124434</td>\n    </tr>\n  </tbody>\n</table>\n</div>"
     },
     "execution_count": 272,
     "metadata": {},
     "output_type": "execute_result"
    }
   ],
   "source": [
    "df = regular_season_results_df[['season', 'wscore', 'lscore']].groupby('season').mean()\n",
    "df"
   ],
   "metadata": {
    "collapsed": false
   }
  },
  {
   "cell_type": "code",
   "execution_count": 273,
   "outputs": [
    {
     "data": {
      "text/plain": "<Figure size 640x480 with 1 Axes>",
      "image/png": "[encoded data removed]"
     },
     "metadata": {},
     "output_type": "display_data"
    }
   ],
   "source": [
    "plt.hist2d(df['wscore'], df['lscore'])\n",
    "plt.show()"
   ],
   "metadata": {
    "collapsed": false
   }
  },
  {
   "cell_type": "code",
   "execution_count": 274,
   "outputs": [
    {
     "data": {
      "text/plain": "        wscore  lscore\nseason                \nA         77.0    65.0\nB         76.0    63.0\nC         76.0    64.0\nD         75.0    63.0\nE         76.0    63.0\nF         77.0    64.0\nG         76.0    64.0\nH         75.0    63.0\nI         75.0    63.0\nJ         74.0    62.0\nK         74.0    62.0\nL         74.0    62.0\nM         74.0    62.0\nN         73.0    62.0\nO         74.0    62.0\nP         74.0    62.0\nQ         73.0    61.0\nR         72.0    61.0\nS         75.0    64.0",
      "text/html": "<div>\n<style scoped>\n    .dataframe tbody tr th:only-of-type {\n        vertical-align: middle;\n    }\n\n    .dataframe tbody tr th {\n        vertical-align: top;\n    }\n\n    .dataframe thead th {\n        text-align: right;\n    }\n</style>\n<table border=\"1\" class=\"dataframe\">\n  <thead>\n    <tr style=\"text-align: right;\">\n      <th></th>\n      <th>wscore</th>\n      <th>lscore</th>\n    </tr>\n    <tr>\n      <th>season</th>\n      <th></th>\n      <th></th>\n    </tr>\n  </thead>\n  <tbody>\n    <tr>\n      <th>A</th>\n      <td>77.0</td>\n      <td>65.0</td>\n    </tr>\n    <tr>\n      <th>B</th>\n      <td>76.0</td>\n      <td>63.0</td>\n    </tr>\n    <tr>\n      <th>C</th>\n      <td>76.0</td>\n      <td>64.0</td>\n    </tr>\n    <tr>\n      <th>D</th>\n      <td>75.0</td>\n      <td>63.0</td>\n    </tr>\n    <tr>\n      <th>E</th>\n      <td>76.0</td>\n      <td>63.0</td>\n    </tr>\n    <tr>\n      <th>F</th>\n      <td>77.0</td>\n      <td>64.0</td>\n    </tr>\n    <tr>\n      <th>G</th>\n      <td>76.0</td>\n      <td>64.0</td>\n    </tr>\n    <tr>\n      <th>H</th>\n      <td>75.0</td>\n      <td>63.0</td>\n    </tr>\n    <tr>\n      <th>I</th>\n      <td>75.0</td>\n      <td>63.0</td>\n    </tr>\n    <tr>\n      <th>J</th>\n      <td>74.0</td>\n      <td>62.0</td>\n    </tr>\n    <tr>\n      <th>K</th>\n      <td>74.0</td>\n      <td>62.0</td>\n    </tr>\n    <tr>\n      <th>L</th>\n      <td>74.0</td>\n      <td>62.0</td>\n    </tr>\n    <tr>\n      <th>M</th>\n      <td>74.0</td>\n      <td>62.0</td>\n    </tr>\n    <tr>\n      <th>N</th>\n      <td>73.0</td>\n      <td>62.0</td>\n    </tr>\n    <tr>\n      <th>O</th>\n      <td>74.0</td>\n      <td>62.0</td>\n    </tr>\n    <tr>\n      <th>P</th>\n      <td>74.0</td>\n      <td>62.0</td>\n    </tr>\n    <tr>\n      <th>Q</th>\n      <td>73.0</td>\n      <td>61.0</td>\n    </tr>\n    <tr>\n      <th>R</th>\n      <td>72.0</td>\n      <td>61.0</td>\n    </tr>\n    <tr>\n      <th>S</th>\n      <td>75.0</td>\n      <td>64.0</td>\n    </tr>\n  </tbody>\n</table>\n</div>"
     },
     "execution_count": 274,
     "metadata": {},
     "output_type": "execute_result"
    }
   ],
   "source": [
    "df = regular_season_results_df[['season', 'wscore', 'lscore']].groupby('season').median()\n",
    "df"
   ],
   "metadata": {
    "collapsed": false
   }
  },
  {
   "cell_type": "code",
   "execution_count": 275,
   "outputs": [
    {
     "data": {
      "text/plain": "<Figure size 640x480 with 1 Axes>",
      "image/png": "[encoded data removed]"
     },
     "metadata": {},
     "output_type": "display_data"
    }
   ],
   "source": [
    "plt.hist2d(df['wscore'], df['lscore'])\n",
    "plt.show()"
   ],
   "metadata": {
    "collapsed": false
   }
  },
  {
   "cell_type": "markdown",
   "source": [
    "Razlika bodova između pobjedničkog i gubitničkog tima"
   ],
   "metadata": {
    "collapsed": false
   }
  },
  {
   "cell_type": "code",
   "execution_count": 276,
   "outputs": [
    {
     "name": "stderr",
     "output_type": "stream",
     "text": [
      "C:\\Users\\ivand\\AppData\\Local\\Temp\\ipykernel_8720\\3544837593.py:2: SettingWithCopyWarning: \n",
      "A value is trying to be set on a copy of a slice from a DataFrame.\n",
      "Try using .loc[row_indexer,col_indexer] = value instead\n",
      "\n",
      "See the caveats in the documentation: https://pandas.pydata.org/pandas-docs/stable/user_guide/indexing.html#returning-a-view-versus-a-copy\n",
      "  tmp_df['score_difference'] = tmp_df['wscore'] - tmp_df['lscore']\n"
     ]
    },
    {
     "data": {
      "text/plain": "      season  score_difference\n0          A                34\n1          A                 8\n2          A                20\n3          A                 8\n4          A                31\n...      ...               ...\n91219      S                 1\n91220      S                14\n91221      S                 4\n91222      S                 1\n91223      S                 9\n\n[90399 rows x 2 columns]",
      "text/html": "<div>\n<style scoped>\n    .dataframe tbody tr th:only-of-type {\n        vertical-align: middle;\n    }\n\n    .dataframe tbody tr th {\n        vertical-align: top;\n    }\n\n    .dataframe thead th {\n        text-align: right;\n    }\n</style>\n<table border=\"1\" class=\"dataframe\">\n  <thead>\n    <tr style=\"text-align: right;\">\n      <th></th>\n      <th>season</th>\n      <th>score_difference</th>\n    </tr>\n  </thead>\n  <tbody>\n    <tr>\n      <th>0</th>\n      <td>A</td>\n      <td>34</td>\n    </tr>\n    <tr>\n      <th>1</th>\n      <td>A</td>\n      <td>8</td>\n    </tr>\n    <tr>\n      <th>2</th>\n      <td>A</td>\n      <td>20</td>\n    </tr>\n    <tr>\n      <th>3</th>\n      <td>A</td>\n      <td>8</td>\n    </tr>\n    <tr>\n      <th>4</th>\n      <td>A</td>\n      <td>31</td>\n    </tr>\n    <tr>\n      <th>...</th>\n      <td>...</td>\n      <td>...</td>\n    </tr>\n    <tr>\n      <th>91219</th>\n      <td>S</td>\n      <td>1</td>\n    </tr>\n    <tr>\n      <th>91220</th>\n      <td>S</td>\n      <td>14</td>\n    </tr>\n    <tr>\n      <th>91221</th>\n      <td>S</td>\n      <td>4</td>\n    </tr>\n    <tr>\n      <th>91222</th>\n      <td>S</td>\n      <td>1</td>\n    </tr>\n    <tr>\n      <th>91223</th>\n      <td>S</td>\n      <td>9</td>\n    </tr>\n  </tbody>\n</table>\n<p>90399 rows × 2 columns</p>\n</div>"
     },
     "execution_count": 276,
     "metadata": {},
     "output_type": "execute_result"
    }
   ],
   "source": [
    "tmp_df = regular_season_results_df[['season', 'wscore', 'lscore']]\n",
    "tmp_df['score_difference'] = tmp_df['wscore'] - tmp_df['lscore']\n",
    "tmp_df = tmp_df[['season', 'score_difference']]\n",
    "tmp_df"
   ],
   "metadata": {
    "collapsed": false
   }
  },
  {
   "cell_type": "code",
   "execution_count": 277,
   "outputs": [
    {
     "data": {
      "text/plain": "<Figure size 640x480 with 1 Axes>",
      "image/png": "[encoded data removed]"
     },
     "metadata": {},
     "output_type": "display_data"
    }
   ],
   "source": [
    "plt.hist(tmp_df['score_difference'])\n",
    "plt.show()"
   ],
   "metadata": {
    "collapsed": false
   }
  },
  {
   "cell_type": "code",
   "execution_count": 278,
   "outputs": [
    {
     "data": {
      "text/plain": "        score_difference\nseason                  \nA              12.509109\nB              12.612554\nC              12.754816\nD              12.662332\nE              12.498110\nF              12.397391\nG              12.482282\nH              12.092775\nI              12.025765\nJ              12.115898\nK              11.977754\nL              12.156332\nM              12.272372\nN              12.108934\nO              12.222542\nP              11.952043\nQ              12.018976\nR              11.991667\nS              11.719646",
      "text/html": "<div>\n<style scoped>\n    .dataframe tbody tr th:only-of-type {\n        vertical-align: middle;\n    }\n\n    .dataframe tbody tr th {\n        vertical-align: top;\n    }\n\n    .dataframe thead th {\n        text-align: right;\n    }\n</style>\n<table border=\"1\" class=\"dataframe\">\n  <thead>\n    <tr style=\"text-align: right;\">\n      <th></th>\n      <th>score_difference</th>\n    </tr>\n    <tr>\n      <th>season</th>\n      <th></th>\n    </tr>\n  </thead>\n  <tbody>\n    <tr>\n      <th>A</th>\n      <td>12.509109</td>\n    </tr>\n    <tr>\n      <th>B</th>\n      <td>12.612554</td>\n    </tr>\n    <tr>\n      <th>C</th>\n      <td>12.754816</td>\n    </tr>\n    <tr>\n      <th>D</th>\n      <td>12.662332</td>\n    </tr>\n    <tr>\n      <th>E</th>\n      <td>12.498110</td>\n    </tr>\n    <tr>\n      <th>F</th>\n      <td>12.397391</td>\n    </tr>\n    <tr>\n      <th>G</th>\n      <td>12.482282</td>\n    </tr>\n    <tr>\n      <th>H</th>\n      <td>12.092775</td>\n    </tr>\n    <tr>\n      <th>I</th>\n      <td>12.025765</td>\n    </tr>\n    <tr>\n      <th>J</th>\n      <td>12.115898</td>\n    </tr>\n    <tr>\n      <th>K</th>\n      <td>11.977754</td>\n    </tr>\n    <tr>\n      <th>L</th>\n      <td>12.156332</td>\n    </tr>\n    <tr>\n      <th>M</th>\n      <td>12.272372</td>\n    </tr>\n    <tr>\n      <th>N</th>\n      <td>12.108934</td>\n    </tr>\n    <tr>\n      <th>O</th>\n      <td>12.222542</td>\n    </tr>\n    <tr>\n      <th>P</th>\n      <td>11.952043</td>\n    </tr>\n    <tr>\n      <th>Q</th>\n      <td>12.018976</td>\n    </tr>\n    <tr>\n      <th>R</th>\n      <td>11.991667</td>\n    </tr>\n    <tr>\n      <th>S</th>\n      <td>11.719646</td>\n    </tr>\n  </tbody>\n</table>\n</div>"
     },
     "execution_count": 278,
     "metadata": {},
     "output_type": "execute_result"
    }
   ],
   "source": [
    "df = tmp_df.groupby('season').mean()\n",
    "df"
   ],
   "metadata": {
    "collapsed": false
   }
  },
  {
   "cell_type": "code",
   "execution_count": 279,
   "outputs": [
    {
     "data": {
      "text/plain": "<Figure size 640x480 with 1 Axes>",
      "image/png": "[encoded data removed]"
     },
     "metadata": {},
     "output_type": "display_data"
    }
   ],
   "source": [
    "plt.hist(df)\n",
    "plt.show()"
   ],
   "metadata": {
    "collapsed": false
   }
  },
  {
   "cell_type": "code",
   "execution_count": 280,
   "outputs": [
    {
     "data": {
      "text/plain": "        score_difference\nseason                  \nA                   11.0\nB                   11.0\nC                   11.0\nD                   11.0\nE                   10.0\nF                   10.0\nG                   10.0\nH                   10.0\nI                   10.0\nJ                   10.0\nK                   10.0\nL                   10.0\nM                   10.0\nN                   10.0\nO                   10.0\nP                   10.0\nQ                   10.0\nR                   10.0\nS                   10.0",
      "text/html": "<div>\n<style scoped>\n    .dataframe tbody tr th:only-of-type {\n        vertical-align: middle;\n    }\n\n    .dataframe tbody tr th {\n        vertical-align: top;\n    }\n\n    .dataframe thead th {\n        text-align: right;\n    }\n</style>\n<table border=\"1\" class=\"dataframe\">\n  <thead>\n    <tr style=\"text-align: right;\">\n      <th></th>\n      <th>score_difference</th>\n    </tr>\n    <tr>\n      <th>season</th>\n      <th></th>\n    </tr>\n  </thead>\n  <tbody>\n    <tr>\n      <th>A</th>\n      <td>11.0</td>\n    </tr>\n    <tr>\n      <th>B</th>\n      <td>11.0</td>\n    </tr>\n    <tr>\n      <th>C</th>\n      <td>11.0</td>\n    </tr>\n    <tr>\n      <th>D</th>\n      <td>11.0</td>\n    </tr>\n    <tr>\n      <th>E</th>\n      <td>10.0</td>\n    </tr>\n    <tr>\n      <th>F</th>\n      <td>10.0</td>\n    </tr>\n    <tr>\n      <th>G</th>\n      <td>10.0</td>\n    </tr>\n    <tr>\n      <th>H</th>\n      <td>10.0</td>\n    </tr>\n    <tr>\n      <th>I</th>\n      <td>10.0</td>\n    </tr>\n    <tr>\n      <th>J</th>\n      <td>10.0</td>\n    </tr>\n    <tr>\n      <th>K</th>\n      <td>10.0</td>\n    </tr>\n    <tr>\n      <th>L</th>\n      <td>10.0</td>\n    </tr>\n    <tr>\n      <th>M</th>\n      <td>10.0</td>\n    </tr>\n    <tr>\n      <th>N</th>\n      <td>10.0</td>\n    </tr>\n    <tr>\n      <th>O</th>\n      <td>10.0</td>\n    </tr>\n    <tr>\n      <th>P</th>\n      <td>10.0</td>\n    </tr>\n    <tr>\n      <th>Q</th>\n      <td>10.0</td>\n    </tr>\n    <tr>\n      <th>R</th>\n      <td>10.0</td>\n    </tr>\n    <tr>\n      <th>S</th>\n      <td>10.0</td>\n    </tr>\n  </tbody>\n</table>\n</div>"
     },
     "execution_count": 280,
     "metadata": {},
     "output_type": "execute_result"
    }
   ],
   "source": [
    "df = tmp_df.groupby('season').median()\n",
    "df"
   ],
   "metadata": {
    "collapsed": false
   }
  },
  {
   "cell_type": "code",
   "execution_count": 281,
   "outputs": [
    {
     "data": {
      "text/plain": "<Figure size 640x480 with 1 Axes>",
      "image/png": "[encoded data removed]"
     },
     "metadata": {},
     "output_type": "display_data"
    }
   ],
   "source": [
    "plt.hist(df)\n",
    "plt.show()"
   ],
   "metadata": {
    "collapsed": false
   }
  },
  {
   "cell_type": "code",
   "execution_count": 282,
   "outputs": [
    {
     "name": "stderr",
     "output_type": "stream",
     "text": [
      "C:\\Users\\ivand\\AppData\\Local\\Temp\\ipykernel_8720\\2910738666.py:2: SettingWithCopyWarning: \n",
      "A value is trying to be set on a copy of a slice from a DataFrame.\n",
      "Try using .loc[row_indexer,col_indexer] = value instead\n",
      "\n",
      "See the caveats in the documentation: https://pandas.pydata.org/pandas-docs/stable/user_guide/indexing.html#returning-a-view-versus-a-copy\n",
      "  tmp_df['score_difference'] = tmp_df['wscore'] - tmp_df['lscore']\n"
     ]
    },
    {
     "data": {
      "text/plain": "      season  wteam  score_difference\n0          A    511                34\n1          A    515                 8\n2          A    606                20\n3          A    670                 8\n4          A    721                31\n...      ...    ...               ...\n91219      S    592                 1\n91220      S    671                14\n91221      S    779                 4\n91222      S    811                 1\n91223      S    830                 9\n\n[90399 rows x 3 columns]",
      "text/html": "<div>\n<style scoped>\n    .dataframe tbody tr th:only-of-type {\n        vertical-align: middle;\n    }\n\n    .dataframe tbody tr th {\n        vertical-align: top;\n    }\n\n    .dataframe thead th {\n        text-align: right;\n    }\n</style>\n<table border=\"1\" class=\"dataframe\">\n  <thead>\n    <tr style=\"text-align: right;\">\n      <th></th>\n      <th>season</th>\n      <th>wteam</th>\n      <th>score_difference</th>\n    </tr>\n  </thead>\n  <tbody>\n    <tr>\n      <th>0</th>\n      <td>A</td>\n      <td>511</td>\n      <td>34</td>\n    </tr>\n    <tr>\n      <th>1</th>\n      <td>A</td>\n      <td>515</td>\n      <td>8</td>\n    </tr>\n    <tr>\n      <th>2</th>\n      <td>A</td>\n      <td>606</td>\n      <td>20</td>\n    </tr>\n    <tr>\n      <th>3</th>\n      <td>A</td>\n      <td>670</td>\n      <td>8</td>\n    </tr>\n    <tr>\n      <th>4</th>\n      <td>A</td>\n      <td>721</td>\n      <td>31</td>\n    </tr>\n    <tr>\n      <th>...</th>\n      <td>...</td>\n      <td>...</td>\n      <td>...</td>\n    </tr>\n    <tr>\n      <th>91219</th>\n      <td>S</td>\n      <td>592</td>\n      <td>1</td>\n    </tr>\n    <tr>\n      <th>91220</th>\n      <td>S</td>\n      <td>671</td>\n      <td>14</td>\n    </tr>\n    <tr>\n      <th>91221</th>\n      <td>S</td>\n      <td>779</td>\n      <td>4</td>\n    </tr>\n    <tr>\n      <th>91222</th>\n      <td>S</td>\n      <td>811</td>\n      <td>1</td>\n    </tr>\n    <tr>\n      <th>91223</th>\n      <td>S</td>\n      <td>830</td>\n      <td>9</td>\n    </tr>\n  </tbody>\n</table>\n<p>90399 rows × 3 columns</p>\n</div>"
     },
     "execution_count": 282,
     "metadata": {},
     "output_type": "execute_result"
    }
   ],
   "source": [
    "tmp_df = regular_season_results_df[['season', 'wteam', 'wscore', 'lscore']]\n",
    "tmp_df['score_difference'] = tmp_df['wscore'] - tmp_df['lscore']\n",
    "tmp_df = tmp_df[['season', 'wteam', 'score_difference']]\n",
    "tmp_df"
   ],
   "metadata": {
    "collapsed": false
   }
  },
  {
   "cell_type": "code",
   "execution_count": 283,
   "outputs": [
    {
     "data": {
      "text/plain": "              score_difference\nseason wteam                  \nA      502            7.500000\n       503           14.500000\n       504           10.000000\n       506            3.285714\n       508           10.666667\n...                        ...\nS      852           10.625000\n       853           12.666667\n       854            9.285714\n       855            9.083333\n       856            9.777778\n\n[6278 rows x 1 columns]",
      "text/html": "<div>\n<style scoped>\n    .dataframe tbody tr th:only-of-type {\n        vertical-align: middle;\n    }\n\n    .dataframe tbody tr th {\n        vertical-align: top;\n    }\n\n    .dataframe thead th {\n        text-align: right;\n    }\n</style>\n<table border=\"1\" class=\"dataframe\">\n  <thead>\n    <tr style=\"text-align: right;\">\n      <th></th>\n      <th></th>\n      <th>score_difference</th>\n    </tr>\n    <tr>\n      <th>season</th>\n      <th>wteam</th>\n      <th></th>\n    </tr>\n  </thead>\n  <tbody>\n    <tr>\n      <th rowspan=\"5\" valign=\"top\">A</th>\n      <th>502</th>\n      <td>7.500000</td>\n    </tr>\n    <tr>\n      <th>503</th>\n      <td>14.500000</td>\n    </tr>\n    <tr>\n      <th>504</th>\n      <td>10.000000</td>\n    </tr>\n    <tr>\n      <th>506</th>\n      <td>3.285714</td>\n    </tr>\n    <tr>\n      <th>508</th>\n      <td>10.666667</td>\n    </tr>\n    <tr>\n      <th>...</th>\n      <th>...</th>\n      <td>...</td>\n    </tr>\n    <tr>\n      <th rowspan=\"5\" valign=\"top\">S</th>\n      <th>852</th>\n      <td>10.625000</td>\n    </tr>\n    <tr>\n      <th>853</th>\n      <td>12.666667</td>\n    </tr>\n    <tr>\n      <th>854</th>\n      <td>9.285714</td>\n    </tr>\n    <tr>\n      <th>855</th>\n      <td>9.083333</td>\n    </tr>\n    <tr>\n      <th>856</th>\n      <td>9.777778</td>\n    </tr>\n  </tbody>\n</table>\n<p>6278 rows × 1 columns</p>\n</div>"
     },
     "execution_count": 283,
     "metadata": {},
     "output_type": "execute_result"
    }
   ],
   "source": [
    "df = tmp_df.groupby(['season', 'wteam']).mean()\n",
    "df"
   ],
   "metadata": {
    "collapsed": false
   }
  },
  {
   "cell_type": "code",
   "execution_count": 284,
   "outputs": [
    {
     "data": {
      "text/plain": "              score_difference\nseason wteam                  \nA      502                 7.5\n       503                14.5\n       504                 8.0\n       506                 3.0\n       508                 8.5\n...                        ...\nS      852                 8.0\n       853                12.0\n       854                 8.5\n       855                 8.0\n       856                11.0\n\n[6278 rows x 1 columns]",
      "text/html": "<div>\n<style scoped>\n    .dataframe tbody tr th:only-of-type {\n        vertical-align: middle;\n    }\n\n    .dataframe tbody tr th {\n        vertical-align: top;\n    }\n\n    .dataframe thead th {\n        text-align: right;\n    }\n</style>\n<table border=\"1\" class=\"dataframe\">\n  <thead>\n    <tr style=\"text-align: right;\">\n      <th></th>\n      <th></th>\n      <th>score_difference</th>\n    </tr>\n    <tr>\n      <th>season</th>\n      <th>wteam</th>\n      <th></th>\n    </tr>\n  </thead>\n  <tbody>\n    <tr>\n      <th rowspan=\"5\" valign=\"top\">A</th>\n      <th>502</th>\n      <td>7.5</td>\n    </tr>\n    <tr>\n      <th>503</th>\n      <td>14.5</td>\n    </tr>\n    <tr>\n      <th>504</th>\n      <td>8.0</td>\n    </tr>\n    <tr>\n      <th>506</th>\n      <td>3.0</td>\n    </tr>\n    <tr>\n      <th>508</th>\n      <td>8.5</td>\n    </tr>\n    <tr>\n      <th>...</th>\n      <th>...</th>\n      <td>...</td>\n    </tr>\n    <tr>\n      <th rowspan=\"5\" valign=\"top\">S</th>\n      <th>852</th>\n      <td>8.0</td>\n    </tr>\n    <tr>\n      <th>853</th>\n      <td>12.0</td>\n    </tr>\n    <tr>\n      <th>854</th>\n      <td>8.5</td>\n    </tr>\n    <tr>\n      <th>855</th>\n      <td>8.0</td>\n    </tr>\n    <tr>\n      <th>856</th>\n      <td>11.0</td>\n    </tr>\n  </tbody>\n</table>\n<p>6278 rows × 1 columns</p>\n</div>"
     },
     "execution_count": 284,
     "metadata": {},
     "output_type": "execute_result"
    }
   ],
   "source": [
    "tmp_df.groupby(['season', 'wteam']).median()"
   ],
   "metadata": {
    "collapsed": false
   }
  },
  {
   "cell_type": "code",
   "execution_count": 285,
   "outputs": [
    {
     "data": {
      "text/plain": "<Figure size 640x480 with 1 Axes>",
      "image/png": "[encoded data removed]"
     },
     "metadata": {},
     "output_type": "display_data"
    }
   ],
   "source": [
    "plt.hist(df)\n",
    "plt.show()"
   ],
   "metadata": {
    "collapsed": false
   }
  },
  {
   "cell_type": "markdown",
   "source": [
    "Broj i postotak pobijeda i gubitaka tima"
   ],
   "metadata": {
    "collapsed": false
   }
  },
  {
   "cell_type": "code",
   "execution_count": 286,
   "outputs": [
    {
     "name": "stderr",
     "output_type": "stream",
     "text": [
      "C:\\Users\\ivand\\AppData\\Roaming\\Python\\Python310\\site-packages\\numpy\\core\\fromnumeric.py:3199: VisibleDeprecationWarning: Creating an ndarray from ragged nested sequences (which is a list-or-tuple of lists-or-tuples-or ndarrays with different lengths or shapes) is deprecated. If you meant to do this, you must specify 'dtype=object' when creating the ndarray.\n",
      "  return asarray(a).ndim\n",
      "C:\\Users\\ivand\\AppData\\Roaming\\Python\\Python310\\site-packages\\numpy\\core\\fromnumeric.py:2007: VisibleDeprecationWarning: Creating an ndarray from ragged nested sequences (which is a list-or-tuple of lists-or-tuples-or ndarrays with different lengths or shapes) is deprecated. If you meant to do this, you must specify 'dtype=object' when creating the ndarray.\n",
      "  result = asarray(a).shape\n"
     ]
    }
   ],
   "source": [
    "wteam_count_df = pd.DataFrame()\n",
    "wteam_count_df[['wteam', 'count']] = [regular_season_results_df['wteam'], 1]"
   ],
   "metadata": {
    "collapsed": false
   }
  },
  {
   "cell_type": "code",
   "execution_count": 287,
   "outputs": [],
   "source": [
    "wteam_count_df = wteam_count_df.groupby('wteam', as_index=False).count()"
   ],
   "metadata": {
    "collapsed": false
   }
  },
  {
   "cell_type": "code",
   "execution_count": 288,
   "outputs": [
    {
     "name": "stderr",
     "output_type": "stream",
     "text": [
      "C:\\Users\\ivand\\AppData\\Roaming\\Python\\Python310\\site-packages\\numpy\\core\\fromnumeric.py:3199: VisibleDeprecationWarning: Creating an ndarray from ragged nested sequences (which is a list-or-tuple of lists-or-tuples-or ndarrays with different lengths or shapes) is deprecated. If you meant to do this, you must specify 'dtype=object' when creating the ndarray.\n",
      "  return asarray(a).ndim\n",
      "C:\\Users\\ivand\\AppData\\Roaming\\Python\\Python310\\site-packages\\numpy\\core\\fromnumeric.py:2007: VisibleDeprecationWarning: Creating an ndarray from ragged nested sequences (which is a list-or-tuple of lists-or-tuples-or ndarrays with different lengths or shapes) is deprecated. If you meant to do this, you must specify 'dtype=object' when creating the ndarray.\n",
      "  result = asarray(a).shape\n"
     ]
    }
   ],
   "source": [
    "lteam_count_df = pd.DataFrame()\n",
    "lteam_count_df[['lteam', 'count']] = [regular_season_results_df['lteam'], 1]"
   ],
   "metadata": {
    "collapsed": false
   }
  },
  {
   "cell_type": "code",
   "execution_count": 289,
   "outputs": [],
   "source": [
    "lteam_count_df = lteam_count_df.groupby('lteam', as_index=False).count()"
   ],
   "metadata": {
    "collapsed": false
   }
  },
  {
   "cell_type": "code",
   "execution_count": 290,
   "outputs": [
    {
     "data": {
      "text/plain": "     team  wcount  lcount  total_games  win_percentage  loss_percentage\n0     501       2      19           21        0.095238         0.904762\n1     502     215     293          508        0.423228         0.576772\n2     503     324     234          558        0.580645         0.419355\n3     504     340     237          577        0.589255         0.410745\n4     505     171     245          416        0.411058         0.588942\n..    ...     ...     ...          ...             ...              ...\n351   852     279     259          538        0.518587         0.481413\n352   853     410     171          581        0.705680         0.294320\n353   854     220     286          506        0.434783         0.565217\n354   855     184     335          519        0.354528         0.645472\n355   856       9       6           15        0.600000         0.400000\n\n[356 rows x 6 columns]",
      "text/html": "<div>\n<style scoped>\n    .dataframe tbody tr th:only-of-type {\n        vertical-align: middle;\n    }\n\n    .dataframe tbody tr th {\n        vertical-align: top;\n    }\n\n    .dataframe thead th {\n        text-align: right;\n    }\n</style>\n<table border=\"1\" class=\"dataframe\">\n  <thead>\n    <tr style=\"text-align: right;\">\n      <th></th>\n      <th>team</th>\n      <th>wcount</th>\n      <th>lcount</th>\n      <th>total_games</th>\n      <th>win_percentage</th>\n      <th>loss_percentage</th>\n    </tr>\n  </thead>\n  <tbody>\n    <tr>\n      <th>0</th>\n      <td>501</td>\n      <td>2</td>\n      <td>19</td>\n      <td>21</td>\n      <td>0.095238</td>\n      <td>0.904762</td>\n    </tr>\n    <tr>\n      <th>1</th>\n      <td>502</td>\n      <td>215</td>\n      <td>293</td>\n      <td>508</td>\n      <td>0.423228</td>\n      <td>0.576772</td>\n    </tr>\n    <tr>\n      <th>2</th>\n      <td>503</td>\n      <td>324</td>\n      <td>234</td>\n      <td>558</td>\n      <td>0.580645</td>\n      <td>0.419355</td>\n    </tr>\n    <tr>\n      <th>3</th>\n      <td>504</td>\n      <td>340</td>\n      <td>237</td>\n      <td>577</td>\n      <td>0.589255</td>\n      <td>0.410745</td>\n    </tr>\n    <tr>\n      <th>4</th>\n      <td>505</td>\n      <td>171</td>\n      <td>245</td>\n      <td>416</td>\n      <td>0.411058</td>\n      <td>0.588942</td>\n    </tr>\n    <tr>\n      <th>...</th>\n      <td>...</td>\n      <td>...</td>\n      <td>...</td>\n      <td>...</td>\n      <td>...</td>\n      <td>...</td>\n    </tr>\n    <tr>\n      <th>351</th>\n      <td>852</td>\n      <td>279</td>\n      <td>259</td>\n      <td>538</td>\n      <td>0.518587</td>\n      <td>0.481413</td>\n    </tr>\n    <tr>\n      <th>352</th>\n      <td>853</td>\n      <td>410</td>\n      <td>171</td>\n      <td>581</td>\n      <td>0.705680</td>\n      <td>0.294320</td>\n    </tr>\n    <tr>\n      <th>353</th>\n      <td>854</td>\n      <td>220</td>\n      <td>286</td>\n      <td>506</td>\n      <td>0.434783</td>\n      <td>0.565217</td>\n    </tr>\n    <tr>\n      <th>354</th>\n      <td>855</td>\n      <td>184</td>\n      <td>335</td>\n      <td>519</td>\n      <td>0.354528</td>\n      <td>0.645472</td>\n    </tr>\n    <tr>\n      <th>355</th>\n      <td>856</td>\n      <td>9</td>\n      <td>6</td>\n      <td>15</td>\n      <td>0.600000</td>\n      <td>0.400000</td>\n    </tr>\n  </tbody>\n</table>\n<p>356 rows × 6 columns</p>\n</div>"
     },
     "execution_count": 290,
     "metadata": {},
     "output_type": "execute_result"
    }
   ],
   "source": [
    "team_win_loss_count_df = wteam_count_df.merge(lteam_count_df, how='outer', left_on='wteam', right_on='lteam')\n",
    "team_win_loss_count_df[['team', 'wcount', 'lcount']] = team_win_loss_count_df[['wteam', 'count_x', 'count_y']]\n",
    "team_win_loss_count_df = team_win_loss_count_df[['team', 'wcount', 'lcount']]\n",
    "team_win_loss_count_df['total_games'] = team_win_loss_count_df['wcount'] + team_win_loss_count_df['lcount']\n",
    "team_win_loss_count_df['win_percentage'] = team_win_loss_count_df['wcount'] / team_win_loss_count_df['total_games']\n",
    "team_win_loss_count_df['loss_percentage'] = team_win_loss_count_df['lcount'] / team_win_loss_count_df['total_games']\n",
    "team_win_loss_count_df"
   ],
   "metadata": {
    "collapsed": false
   }
  },
  {
   "cell_type": "code",
   "execution_count": 291,
   "outputs": [
    {
     "data": {
      "text/plain": "     team  win_percentage\n0     501        0.095238\n183   684        0.171053\n47    548        0.223077\n83    584        0.223684\n117   618        0.233333\n..    ...             ...\n285   786        0.752080\n139   640        0.772047\n106   607        0.792321\n76    577        0.831405\n135   636        0.832215\n\n[356 rows x 2 columns]",
      "text/html": "<div>\n<style scoped>\n    .dataframe tbody tr th:only-of-type {\n        vertical-align: middle;\n    }\n\n    .dataframe tbody tr th {\n        vertical-align: top;\n    }\n\n    .dataframe thead th {\n        text-align: right;\n    }\n</style>\n<table border=\"1\" class=\"dataframe\">\n  <thead>\n    <tr style=\"text-align: right;\">\n      <th></th>\n      <th>team</th>\n      <th>win_percentage</th>\n    </tr>\n  </thead>\n  <tbody>\n    <tr>\n      <th>0</th>\n      <td>501</td>\n      <td>0.095238</td>\n    </tr>\n    <tr>\n      <th>183</th>\n      <td>684</td>\n      <td>0.171053</td>\n    </tr>\n    <tr>\n      <th>47</th>\n      <td>548</td>\n      <td>0.223077</td>\n    </tr>\n    <tr>\n      <th>83</th>\n      <td>584</td>\n      <td>0.223684</td>\n    </tr>\n    <tr>\n      <th>117</th>\n      <td>618</td>\n      <td>0.233333</td>\n    </tr>\n    <tr>\n      <th>...</th>\n      <td>...</td>\n      <td>...</td>\n    </tr>\n    <tr>\n      <th>285</th>\n      <td>786</td>\n      <td>0.752080</td>\n    </tr>\n    <tr>\n      <th>139</th>\n      <td>640</td>\n      <td>0.772047</td>\n    </tr>\n    <tr>\n      <th>106</th>\n      <td>607</td>\n      <td>0.792321</td>\n    </tr>\n    <tr>\n      <th>76</th>\n      <td>577</td>\n      <td>0.831405</td>\n    </tr>\n    <tr>\n      <th>135</th>\n      <td>636</td>\n      <td>0.832215</td>\n    </tr>\n  </tbody>\n</table>\n<p>356 rows × 2 columns</p>\n</div>"
     },
     "execution_count": 291,
     "metadata": {},
     "output_type": "execute_result"
    }
   ],
   "source": [
    "tmp_df: pd.DataFrame = team_win_loss_count_df[['team', 'win_percentage']]\n",
    "# tmp_df = tmp_df.astype({'team': 'string'})\n",
    "tmp_df = tmp_df.sort_values(by=['win_percentage'])\n",
    "tmp_df"
   ],
   "metadata": {
    "collapsed": false
   }
  },
  {
   "cell_type": "code",
   "execution_count": 292,
   "outputs": [
    {
     "data": {
      "text/plain": "<Figure size 640x480 with 1 Axes>",
      "image/png": "[encoded data removed]"
     },
     "metadata": {},
     "output_type": "display_data"
    }
   ],
   "source": [
    "plt.hist(tmp_df['win_percentage'])\n",
    "\n",
    "plt.show()"
   ],
   "metadata": {
    "collapsed": false
   }
  },
  {
   "cell_type": "code",
   "execution_count": 293,
   "outputs": [
    {
     "data": {
      "text/plain": "<Figure size 640x480 with 1 Axes>",
      "image/png": "[encoded data removed]"
     },
     "metadata": {},
     "output_type": "display_data"
    }
   ],
   "source": [
    "plt.hist2d(tmp_df['team'], tmp_df['win_percentage'])\n",
    "\n",
    "plt.show()"
   ],
   "metadata": {
    "collapsed": false
   }
  },
  {
   "cell_type": "code",
   "execution_count": 294,
   "outputs": [
    {
     "data": {
      "text/plain": "     team  loss_percentage\n135   636         0.167785\n76    577         0.168595\n106   607         0.207679\n139   640         0.227953\n285   786         0.247920\n..    ...              ...\n117   618         0.766667\n83    584         0.776316\n47    548         0.776923\n183   684         0.828947\n0     501         0.904762\n\n[356 rows x 2 columns]",
      "text/html": "<div>\n<style scoped>\n    .dataframe tbody tr th:only-of-type {\n        vertical-align: middle;\n    }\n\n    .dataframe tbody tr th {\n        vertical-align: top;\n    }\n\n    .dataframe thead th {\n        text-align: right;\n    }\n</style>\n<table border=\"1\" class=\"dataframe\">\n  <thead>\n    <tr style=\"text-align: right;\">\n      <th></th>\n      <th>team</th>\n      <th>loss_percentage</th>\n    </tr>\n  </thead>\n  <tbody>\n    <tr>\n      <th>135</th>\n      <td>636</td>\n      <td>0.167785</td>\n    </tr>\n    <tr>\n      <th>76</th>\n      <td>577</td>\n      <td>0.168595</td>\n    </tr>\n    <tr>\n      <th>106</th>\n      <td>607</td>\n      <td>0.207679</td>\n    </tr>\n    <tr>\n      <th>139</th>\n      <td>640</td>\n      <td>0.227953</td>\n    </tr>\n    <tr>\n      <th>285</th>\n      <td>786</td>\n      <td>0.247920</td>\n    </tr>\n    <tr>\n      <th>...</th>\n      <td>...</td>\n      <td>...</td>\n    </tr>\n    <tr>\n      <th>117</th>\n      <td>618</td>\n      <td>0.766667</td>\n    </tr>\n    <tr>\n      <th>83</th>\n      <td>584</td>\n      <td>0.776316</td>\n    </tr>\n    <tr>\n      <th>47</th>\n      <td>548</td>\n      <td>0.776923</td>\n    </tr>\n    <tr>\n      <th>183</th>\n      <td>684</td>\n      <td>0.828947</td>\n    </tr>\n    <tr>\n      <th>0</th>\n      <td>501</td>\n      <td>0.904762</td>\n    </tr>\n  </tbody>\n</table>\n<p>356 rows × 2 columns</p>\n</div>"
     },
     "execution_count": 294,
     "metadata": {},
     "output_type": "execute_result"
    }
   ],
   "source": [
    "tmp_df: pd.DataFrame = team_win_loss_count_df[['team', 'loss_percentage']]\n",
    "# tmp_df = tmp_df.astype({'team': 'string'})\n",
    "tmp_df = tmp_df.sort_values(by=['loss_percentage'])\n",
    "tmp_df"
   ],
   "metadata": {
    "collapsed": false
   }
  },
  {
   "cell_type": "code",
   "execution_count": 295,
   "outputs": [
    {
     "data": {
      "text/plain": "<Figure size 640x480 with 1 Axes>",
      "image/png": "[encoded data removed]"
     },
     "metadata": {},
     "output_type": "display_data"
    }
   ],
   "source": [
    "plt.hist(tmp_df['loss_percentage'])\n",
    "plt.show()"
   ],
   "metadata": {
    "collapsed": false
   }
  },
  {
   "cell_type": "code",
   "execution_count": 296,
   "outputs": [
    {
     "data": {
      "text/plain": "<Figure size 640x480 with 1 Axes>",
      "image/png": "[encoded data removed]"
     },
     "metadata": {},
     "output_type": "display_data"
    }
   ],
   "source": [
    "plt.hist2d(tmp_df['team'], tmp_df['loss_percentage'])\n",
    "\n",
    "plt.show()"
   ],
   "metadata": {
    "collapsed": false
   }
  },
  {
   "cell_type": "markdown",
   "source": [
    "Čišćenje slotova"
   ],
   "metadata": {
    "collapsed": false
   }
  },
  {
   "cell_type": "code",
   "execution_count": 297,
   "outputs": [],
   "source": [
    "def remove_rounds(row: pd.Series) -> pd.Series:\n",
    "    strong_seed: str = row['strongseed']\n",
    "    weak_seed: str = row['weakseed']\n",
    "\n",
    "    if len(strong_seed) > 3:\n",
    "        strong_seed = strong_seed[2:]\n",
    "        if len(strong_seed) < 3:\n",
    "            strong_seed = strong_seed[0:1] + '0' + strong_seed[1:]\n",
    "\n",
    "    if len(weak_seed) > 3:\n",
    "        weak_seed = weak_seed[2:]\n",
    "        if len(weak_seed) < 3:\n",
    "            weak_seed = weak_seed[0:1] + '0' + weak_seed[1:]\n",
    "\n",
    "    row['strongseed'] = strong_seed\n",
    "    row['weakseed'] = weak_seed\n",
    "    return row"
   ],
   "metadata": {
    "collapsed": false
   }
  },
  {
   "cell_type": "code",
   "execution_count": 298,
   "outputs": [],
   "source": [
    "tourney_slots_df = tourney_slots_df.apply(remove_rounds, axis=1)"
   ],
   "metadata": {
    "collapsed": false
   }
  },
  {
   "cell_type": "code",
   "execution_count": 299,
   "outputs": [],
   "source": [
    "season_seeds_dict = {i: tourney_seeds_df.loc[tourney_seeds_df['season'] == i] for i in list(tourney_seeds_df['season'])}"
   ],
   "metadata": {
    "collapsed": false
   }
  },
  {
   "cell_type": "code",
   "execution_count": 300,
   "outputs": [],
   "source": [
    "for season in season_seeds_dict:\n",
    "    season_seeds_dict[season] = {i: j for i, j in zip(list(season_seeds_dict[season]['seed']), list(season_seeds_dict[season]['team']))}"
   ],
   "metadata": {
    "collapsed": false
   }
  },
  {
   "cell_type": "code",
   "execution_count": 301,
   "outputs": [],
   "source": [
    "season_slots_dict: dict[str, pd.DataFrame] = {i: tourney_slots_df.loc[tourney_slots_df['season'] == i] for i in list(tourney_slots_df['season'])}"
   ],
   "metadata": {
    "collapsed": false
   }
  },
  {
   "cell_type": "code",
   "execution_count": 302,
   "outputs": [
    {
     "name": "stderr",
     "output_type": "stream",
     "text": [
      "C:\\Users\\ivand\\AppData\\Local\\Temp\\ipykernel_8720\\3591034457.py:2: SettingWithCopyWarning: \n",
      "A value is trying to be set on a copy of a slice from a DataFrame\n",
      "\n",
      "See the caveats in the documentation: https://pandas.pydata.org/pandas-docs/stable/user_guide/indexing.html#returning-a-view-versus-a-copy\n",
      "  season_slots_dict[season].replace(season_seeds_dict[season], inplace=True)\n"
     ]
    }
   ],
   "source": [
    "for season in season_seeds_dict:\n",
    "    season_slots_dict[season].replace(season_seeds_dict[season], inplace=True)"
   ],
   "metadata": {
    "collapsed": false
   }
  },
  {
   "cell_type": "code",
   "execution_count": 315,
   "outputs": [
    {
     "data": {
      "text/plain": "     season slot strongseed weakseed\n0         A    1        663      809\n1         A    1        603      685\n2         A    1        796      690\n3         A    1        660      679\n4         A    1        729      515\n...     ...  ...        ...      ...\n1217      S    4        592      636\n1218      S    4        846      670\n1219      S    4        511      849\n1220      S    5        830      592\n1221      S    5        846      511\n\n[1152 rows x 4 columns]",
      "text/html": "<div>\n<style scoped>\n    .dataframe tbody tr th:only-of-type {\n        vertical-align: middle;\n    }\n\n    .dataframe tbody tr th {\n        vertical-align: top;\n    }\n\n    .dataframe thead th {\n        text-align: right;\n    }\n</style>\n<table border=\"1\" class=\"dataframe\">\n  <thead>\n    <tr style=\"text-align: right;\">\n      <th></th>\n      <th>season</th>\n      <th>slot</th>\n      <th>strongseed</th>\n      <th>weakseed</th>\n    </tr>\n  </thead>\n  <tbody>\n    <tr>\n      <th>0</th>\n      <td>A</td>\n      <td>1</td>\n      <td>663</td>\n      <td>809</td>\n    </tr>\n    <tr>\n      <th>1</th>\n      <td>A</td>\n      <td>1</td>\n      <td>603</td>\n      <td>685</td>\n    </tr>\n    <tr>\n      <th>2</th>\n      <td>A</td>\n      <td>1</td>\n      <td>796</td>\n      <td>690</td>\n    </tr>\n    <tr>\n      <th>3</th>\n      <td>A</td>\n      <td>1</td>\n      <td>660</td>\n      <td>679</td>\n    </tr>\n    <tr>\n      <th>4</th>\n      <td>A</td>\n      <td>1</td>\n      <td>729</td>\n      <td>515</td>\n    </tr>\n    <tr>\n      <th>...</th>\n      <td>...</td>\n      <td>...</td>\n      <td>...</td>\n      <td>...</td>\n    </tr>\n    <tr>\n      <th>1217</th>\n      <td>S</td>\n      <td>4</td>\n      <td>592</td>\n      <td>636</td>\n    </tr>\n    <tr>\n      <th>1218</th>\n      <td>S</td>\n      <td>4</td>\n      <td>846</td>\n      <td>670</td>\n    </tr>\n    <tr>\n      <th>1219</th>\n      <td>S</td>\n      <td>4</td>\n      <td>511</td>\n      <td>849</td>\n    </tr>\n    <tr>\n      <th>1220</th>\n      <td>S</td>\n      <td>5</td>\n      <td>830</td>\n      <td>592</td>\n    </tr>\n    <tr>\n      <th>1221</th>\n      <td>S</td>\n      <td>5</td>\n      <td>846</td>\n      <td>511</td>\n    </tr>\n  </tbody>\n</table>\n<p>1152 rows × 4 columns</p>\n</div>"
     },
     "execution_count": 315,
     "metadata": {},
     "output_type": "execute_result"
    }
   ],
   "source": [
    "tourney_slots_df = pd.concat(season_slots_dict.values())\n",
    "tourney_slots_df: pd.DataFrame = tourney_slots_df.loc[~tourney_slots_df['slot'].str.startswith('R6')]\n",
    "tourney_slots_df: pd.DataFrame = tourney_slots_df.loc[tourney_slots_df['strongseed'].str.endswith('a').isna()]\n",
    "tourney_slots_df['slot'] = tourney_slots_df['slot'].str[1:2]\n",
    "tourney_slots_df = tourney_slots_df.loc[tourney_slots_df['weakseed'].str.contains(string.ascii_letters).isna()]\n",
    "tourney_slots_df"
   ],
   "metadata": {
    "collapsed": false
   }
  },
  {
   "cell_type": "markdown",
   "source": [
    "Analiza slotova"
   ],
   "metadata": {
    "collapsed": false
   }
  },
  {
   "cell_type": "code",
   "execution_count": 316,
   "outputs": [
    {
     "data": {
      "text/plain": "<Figure size 640x480 with 1 Axes>",
      "image/png": "[encoded data removed]"
     },
     "metadata": {},
     "output_type": "display_data"
    }
   ],
   "source": [
    "plt.hist(tourney_slots_df['strongseed'])\n",
    "plt.show()"
   ],
   "metadata": {
    "collapsed": false
   }
  },
  {
   "cell_type": "code",
   "execution_count": 317,
   "outputs": [
    {
     "data": {
      "text/plain": "<Figure size 640x480 with 1 Axes>",
      "image/png": "[encoded data removed]"
     },
     "metadata": {},
     "output_type": "display_data"
    }
   ],
   "source": [
    "plt.hist(tourney_slots_df['weakseed'])\n",
    "plt.show()"
   ],
   "metadata": {
    "collapsed": false
   }
  },
  {
   "cell_type": "code",
   "execution_count": null,
   "outputs": [],
   "source": [],
   "metadata": {
    "collapsed": false
   }
  }
 ],
 "metadata": {
  "kernelspec": {
   "display_name": "Python 3",
   "language": "python",
   "name": "python3"
  },
  "language_info": {
   "codemirror_mode": {
    "name": "ipython",
    "version": 2
   },
   "file_extension": ".py",
   "mimetype": "text/x-python",
   "name": "python",
   "nbconvert_exporter": "python",
   "pygments_lexer": "ipython2",
   "version": "2.7.6"
  }
 },
 "nbformat": 4,
 "nbformat_minor": 0
}
