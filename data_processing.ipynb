{
 "cells": [
  {
   "cell_type": "code",
   "execution_count": 37,
   "metadata": {
    "collapsed": true
   },
   "outputs": [],
   "source": [
    "import pandas as pd\n",
    "import matplotlib.pyplot as plt"
   ]
  },
  {
   "cell_type": "markdown",
   "source": [
    "Učitavanje podataka za analizu"
   ],
   "metadata": {
    "collapsed": false
   }
  },
  {
   "cell_type": "code",
   "execution_count": 23,
   "outputs": [
    {
     "data": {
      "text/plain": "      season  daynum  wteam  wscore  lteam  lscore wloc  numot\n0          A      16    511      91    647      57    H    NaN\n1          A      16    515      75    812      67    H    NaN\n2          A      16    606      87    658      67    H    NaN\n3          A      16    670      73    573      65    H    NaN\n4          A      16    721      99    632      68    H    NaN\n...      ...     ...    ...     ...    ...     ...  ...    ...\n91219      S     132    592      61    640      60    N    0.0\n91220      S     132    671      69    670      55    N    0.0\n91221      S     132    779      65    825      61    N    0.0\n91222      S     132    811      82    605      81    N    1.0\n91223      S     132    830      72    577      63    N    0.0\n\n[91224 rows x 8 columns]",
      "text/html": "<div>\n<style scoped>\n    .dataframe tbody tr th:only-of-type {\n        vertical-align: middle;\n    }\n\n    .dataframe tbody tr th {\n        vertical-align: top;\n    }\n\n    .dataframe thead th {\n        text-align: right;\n    }\n</style>\n<table border=\"1\" class=\"dataframe\">\n  <thead>\n    <tr style=\"text-align: right;\">\n      <th></th>\n      <th>season</th>\n      <th>daynum</th>\n      <th>wteam</th>\n      <th>wscore</th>\n      <th>lteam</th>\n      <th>lscore</th>\n      <th>wloc</th>\n      <th>numot</th>\n    </tr>\n  </thead>\n  <tbody>\n    <tr>\n      <th>0</th>\n      <td>A</td>\n      <td>16</td>\n      <td>511</td>\n      <td>91</td>\n      <td>647</td>\n      <td>57</td>\n      <td>H</td>\n      <td>NaN</td>\n    </tr>\n    <tr>\n      <th>1</th>\n      <td>A</td>\n      <td>16</td>\n      <td>515</td>\n      <td>75</td>\n      <td>812</td>\n      <td>67</td>\n      <td>H</td>\n      <td>NaN</td>\n    </tr>\n    <tr>\n      <th>2</th>\n      <td>A</td>\n      <td>16</td>\n      <td>606</td>\n      <td>87</td>\n      <td>658</td>\n      <td>67</td>\n      <td>H</td>\n      <td>NaN</td>\n    </tr>\n    <tr>\n      <th>3</th>\n      <td>A</td>\n      <td>16</td>\n      <td>670</td>\n      <td>73</td>\n      <td>573</td>\n      <td>65</td>\n      <td>H</td>\n      <td>NaN</td>\n    </tr>\n    <tr>\n      <th>4</th>\n      <td>A</td>\n      <td>16</td>\n      <td>721</td>\n      <td>99</td>\n      <td>632</td>\n      <td>68</td>\n      <td>H</td>\n      <td>NaN</td>\n    </tr>\n    <tr>\n      <th>...</th>\n      <td>...</td>\n      <td>...</td>\n      <td>...</td>\n      <td>...</td>\n      <td>...</td>\n      <td>...</td>\n      <td>...</td>\n      <td>...</td>\n    </tr>\n    <tr>\n      <th>91219</th>\n      <td>S</td>\n      <td>132</td>\n      <td>592</td>\n      <td>61</td>\n      <td>640</td>\n      <td>60</td>\n      <td>N</td>\n      <td>0.0</td>\n    </tr>\n    <tr>\n      <th>91220</th>\n      <td>S</td>\n      <td>132</td>\n      <td>671</td>\n      <td>69</td>\n      <td>670</td>\n      <td>55</td>\n      <td>N</td>\n      <td>0.0</td>\n    </tr>\n    <tr>\n      <th>91221</th>\n      <td>S</td>\n      <td>132</td>\n      <td>779</td>\n      <td>65</td>\n      <td>825</td>\n      <td>61</td>\n      <td>N</td>\n      <td>0.0</td>\n    </tr>\n    <tr>\n      <th>91222</th>\n      <td>S</td>\n      <td>132</td>\n      <td>811</td>\n      <td>82</td>\n      <td>605</td>\n      <td>81</td>\n      <td>N</td>\n      <td>1.0</td>\n    </tr>\n    <tr>\n      <th>91223</th>\n      <td>S</td>\n      <td>132</td>\n      <td>830</td>\n      <td>72</td>\n      <td>577</td>\n      <td>63</td>\n      <td>N</td>\n      <td>0.0</td>\n    </tr>\n  </tbody>\n</table>\n<p>91224 rows × 8 columns</p>\n</div>"
     },
     "execution_count": 23,
     "metadata": {},
     "output_type": "execute_result"
    }
   ],
   "source": [
    "regular_season_results_df = pd.read_csv('data/regular_season_results.csv')\n",
    "regular_season_results_df"
   ],
   "metadata": {
    "collapsed": false
   }
  },
  {
   "cell_type": "code",
   "execution_count": null,
   "outputs": [],
   "source": [
    "tourney_seeds_df = pd.read_csv('data/tourney_seeds.csv')\n",
    "tourney_seeds_df"
   ],
   "metadata": {
    "collapsed": false,
    "pycharm": {
     "is_executing": true
    }
   }
  },
  {
   "cell_type": "code",
   "execution_count": null,
   "outputs": [],
   "source": [
    "tourney_slots_df = pd.read_csv('data/tourney_slots.csv')\n",
    "tourney_slots_df"
   ],
   "metadata": {
    "collapsed": false,
    "pycharm": {
     "is_executing": true
    }
   }
  },
  {
   "cell_type": "markdown",
   "source": [
    "Provjera null vrijednosti"
   ],
   "metadata": {
    "collapsed": false
   }
  },
  {
   "cell_type": "code",
   "execution_count": null,
   "outputs": [],
   "source": [
    "def data_has_null_values(\n",
    "        df: pd.DataFrame\n",
    ") -> pd.DataFrame:\n",
    "    to_return = {}\n",
    "\n",
    "    for column in df:\n",
    "        to_return[column] = [sum(df[column].isna())]\n",
    "\n",
    "    return pd.DataFrame(to_return)"
   ],
   "metadata": {
    "collapsed": false
   }
  },
  {
   "cell_type": "code",
   "execution_count": null,
   "outputs": [],
   "source": [
    "data_has_null_values(regular_season_results_df)"
   ],
   "metadata": {
    "collapsed": false
   }
  },
  {
   "cell_type": "code",
   "execution_count": null,
   "outputs": [],
   "source": [
    "data_has_null_values(tourney_slots_df)"
   ],
   "metadata": {
    "collapsed": false
   }
  },
  {
   "cell_type": "code",
   "execution_count": null,
   "outputs": [],
   "source": [
    "data_has_null_values(tourney_seeds_df)"
   ],
   "metadata": {
    "collapsed": false
   }
  },
  {
   "cell_type": "markdown",
   "source": [
    "Ispis oblika tablica"
   ],
   "metadata": {
    "collapsed": false
   }
  },
  {
   "cell_type": "code",
   "execution_count": null,
   "outputs": [],
   "source": [
    "regular_season_results_df.shape"
   ],
   "metadata": {
    "collapsed": false
   }
  },
  {
   "cell_type": "code",
   "execution_count": null,
   "outputs": [],
   "source": [
    "tourney_slots_df.shape"
   ],
   "metadata": {
    "collapsed": false
   }
  },
  {
   "cell_type": "code",
   "execution_count": null,
   "outputs": [],
   "source": [
    "tourney_seeds_df.shape"
   ],
   "metadata": {
    "collapsed": false
   }
  },
  {
   "cell_type": "markdown",
   "source": [
    "Stupci tablica"
   ],
   "metadata": {
    "collapsed": false
   }
  },
  {
   "cell_type": "code",
   "execution_count": null,
   "outputs": [],
   "source": [
    "regular_season_results_df.columns.values"
   ],
   "metadata": {
    "collapsed": false
   }
  },
  {
   "cell_type": "code",
   "execution_count": null,
   "outputs": [],
   "source": [
    "tourney_seeds_df.columns.values"
   ],
   "metadata": {
    "collapsed": false
   }
  },
  {
   "cell_type": "code",
   "execution_count": null,
   "outputs": [],
   "source": [
    "tourney_slots_df.columns.values"
   ],
   "metadata": {
    "collapsed": false
   }
  },
  {
   "cell_type": "markdown",
   "source": [
    "Opis tablica\n",
    "\n",
    "Radi se samo za regular_season_result pošto ostale tablice nemaju numeričkih vrijednosti"
   ],
   "metadata": {
    "collapsed": false
   }
  },
  {
   "cell_type": "code",
   "execution_count": 33,
   "outputs": [
    {
     "data": {
      "text/plain": "             daynum         wteam        wscore         lteam        lscore  \\\ncount  91224.000000  91224.000000  91224.000000  91224.000000  91224.000000   \nmean      73.410133    680.981058     75.370440    677.047400     63.208860   \nstd       34.210997    103.099502     11.408528    102.950054     10.940295   \nmin        0.000000    501.000000     34.000000    501.000000     20.000000   \n25%       44.000000    592.000000     68.000000    587.000000     56.000000   \n50%       75.000000    678.000000     75.000000    675.000000     63.000000   \n75%      103.000000    772.000000     83.000000    768.000000     70.000000   \nmax      133.000000    856.000000    153.000000    856.000000    140.000000   \n\n              numot  \ncount  51333.000000  \nmean       0.072000  \nstd        0.313278  \nmin        0.000000  \n25%        0.000000  \n50%        0.000000  \n75%        0.000000  \nmax        6.000000  ",
      "text/html": "<div>\n<style scoped>\n    .dataframe tbody tr th:only-of-type {\n        vertical-align: middle;\n    }\n\n    .dataframe tbody tr th {\n        vertical-align: top;\n    }\n\n    .dataframe thead th {\n        text-align: right;\n    }\n</style>\n<table border=\"1\" class=\"dataframe\">\n  <thead>\n    <tr style=\"text-align: right;\">\n      <th></th>\n      <th>daynum</th>\n      <th>wteam</th>\n      <th>wscore</th>\n      <th>lteam</th>\n      <th>lscore</th>\n      <th>numot</th>\n    </tr>\n  </thead>\n  <tbody>\n    <tr>\n      <th>count</th>\n      <td>91224.000000</td>\n      <td>91224.000000</td>\n      <td>91224.000000</td>\n      <td>91224.000000</td>\n      <td>91224.000000</td>\n      <td>51333.000000</td>\n    </tr>\n    <tr>\n      <th>mean</th>\n      <td>73.410133</td>\n      <td>680.981058</td>\n      <td>75.370440</td>\n      <td>677.047400</td>\n      <td>63.208860</td>\n      <td>0.072000</td>\n    </tr>\n    <tr>\n      <th>std</th>\n      <td>34.210997</td>\n      <td>103.099502</td>\n      <td>11.408528</td>\n      <td>102.950054</td>\n      <td>10.940295</td>\n      <td>0.313278</td>\n    </tr>\n    <tr>\n      <th>min</th>\n      <td>0.000000</td>\n      <td>501.000000</td>\n      <td>34.000000</td>\n      <td>501.000000</td>\n      <td>20.000000</td>\n      <td>0.000000</td>\n    </tr>\n    <tr>\n      <th>25%</th>\n      <td>44.000000</td>\n      <td>592.000000</td>\n      <td>68.000000</td>\n      <td>587.000000</td>\n      <td>56.000000</td>\n      <td>0.000000</td>\n    </tr>\n    <tr>\n      <th>50%</th>\n      <td>75.000000</td>\n      <td>678.000000</td>\n      <td>75.000000</td>\n      <td>675.000000</td>\n      <td>63.000000</td>\n      <td>0.000000</td>\n    </tr>\n    <tr>\n      <th>75%</th>\n      <td>103.000000</td>\n      <td>772.000000</td>\n      <td>83.000000</td>\n      <td>768.000000</td>\n      <td>70.000000</td>\n      <td>0.000000</td>\n    </tr>\n    <tr>\n      <th>max</th>\n      <td>133.000000</td>\n      <td>856.000000</td>\n      <td>153.000000</td>\n      <td>856.000000</td>\n      <td>140.000000</td>\n      <td>6.000000</td>\n    </tr>\n  </tbody>\n</table>\n</div>"
     },
     "execution_count": 33,
     "metadata": {},
     "output_type": "execute_result"
    }
   ],
   "source": [
    "regular_season_results_df.describe()"
   ],
   "metadata": {
    "collapsed": false
   }
  },
  {
   "cell_type": "markdown",
   "source": [
    "Ovdje su bitni stupci 'wscore' i 'lscore'.\n",
    "Maksimalne vrijednosti navedenih tupaca se čine malo velike, ali nisu ne realne."
   ],
   "metadata": {
    "collapsed": false
   }
  },
  {
   "cell_type": "code",
   "execution_count": 38,
   "outputs": [
    {
     "data": {
      "text/plain": "<Figure size 640x480 with 1 Axes>",
      "image/png": "[encoded data removed]"
     },
     "metadata": {},
     "output_type": "display_data"
    }
   ],
   "source": [
    "plt.boxplot(regular_season_results_df[['wscore', 'lscore']])\n",
    "plt.title('Box plot for winner score and loser score')\n",
    "plt.show()"
   ],
   "metadata": {
    "collapsed": false
   }
  },
  {
   "cell_type": "markdown",
   "source": [
    "Boxplot dijagram da postoji dosta outliera\n",
    "Granice za outliere se mogu izračunati po sljedećim formulama:\n",
    "IQR = Q3 - Q1\n",
    "lower_limit = Q1 - 1.5IQR\n",
    "upper_limit = Q3 + 1.5IQR\n",
    "\n",
    "Vrijednosti Q1 i Q3 se mogu isčitati iz opisa tablice"
   ],
   "metadata": {
    "collapsed": false
   }
  },
  {
   "cell_type": "code",
   "execution_count": 39,
   "outputs": [
    {
     "name": "stdout",
     "output_type": "stream",
     "text": [
      "WIQR = 15.0, winner_lower_limit = 45.5, winner_upper_limit = 105.5\n"
     ]
    }
   ],
   "source": [
    "WQ1 = 68.000000\n",
    "WQ3 = 83.000000\n",
    "\n",
    "WIQR = WQ3 - WQ1\n",
    "\n",
    "winner_lower_limit = WQ1 - 1.5 * WIQR\n",
    "winner_upper_limit = WQ3 + 1.5 * WIQR\n",
    "\n",
    "print(f'{WIQR = }, {winner_lower_limit = }, {winner_upper_limit = }')"
   ],
   "metadata": {
    "collapsed": false
   }
  },
  {
   "cell_type": "code",
   "execution_count": 40,
   "outputs": [
    {
     "name": "stdout",
     "output_type": "stream",
     "text": [
      "LIQR = 15.0, loser_lower_limit = 33.5, loser_upper_limit = 92.5\n"
     ]
    }
   ],
   "source": [
    "LQ1 = 56.000000\n",
    "LQ3 = 70.000000\n",
    "\n",
    "LIQR = WQ3 - WQ1\n",
    "\n",
    "loser_lower_limit = LQ1 - 1.5 * LIQR\n",
    "loser_upper_limit = LQ3 + 1.5 * LIQR\n",
    "\n",
    "print(f'{LIQR = }, {loser_lower_limit = }, {loser_upper_limit = }')"
   ],
   "metadata": {
    "collapsed": false
   }
  },
  {
   "cell_type": "markdown",
   "source": [
    "S ovim granicama znamo koje podatke možemo odbaciti"
   ],
   "metadata": {
    "collapsed": false
   }
  },
  {
   "cell_type": "code",
   "execution_count": 41,
   "outputs": [
    {
     "name": "stdout",
     "output_type": "stream",
     "text": [
      "winner_lower_count = 157, winner_upper_count = 864\n"
     ]
    }
   ],
   "source": [
    "winner_lower_count = len(regular_season_results_df.loc[regular_season_results_df['wscore'] < winner_lower_limit])\n",
    "winner_upper_count = len(regular_season_results_df.loc[regular_season_results_df['wscore'] > winner_upper_limit])\n",
    "\n",
    "print(f'{winner_lower_count = }, {winner_upper_count = }')"
   ],
   "metadata": {
    "collapsed": false
   }
  },
  {
   "cell_type": "code",
   "execution_count": 42,
   "outputs": [
    {
     "name": "stdout",
     "output_type": "stream",
     "text": [
      "loser_lower_count = 145, loser_upper_count = 668\n"
     ]
    }
   ],
   "source": [
    "loser_lower_count = len(regular_season_results_df.loc[regular_season_results_df['lscore'] < loser_lower_limit])\n",
    "loser_upper_count = len(regular_season_results_df.loc[regular_season_results_df['lscore'] > loser_upper_limit])\n",
    "\n",
    "print(f'{loser_lower_count = }, {loser_upper_count = }')"
   ],
   "metadata": {
    "collapsed": false
   }
  },
  {
   "cell_type": "code",
   "execution_count": 45,
   "outputs": [
    {
     "name": "stdout",
     "output_type": "stream",
     "text": [
      "Percentage of data removed: 0.9043672717705866 %\n"
     ]
    }
   ],
   "source": [
    "print('Percentage of data removed:', (loser_upper_count + winner_lower_count) / len(regular_season_results_df) * 100, '%')"
   ],
   "metadata": {
    "collapsed": false
   }
  },
  {
   "cell_type": "markdown",
   "source": [
    "Odbacivanjem podataka bi se izgubilo manje od 1% podataka."
   ],
   "metadata": {
    "collapsed": false
   }
  },
  {
   "cell_type": "markdown",
   "source": [
    "Indikacija monotonosti"
   ],
   "metadata": {
    "collapsed": false
   }
  },
  {
   "cell_type": "code",
   "execution_count": null,
   "outputs": [],
   "source": [
    "regular_season_results_df.nunique()"
   ],
   "metadata": {
    "collapsed": false
   }
  },
  {
   "cell_type": "code",
   "execution_count": null,
   "outputs": [],
   "source": [
    "len(regular_season_results_df)"
   ],
   "metadata": {
    "collapsed": false
   }
  },
  {
   "cell_type": "markdown",
   "source": [
    "nunique ne indicira da postoje monotone vrijednosti"
   ],
   "metadata": {
    "collapsed": false
   }
  },
  {
   "cell_type": "markdown",
   "source": [
    "Prosiječni rezultat pobjedničkog time"
   ],
   "metadata": {
    "collapsed": false
   }
  },
  {
   "cell_type": "code",
   "execution_count": 34,
   "outputs": [
    {
     "data": {
      "text/plain": "          wscore\nwteam           \n501    80.000000\n502    68.675926\n503    75.487730\n504    75.311953\n505    75.988372\n...          ...\n852    75.611307\n853    78.162228\n854    71.842342\n855    72.356757\n856    78.222222\n\n[356 rows x 1 columns]",
      "text/html": "<div>\n<style scoped>\n    .dataframe tbody tr th:only-of-type {\n        vertical-align: middle;\n    }\n\n    .dataframe tbody tr th {\n        vertical-align: top;\n    }\n\n    .dataframe thead th {\n        text-align: right;\n    }\n</style>\n<table border=\"1\" class=\"dataframe\">\n  <thead>\n    <tr style=\"text-align: right;\">\n      <th></th>\n      <th>wscore</th>\n    </tr>\n    <tr>\n      <th>wteam</th>\n      <th></th>\n    </tr>\n  </thead>\n  <tbody>\n    <tr>\n      <th>501</th>\n      <td>80.000000</td>\n    </tr>\n    <tr>\n      <th>502</th>\n      <td>68.675926</td>\n    </tr>\n    <tr>\n      <th>503</th>\n      <td>75.487730</td>\n    </tr>\n    <tr>\n      <th>504</th>\n      <td>75.311953</td>\n    </tr>\n    <tr>\n      <th>505</th>\n      <td>75.988372</td>\n    </tr>\n    <tr>\n      <th>...</th>\n      <td>...</td>\n    </tr>\n    <tr>\n      <th>852</th>\n      <td>75.611307</td>\n    </tr>\n    <tr>\n      <th>853</th>\n      <td>78.162228</td>\n    </tr>\n    <tr>\n      <th>854</th>\n      <td>71.842342</td>\n    </tr>\n    <tr>\n      <th>855</th>\n      <td>72.356757</td>\n    </tr>\n    <tr>\n      <th>856</th>\n      <td>78.222222</td>\n    </tr>\n  </tbody>\n</table>\n<p>356 rows × 1 columns</p>\n</div>"
     },
     "execution_count": 34,
     "metadata": {},
     "output_type": "execute_result"
    }
   ],
   "source": [
    "regular_season_results_df[['wteam', 'wscore']].groupby('wteam').mean()"
   ],
   "metadata": {
    "collapsed": false
   }
  },
  {
   "cell_type": "code",
   "execution_count": 47,
   "outputs": [
    {
     "data": {
      "text/plain": "       wscore\nwteam        \n501      80.0\n502      68.0\n503      75.0\n504      75.0\n505      74.0\n...       ...\n852      75.0\n853      77.0\n854      72.0\n855      72.0\n856      80.0\n\n[356 rows x 1 columns]",
      "text/html": "<div>\n<style scoped>\n    .dataframe tbody tr th:only-of-type {\n        vertical-align: middle;\n    }\n\n    .dataframe tbody tr th {\n        vertical-align: top;\n    }\n\n    .dataframe thead th {\n        text-align: right;\n    }\n</style>\n<table border=\"1\" class=\"dataframe\">\n  <thead>\n    <tr style=\"text-align: right;\">\n      <th></th>\n      <th>wscore</th>\n    </tr>\n    <tr>\n      <th>wteam</th>\n      <th></th>\n    </tr>\n  </thead>\n  <tbody>\n    <tr>\n      <th>501</th>\n      <td>80.0</td>\n    </tr>\n    <tr>\n      <th>502</th>\n      <td>68.0</td>\n    </tr>\n    <tr>\n      <th>503</th>\n      <td>75.0</td>\n    </tr>\n    <tr>\n      <th>504</th>\n      <td>75.0</td>\n    </tr>\n    <tr>\n      <th>505</th>\n      <td>74.0</td>\n    </tr>\n    <tr>\n      <th>...</th>\n      <td>...</td>\n    </tr>\n    <tr>\n      <th>852</th>\n      <td>75.0</td>\n    </tr>\n    <tr>\n      <th>853</th>\n      <td>77.0</td>\n    </tr>\n    <tr>\n      <th>854</th>\n      <td>72.0</td>\n    </tr>\n    <tr>\n      <th>855</th>\n      <td>72.0</td>\n    </tr>\n    <tr>\n      <th>856</th>\n      <td>80.0</td>\n    </tr>\n  </tbody>\n</table>\n<p>356 rows × 1 columns</p>\n</div>"
     },
     "execution_count": 47,
     "metadata": {},
     "output_type": "execute_result"
    }
   ],
   "source": [
    "regular_season_results_df[['wteam', 'wscore']].groupby('wteam').median()"
   ],
   "metadata": {
    "collapsed": false
   }
  },
  {
   "cell_type": "markdown",
   "source": [
    "Prosiječni rezultat gubitničkog time"
   ],
   "metadata": {
    "collapsed": false
   }
  },
  {
   "cell_type": "code",
   "execution_count": 35,
   "outputs": [
    {
     "data": {
      "text/plain": "          lscore\nlteam           \n501    61.368421\n502    57.936027\n503    65.055085\n504    63.836134\n505    62.493927\n...          ...\n852    64.582375\n853    65.432749\n854    60.416667\n855    62.854167\n856    74.666667\n\n[356 rows x 1 columns]",
      "text/html": "<div>\n<style scoped>\n    .dataframe tbody tr th:only-of-type {\n        vertical-align: middle;\n    }\n\n    .dataframe tbody tr th {\n        vertical-align: top;\n    }\n\n    .dataframe thead th {\n        text-align: right;\n    }\n</style>\n<table border=\"1\" class=\"dataframe\">\n  <thead>\n    <tr style=\"text-align: right;\">\n      <th></th>\n      <th>lscore</th>\n    </tr>\n    <tr>\n      <th>lteam</th>\n      <th></th>\n    </tr>\n  </thead>\n  <tbody>\n    <tr>\n      <th>501</th>\n      <td>61.368421</td>\n    </tr>\n    <tr>\n      <th>502</th>\n      <td>57.936027</td>\n    </tr>\n    <tr>\n      <th>503</th>\n      <td>65.055085</td>\n    </tr>\n    <tr>\n      <th>504</th>\n      <td>63.836134</td>\n    </tr>\n    <tr>\n      <th>505</th>\n      <td>62.493927</td>\n    </tr>\n    <tr>\n      <th>...</th>\n      <td>...</td>\n    </tr>\n    <tr>\n      <th>852</th>\n      <td>64.582375</td>\n    </tr>\n    <tr>\n      <th>853</th>\n      <td>65.432749</td>\n    </tr>\n    <tr>\n      <th>854</th>\n      <td>60.416667</td>\n    </tr>\n    <tr>\n      <th>855</th>\n      <td>62.854167</td>\n    </tr>\n    <tr>\n      <th>856</th>\n      <td>74.666667</td>\n    </tr>\n  </tbody>\n</table>\n<p>356 rows × 1 columns</p>\n</div>"
     },
     "execution_count": 35,
     "metadata": {},
     "output_type": "execute_result"
    }
   ],
   "source": [
    "regular_season_results_df[['lteam', 'lscore']].groupby('lteam').mean()"
   ],
   "metadata": {
    "collapsed": false
   }
  },
  {
   "cell_type": "code",
   "execution_count": 48,
   "outputs": [
    {
     "data": {
      "text/plain": "       lscore\nlteam        \n501      60.0\n502      58.0\n503      63.5\n504      63.0\n505      62.0\n...       ...\n852      65.0\n853      65.0\n854      60.0\n855      61.0\n856      73.0\n\n[356 rows x 1 columns]",
      "text/html": "<div>\n<style scoped>\n    .dataframe tbody tr th:only-of-type {\n        vertical-align: middle;\n    }\n\n    .dataframe tbody tr th {\n        vertical-align: top;\n    }\n\n    .dataframe thead th {\n        text-align: right;\n    }\n</style>\n<table border=\"1\" class=\"dataframe\">\n  <thead>\n    <tr style=\"text-align: right;\">\n      <th></th>\n      <th>lscore</th>\n    </tr>\n    <tr>\n      <th>lteam</th>\n      <th></th>\n    </tr>\n  </thead>\n  <tbody>\n    <tr>\n      <th>501</th>\n      <td>60.0</td>\n    </tr>\n    <tr>\n      <th>502</th>\n      <td>58.0</td>\n    </tr>\n    <tr>\n      <th>503</th>\n      <td>63.5</td>\n    </tr>\n    <tr>\n      <th>504</th>\n      <td>63.0</td>\n    </tr>\n    <tr>\n      <th>505</th>\n      <td>62.0</td>\n    </tr>\n    <tr>\n      <th>...</th>\n      <td>...</td>\n    </tr>\n    <tr>\n      <th>852</th>\n      <td>65.0</td>\n    </tr>\n    <tr>\n      <th>853</th>\n      <td>65.0</td>\n    </tr>\n    <tr>\n      <th>854</th>\n      <td>60.0</td>\n    </tr>\n    <tr>\n      <th>855</th>\n      <td>61.0</td>\n    </tr>\n    <tr>\n      <th>856</th>\n      <td>73.0</td>\n    </tr>\n  </tbody>\n</table>\n<p>356 rows × 1 columns</p>\n</div>"
     },
     "execution_count": 48,
     "metadata": {},
     "output_type": "execute_result"
    }
   ],
   "source": [
    "regular_season_results_df[['lteam', 'lscore']].groupby('lteam').median()"
   ],
   "metadata": {
    "collapsed": false
   }
  },
  {
   "cell_type": "code",
   "execution_count": 49,
   "outputs": [
    {
     "data": {
      "text/plain": "           wscore     lscore\nseason                      \nA       78.198399  65.733447\nB       76.321403  63.748270\nC       77.229466  64.545305\nD       76.200415  63.587408\nE       76.351387  63.917657\nF       77.187404  64.873606\nG       77.019846  64.625267\nH       75.789998  63.757523\nI       74.973753  62.992126\nJ       74.689264  62.630453\nK       74.587555  62.666597\nL       74.829467  62.761650\nM       74.962425  62.755375\nN       74.033721  61.980377\nO       74.652480  62.484325\nP       74.374309  62.471698\nQ       73.379973  61.415953\nR       72.840789  60.908083\nS       76.101268  64.452070",
      "text/html": "<div>\n<style scoped>\n    .dataframe tbody tr th:only-of-type {\n        vertical-align: middle;\n    }\n\n    .dataframe tbody tr th {\n        vertical-align: top;\n    }\n\n    .dataframe thead th {\n        text-align: right;\n    }\n</style>\n<table border=\"1\" class=\"dataframe\">\n  <thead>\n    <tr style=\"text-align: right;\">\n      <th></th>\n      <th>wscore</th>\n      <th>lscore</th>\n    </tr>\n    <tr>\n      <th>season</th>\n      <th></th>\n      <th></th>\n    </tr>\n  </thead>\n  <tbody>\n    <tr>\n      <th>A</th>\n      <td>78.198399</td>\n      <td>65.733447</td>\n    </tr>\n    <tr>\n      <th>B</th>\n      <td>76.321403</td>\n      <td>63.748270</td>\n    </tr>\n    <tr>\n      <th>C</th>\n      <td>77.229466</td>\n      <td>64.545305</td>\n    </tr>\n    <tr>\n      <th>D</th>\n      <td>76.200415</td>\n      <td>63.587408</td>\n    </tr>\n    <tr>\n      <th>E</th>\n      <td>76.351387</td>\n      <td>63.917657</td>\n    </tr>\n    <tr>\n      <th>F</th>\n      <td>77.187404</td>\n      <td>64.873606</td>\n    </tr>\n    <tr>\n      <th>G</th>\n      <td>77.019846</td>\n      <td>64.625267</td>\n    </tr>\n    <tr>\n      <th>H</th>\n      <td>75.789998</td>\n      <td>63.757523</td>\n    </tr>\n    <tr>\n      <th>I</th>\n      <td>74.973753</td>\n      <td>62.992126</td>\n    </tr>\n    <tr>\n      <th>J</th>\n      <td>74.689264</td>\n      <td>62.630453</td>\n    </tr>\n    <tr>\n      <th>K</th>\n      <td>74.587555</td>\n      <td>62.666597</td>\n    </tr>\n    <tr>\n      <th>L</th>\n      <td>74.829467</td>\n      <td>62.761650</td>\n    </tr>\n    <tr>\n      <th>M</th>\n      <td>74.962425</td>\n      <td>62.755375</td>\n    </tr>\n    <tr>\n      <th>N</th>\n      <td>74.033721</td>\n      <td>61.980377</td>\n    </tr>\n    <tr>\n      <th>O</th>\n      <td>74.652480</td>\n      <td>62.484325</td>\n    </tr>\n    <tr>\n      <th>P</th>\n      <td>74.374309</td>\n      <td>62.471698</td>\n    </tr>\n    <tr>\n      <th>Q</th>\n      <td>73.379973</td>\n      <td>61.415953</td>\n    </tr>\n    <tr>\n      <th>R</th>\n      <td>72.840789</td>\n      <td>60.908083</td>\n    </tr>\n    <tr>\n      <th>S</th>\n      <td>76.101268</td>\n      <td>64.452070</td>\n    </tr>\n  </tbody>\n</table>\n</div>"
     },
     "execution_count": 49,
     "metadata": {},
     "output_type": "execute_result"
    }
   ],
   "source": [
    "regular_season_results_df[['season', 'wscore', 'lscore']].groupby('season').mean()"
   ],
   "metadata": {
    "collapsed": false
   }
  },
  {
   "cell_type": "code",
   "execution_count": 50,
   "outputs": [
    {
     "data": {
      "text/plain": "        wscore  lscore\nseason                \nA         77.0    65.0\nB         76.0    63.0\nC         76.0    64.0\nD         75.0    63.0\nE         76.0    64.0\nF         77.0    64.0\nG         77.0    64.0\nH         75.0    63.0\nI         75.0    63.0\nJ         74.0    62.0\nK         74.0    62.0\nL         74.0    63.0\nM         74.0    62.0\nN         73.0    62.0\nO         74.0    62.0\nP         74.0    62.0\nQ         73.0    61.0\nR         72.0    61.0\nS         75.0    64.0",
      "text/html": "<div>\n<style scoped>\n    .dataframe tbody tr th:only-of-type {\n        vertical-align: middle;\n    }\n\n    .dataframe tbody tr th {\n        vertical-align: top;\n    }\n\n    .dataframe thead th {\n        text-align: right;\n    }\n</style>\n<table border=\"1\" class=\"dataframe\">\n  <thead>\n    <tr style=\"text-align: right;\">\n      <th></th>\n      <th>wscore</th>\n      <th>lscore</th>\n    </tr>\n    <tr>\n      <th>season</th>\n      <th></th>\n      <th></th>\n    </tr>\n  </thead>\n  <tbody>\n    <tr>\n      <th>A</th>\n      <td>77.0</td>\n      <td>65.0</td>\n    </tr>\n    <tr>\n      <th>B</th>\n      <td>76.0</td>\n      <td>63.0</td>\n    </tr>\n    <tr>\n      <th>C</th>\n      <td>76.0</td>\n      <td>64.0</td>\n    </tr>\n    <tr>\n      <th>D</th>\n      <td>75.0</td>\n      <td>63.0</td>\n    </tr>\n    <tr>\n      <th>E</th>\n      <td>76.0</td>\n      <td>64.0</td>\n    </tr>\n    <tr>\n      <th>F</th>\n      <td>77.0</td>\n      <td>64.0</td>\n    </tr>\n    <tr>\n      <th>G</th>\n      <td>77.0</td>\n      <td>64.0</td>\n    </tr>\n    <tr>\n      <th>H</th>\n      <td>75.0</td>\n      <td>63.0</td>\n    </tr>\n    <tr>\n      <th>I</th>\n      <td>75.0</td>\n      <td>63.0</td>\n    </tr>\n    <tr>\n      <th>J</th>\n      <td>74.0</td>\n      <td>62.0</td>\n    </tr>\n    <tr>\n      <th>K</th>\n      <td>74.0</td>\n      <td>62.0</td>\n    </tr>\n    <tr>\n      <th>L</th>\n      <td>74.0</td>\n      <td>63.0</td>\n    </tr>\n    <tr>\n      <th>M</th>\n      <td>74.0</td>\n      <td>62.0</td>\n    </tr>\n    <tr>\n      <th>N</th>\n      <td>73.0</td>\n      <td>62.0</td>\n    </tr>\n    <tr>\n      <th>O</th>\n      <td>74.0</td>\n      <td>62.0</td>\n    </tr>\n    <tr>\n      <th>P</th>\n      <td>74.0</td>\n      <td>62.0</td>\n    </tr>\n    <tr>\n      <th>Q</th>\n      <td>73.0</td>\n      <td>61.0</td>\n    </tr>\n    <tr>\n      <th>R</th>\n      <td>72.0</td>\n      <td>61.0</td>\n    </tr>\n    <tr>\n      <th>S</th>\n      <td>75.0</td>\n      <td>64.0</td>\n    </tr>\n  </tbody>\n</table>\n</div>"
     },
     "execution_count": 50,
     "metadata": {},
     "output_type": "execute_result"
    }
   ],
   "source": [
    "regular_season_results_df[['season', 'wscore', 'lscore']].groupby('season').median()"
   ],
   "metadata": {
    "collapsed": false
   }
  },
  {
   "cell_type": "code",
   "execution_count": 51,
   "outputs": [
    {
     "name": "stderr",
     "output_type": "stream",
     "text": [
      "C:\\Users\\ivand\\AppData\\Local\\Temp\\ipykernel_6884\\2690284988.py:2: SettingWithCopyWarning: \n",
      "A value is trying to be set on a copy of a slice from a DataFrame.\n",
      "Try using .loc[row_indexer,col_indexer] = value instead\n",
      "\n",
      "See the caveats in the documentation: https://pandas.pydata.org/pandas-docs/stable/user_guide/indexing.html#returning-a-view-versus-a-copy\n",
      "  tmp_df['score_difference'] = tmp_df['wscore'] - tmp_df['lscore']\n"
     ]
    },
    {
     "data": {
      "text/plain": "      season  score_difference\n0          A                34\n1          A                 8\n2          A                20\n3          A                 8\n4          A                31\n...      ...               ...\n91219      S                 1\n91220      S                14\n91221      S                 4\n91222      S                 1\n91223      S                 9\n\n[91224 rows x 2 columns]",
      "text/html": "<div>\n<style scoped>\n    .dataframe tbody tr th:only-of-type {\n        vertical-align: middle;\n    }\n\n    .dataframe tbody tr th {\n        vertical-align: top;\n    }\n\n    .dataframe thead th {\n        text-align: right;\n    }\n</style>\n<table border=\"1\" class=\"dataframe\">\n  <thead>\n    <tr style=\"text-align: right;\">\n      <th></th>\n      <th>season</th>\n      <th>score_difference</th>\n    </tr>\n  </thead>\n  <tbody>\n    <tr>\n      <th>0</th>\n      <td>A</td>\n      <td>34</td>\n    </tr>\n    <tr>\n      <th>1</th>\n      <td>A</td>\n      <td>8</td>\n    </tr>\n    <tr>\n      <th>2</th>\n      <td>A</td>\n      <td>20</td>\n    </tr>\n    <tr>\n      <th>3</th>\n      <td>A</td>\n      <td>8</td>\n    </tr>\n    <tr>\n      <th>4</th>\n      <td>A</td>\n      <td>31</td>\n    </tr>\n    <tr>\n      <th>...</th>\n      <td>...</td>\n      <td>...</td>\n    </tr>\n    <tr>\n      <th>91219</th>\n      <td>S</td>\n      <td>1</td>\n    </tr>\n    <tr>\n      <th>91220</th>\n      <td>S</td>\n      <td>14</td>\n    </tr>\n    <tr>\n      <th>91221</th>\n      <td>S</td>\n      <td>4</td>\n    </tr>\n    <tr>\n      <th>91222</th>\n      <td>S</td>\n      <td>1</td>\n    </tr>\n    <tr>\n      <th>91223</th>\n      <td>S</td>\n      <td>9</td>\n    </tr>\n  </tbody>\n</table>\n<p>91224 rows × 2 columns</p>\n</div>"
     },
     "execution_count": 51,
     "metadata": {},
     "output_type": "execute_result"
    }
   ],
   "source": [
    "tmp_df = regular_season_results_df[['season', 'wscore', 'lscore']]\n",
    "tmp_df['score_difference'] = tmp_df['wscore'] - tmp_df['lscore']\n",
    "tmp_df = tmp_df[['season', 'score_difference']]\n",
    "tmp_df"
   ],
   "metadata": {
    "collapsed": false
   }
  },
  {
   "cell_type": "code",
   "execution_count": 52,
   "outputs": [
    {
     "data": {
      "text/plain": "        score_difference\nseason                  \nA              12.464953\nB              12.573133\nC              12.684161\nD              12.613007\nE              12.433730\nF              12.313798\nG              12.394580\nH              12.032475\nI              11.981627\nJ              12.058811\nK              11.920959\nL              12.067817\nM              12.207050\nN              12.053343\nO              12.168155\nP              11.902611\nQ              11.964021\nR              11.932707\nS              11.649198",
      "text/html": "<div>\n<style scoped>\n    .dataframe tbody tr th:only-of-type {\n        vertical-align: middle;\n    }\n\n    .dataframe tbody tr th {\n        vertical-align: top;\n    }\n\n    .dataframe thead th {\n        text-align: right;\n    }\n</style>\n<table border=\"1\" class=\"dataframe\">\n  <thead>\n    <tr style=\"text-align: right;\">\n      <th></th>\n      <th>score_difference</th>\n    </tr>\n    <tr>\n      <th>season</th>\n      <th></th>\n    </tr>\n  </thead>\n  <tbody>\n    <tr>\n      <th>A</th>\n      <td>12.464953</td>\n    </tr>\n    <tr>\n      <th>B</th>\n      <td>12.573133</td>\n    </tr>\n    <tr>\n      <th>C</th>\n      <td>12.684161</td>\n    </tr>\n    <tr>\n      <th>D</th>\n      <td>12.613007</td>\n    </tr>\n    <tr>\n      <th>E</th>\n      <td>12.433730</td>\n    </tr>\n    <tr>\n      <th>F</th>\n      <td>12.313798</td>\n    </tr>\n    <tr>\n      <th>G</th>\n      <td>12.394580</td>\n    </tr>\n    <tr>\n      <th>H</th>\n      <td>12.032475</td>\n    </tr>\n    <tr>\n      <th>I</th>\n      <td>11.981627</td>\n    </tr>\n    <tr>\n      <th>J</th>\n      <td>12.058811</td>\n    </tr>\n    <tr>\n      <th>K</th>\n      <td>11.920959</td>\n    </tr>\n    <tr>\n      <th>L</th>\n      <td>12.067817</td>\n    </tr>\n    <tr>\n      <th>M</th>\n      <td>12.207050</td>\n    </tr>\n    <tr>\n      <th>N</th>\n      <td>12.053343</td>\n    </tr>\n    <tr>\n      <th>O</th>\n      <td>12.168155</td>\n    </tr>\n    <tr>\n      <th>P</th>\n      <td>11.902611</td>\n    </tr>\n    <tr>\n      <th>Q</th>\n      <td>11.964021</td>\n    </tr>\n    <tr>\n      <th>R</th>\n      <td>11.932707</td>\n    </tr>\n    <tr>\n      <th>S</th>\n      <td>11.649198</td>\n    </tr>\n  </tbody>\n</table>\n</div>"
     },
     "execution_count": 52,
     "metadata": {},
     "output_type": "execute_result"
    }
   ],
   "source": [
    "tmp_df.groupby('season').mean()"
   ],
   "metadata": {
    "collapsed": false
   }
  },
  {
   "cell_type": "code",
   "execution_count": 53,
   "outputs": [
    {
     "data": {
      "text/plain": "        score_difference\nseason                  \nA                   10.0\nB                   10.0\nC                   11.0\nD                   10.0\nE                   10.0\nF                   10.0\nG                   10.0\nH                   10.0\nI                   10.0\nJ                   10.0\nK                   10.0\nL                   10.0\nM                   10.0\nN                   10.0\nO                   10.0\nP                   10.0\nQ                   10.0\nR                   10.0\nS                   10.0",
      "text/html": "<div>\n<style scoped>\n    .dataframe tbody tr th:only-of-type {\n        vertical-align: middle;\n    }\n\n    .dataframe tbody tr th {\n        vertical-align: top;\n    }\n\n    .dataframe thead th {\n        text-align: right;\n    }\n</style>\n<table border=\"1\" class=\"dataframe\">\n  <thead>\n    <tr style=\"text-align: right;\">\n      <th></th>\n      <th>score_difference</th>\n    </tr>\n    <tr>\n      <th>season</th>\n      <th></th>\n    </tr>\n  </thead>\n  <tbody>\n    <tr>\n      <th>A</th>\n      <td>10.0</td>\n    </tr>\n    <tr>\n      <th>B</th>\n      <td>10.0</td>\n    </tr>\n    <tr>\n      <th>C</th>\n      <td>11.0</td>\n    </tr>\n    <tr>\n      <th>D</th>\n      <td>10.0</td>\n    </tr>\n    <tr>\n      <th>E</th>\n      <td>10.0</td>\n    </tr>\n    <tr>\n      <th>F</th>\n      <td>10.0</td>\n    </tr>\n    <tr>\n      <th>G</th>\n      <td>10.0</td>\n    </tr>\n    <tr>\n      <th>H</th>\n      <td>10.0</td>\n    </tr>\n    <tr>\n      <th>I</th>\n      <td>10.0</td>\n    </tr>\n    <tr>\n      <th>J</th>\n      <td>10.0</td>\n    </tr>\n    <tr>\n      <th>K</th>\n      <td>10.0</td>\n    </tr>\n    <tr>\n      <th>L</th>\n      <td>10.0</td>\n    </tr>\n    <tr>\n      <th>M</th>\n      <td>10.0</td>\n    </tr>\n    <tr>\n      <th>N</th>\n      <td>10.0</td>\n    </tr>\n    <tr>\n      <th>O</th>\n      <td>10.0</td>\n    </tr>\n    <tr>\n      <th>P</th>\n      <td>10.0</td>\n    </tr>\n    <tr>\n      <th>Q</th>\n      <td>10.0</td>\n    </tr>\n    <tr>\n      <th>R</th>\n      <td>10.0</td>\n    </tr>\n    <tr>\n      <th>S</th>\n      <td>10.0</td>\n    </tr>\n  </tbody>\n</table>\n</div>"
     },
     "execution_count": 53,
     "metadata": {},
     "output_type": "execute_result"
    }
   ],
   "source": [
    "tmp_df.groupby('season').median()"
   ],
   "metadata": {
    "collapsed": false
   }
  },
  {
   "cell_type": "code",
   "execution_count": null,
   "outputs": [],
   "source": [],
   "metadata": {
    "collapsed": false
   }
  }
 ],
 "metadata": {
  "kernelspec": {
   "display_name": "Python 3",
   "language": "python",
   "name": "python3"
  },
  "language_info": {
   "codemirror_mode": {
    "name": "ipython",
    "version": 2
   },
   "file_extension": ".py",
   "mimetype": "text/x-python",
   "name": "python",
   "nbconvert_exporter": "python",
   "pygments_lexer": "ipython2",
   "version": "2.7.6"
  }
 },
 "nbformat": 4,
 "nbformat_minor": 0
}
